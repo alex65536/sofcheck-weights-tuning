{
 "cells": [
  {
   "cell_type": "markdown",
   "id": "convenient-firmware",
   "metadata": {},
   "source": [
    "Импортируем библиотеки:"
   ]
  },
  {
   "cell_type": "code",
   "execution_count": 1,
   "id": "another-syracuse",
   "metadata": {},
   "outputs": [],
   "source": [
    "import numpy as np\n",
    "import pandas as pd\n",
    "import torch\n",
    "import matplotlib.pyplot as plt\n",
    "\n",
    "from sklearn.model_selection import cross_val_score, train_test_split\n",
    "from sklearn.linear_model import LogisticRegression\n",
    "from sklearn.preprocessing import StandardScaler, MinMaxScaler\n",
    "from torch import nn\n",
    "from sklearn.feature_selection import SelectKBest\n",
    "\n",
    "%matplotlib inline"
   ]
  },
  {
   "cell_type": "markdown",
   "id": "operational-holocaust",
   "metadata": {},
   "source": [
    "Загружаем данные из CSV. Данные преобразовываются в CSV с помощью утилиты `make_dataset`, которая собирается вместе с `SoFCheck`'ом"
   ]
  },
  {
   "cell_type": "code",
   "execution_count": 2,
   "id": "apart-handle",
   "metadata": {},
   "outputs": [],
   "source": [
    "data = pd.read_csv('dataset.csv')"
   ]
  },
  {
   "cell_type": "code",
   "execution_count": 3,
   "id": "convertible-accommodation",
   "metadata": {},
   "outputs": [
    {
     "data": {
      "text/html": [
       "<div>\n",
       "<style scoped>\n",
       "    .dataframe tbody tr th:only-of-type {\n",
       "        vertical-align: middle;\n",
       "    }\n",
       "\n",
       "    .dataframe tbody tr th {\n",
       "        vertical-align: top;\n",
       "    }\n",
       "\n",
       "    .dataframe thead th {\n",
       "        text-align: right;\n",
       "    }\n",
       "</style>\n",
       "<table border=\"1\" class=\"dataframe\">\n",
       "  <thead>\n",
       "    <tr style=\"text-align: right;\">\n",
       "      <th></th>\n",
       "      <th>winner</th>\n",
       "      <th>game_id</th>\n",
       "      <th>board_total</th>\n",
       "      <th>board_left</th>\n",
       "      <th>psq.cost.0</th>\n",
       "      <th>psq.cost.1</th>\n",
       "      <th>psq.cost.2</th>\n",
       "      <th>psq.cost.3</th>\n",
       "      <th>psq.cost.4</th>\n",
       "      <th>psq.cost.5</th>\n",
       "      <th>...</th>\n",
       "      <th>pawn_candidate</th>\n",
       "      <th>pawn_open</th>\n",
       "      <th>pawn_protected</th>\n",
       "      <th>pawn_backward</th>\n",
       "      <th>king_pawn.shield.0</th>\n",
       "      <th>king_pawn.shield.1</th>\n",
       "      <th>king_pawn.shield.2</th>\n",
       "      <th>king_pawn.shield.3</th>\n",
       "      <th>king_pawn.shield.4</th>\n",
       "      <th>king_pawn.shield.5</th>\n",
       "    </tr>\n",
       "  </thead>\n",
       "  <tbody>\n",
       "    <tr>\n",
       "      <th>0</th>\n",
       "      <td>0.5</td>\n",
       "      <td>59122</td>\n",
       "      <td>162</td>\n",
       "      <td>139</td>\n",
       "      <td>0</td>\n",
       "      <td>0</td>\n",
       "      <td>0</td>\n",
       "      <td>0</td>\n",
       "      <td>0</td>\n",
       "      <td>0</td>\n",
       "      <td>...</td>\n",
       "      <td>0</td>\n",
       "      <td>256</td>\n",
       "      <td>0</td>\n",
       "      <td>0</td>\n",
       "      <td>0</td>\n",
       "      <td>235</td>\n",
       "      <td>235</td>\n",
       "      <td>235</td>\n",
       "      <td>0</td>\n",
       "      <td>0</td>\n",
       "    </tr>\n",
       "    <tr>\n",
       "      <th>1</th>\n",
       "      <td>0.0</td>\n",
       "      <td>73612</td>\n",
       "      <td>199</td>\n",
       "      <td>125</td>\n",
       "      <td>-256</td>\n",
       "      <td>0</td>\n",
       "      <td>0</td>\n",
       "      <td>0</td>\n",
       "      <td>0</td>\n",
       "      <td>0</td>\n",
       "      <td>...</td>\n",
       "      <td>0</td>\n",
       "      <td>-256</td>\n",
       "      <td>0</td>\n",
       "      <td>-256</td>\n",
       "      <td>0</td>\n",
       "      <td>0</td>\n",
       "      <td>0</td>\n",
       "      <td>0</td>\n",
       "      <td>0</td>\n",
       "      <td>0</td>\n",
       "    </tr>\n",
       "    <tr>\n",
       "      <th>2</th>\n",
       "      <td>0.0</td>\n",
       "      <td>25497</td>\n",
       "      <td>173</td>\n",
       "      <td>156</td>\n",
       "      <td>0</td>\n",
       "      <td>0</td>\n",
       "      <td>0</td>\n",
       "      <td>0</td>\n",
       "      <td>0</td>\n",
       "      <td>0</td>\n",
       "      <td>...</td>\n",
       "      <td>0</td>\n",
       "      <td>0</td>\n",
       "      <td>-512</td>\n",
       "      <td>0</td>\n",
       "      <td>-256</td>\n",
       "      <td>256</td>\n",
       "      <td>0</td>\n",
       "      <td>256</td>\n",
       "      <td>-256</td>\n",
       "      <td>0</td>\n",
       "    </tr>\n",
       "    <tr>\n",
       "      <th>3</th>\n",
       "      <td>1.0</td>\n",
       "      <td>78392</td>\n",
       "      <td>116</td>\n",
       "      <td>4</td>\n",
       "      <td>512</td>\n",
       "      <td>0</td>\n",
       "      <td>0</td>\n",
       "      <td>0</td>\n",
       "      <td>256</td>\n",
       "      <td>256</td>\n",
       "      <td>...</td>\n",
       "      <td>0</td>\n",
       "      <td>0</td>\n",
       "      <td>0</td>\n",
       "      <td>0</td>\n",
       "      <td>0</td>\n",
       "      <td>0</td>\n",
       "      <td>0</td>\n",
       "      <td>0</td>\n",
       "      <td>0</td>\n",
       "      <td>0</td>\n",
       "    </tr>\n",
       "    <tr>\n",
       "      <th>4</th>\n",
       "      <td>0.5</td>\n",
       "      <td>33722</td>\n",
       "      <td>128</td>\n",
       "      <td>38</td>\n",
       "      <td>-256</td>\n",
       "      <td>0</td>\n",
       "      <td>0</td>\n",
       "      <td>-256</td>\n",
       "      <td>256</td>\n",
       "      <td>0</td>\n",
       "      <td>...</td>\n",
       "      <td>0</td>\n",
       "      <td>-512</td>\n",
       "      <td>0</td>\n",
       "      <td>0</td>\n",
       "      <td>0</td>\n",
       "      <td>0</td>\n",
       "      <td>0</td>\n",
       "      <td>0</td>\n",
       "      <td>0</td>\n",
       "      <td>0</td>\n",
       "    </tr>\n",
       "    <tr>\n",
       "      <th>...</th>\n",
       "      <td>...</td>\n",
       "      <td>...</td>\n",
       "      <td>...</td>\n",
       "      <td>...</td>\n",
       "      <td>...</td>\n",
       "      <td>...</td>\n",
       "      <td>...</td>\n",
       "      <td>...</td>\n",
       "      <td>...</td>\n",
       "      <td>...</td>\n",
       "      <td>...</td>\n",
       "      <td>...</td>\n",
       "      <td>...</td>\n",
       "      <td>...</td>\n",
       "      <td>...</td>\n",
       "      <td>...</td>\n",
       "      <td>...</td>\n",
       "      <td>...</td>\n",
       "      <td>...</td>\n",
       "      <td>...</td>\n",
       "      <td>...</td>\n",
       "    </tr>\n",
       "    <tr>\n",
       "      <th>2999995</th>\n",
       "      <td>0.0</td>\n",
       "      <td>68843</td>\n",
       "      <td>141</td>\n",
       "      <td>59</td>\n",
       "      <td>-512</td>\n",
       "      <td>0</td>\n",
       "      <td>0</td>\n",
       "      <td>0</td>\n",
       "      <td>0</td>\n",
       "      <td>0</td>\n",
       "      <td>...</td>\n",
       "      <td>0</td>\n",
       "      <td>-256</td>\n",
       "      <td>-256</td>\n",
       "      <td>-256</td>\n",
       "      <td>0</td>\n",
       "      <td>0</td>\n",
       "      <td>0</td>\n",
       "      <td>0</td>\n",
       "      <td>0</td>\n",
       "      <td>0</td>\n",
       "    </tr>\n",
       "    <tr>\n",
       "      <th>2999996</th>\n",
       "      <td>0.0</td>\n",
       "      <td>48888</td>\n",
       "      <td>129</td>\n",
       "      <td>80</td>\n",
       "      <td>0</td>\n",
       "      <td>0</td>\n",
       "      <td>0</td>\n",
       "      <td>0</td>\n",
       "      <td>0</td>\n",
       "      <td>0</td>\n",
       "      <td>...</td>\n",
       "      <td>0</td>\n",
       "      <td>-256</td>\n",
       "      <td>-256</td>\n",
       "      <td>256</td>\n",
       "      <td>0</td>\n",
       "      <td>128</td>\n",
       "      <td>0</td>\n",
       "      <td>0</td>\n",
       "      <td>0</td>\n",
       "      <td>128</td>\n",
       "    </tr>\n",
       "    <tr>\n",
       "      <th>2999997</th>\n",
       "      <td>0.5</td>\n",
       "      <td>2035</td>\n",
       "      <td>213</td>\n",
       "      <td>106</td>\n",
       "      <td>-512</td>\n",
       "      <td>0</td>\n",
       "      <td>0</td>\n",
       "      <td>-256</td>\n",
       "      <td>256</td>\n",
       "      <td>0</td>\n",
       "      <td>...</td>\n",
       "      <td>0</td>\n",
       "      <td>0</td>\n",
       "      <td>0</td>\n",
       "      <td>0</td>\n",
       "      <td>0</td>\n",
       "      <td>0</td>\n",
       "      <td>0</td>\n",
       "      <td>0</td>\n",
       "      <td>0</td>\n",
       "      <td>0</td>\n",
       "    </tr>\n",
       "    <tr>\n",
       "      <th>2999998</th>\n",
       "      <td>1.0</td>\n",
       "      <td>64779</td>\n",
       "      <td>158</td>\n",
       "      <td>33</td>\n",
       "      <td>-512</td>\n",
       "      <td>0</td>\n",
       "      <td>0</td>\n",
       "      <td>0</td>\n",
       "      <td>256</td>\n",
       "      <td>0</td>\n",
       "      <td>...</td>\n",
       "      <td>0</td>\n",
       "      <td>0</td>\n",
       "      <td>0</td>\n",
       "      <td>-256</td>\n",
       "      <td>0</td>\n",
       "      <td>0</td>\n",
       "      <td>0</td>\n",
       "      <td>0</td>\n",
       "      <td>0</td>\n",
       "      <td>0</td>\n",
       "    </tr>\n",
       "    <tr>\n",
       "      <th>2999999</th>\n",
       "      <td>1.0</td>\n",
       "      <td>13985</td>\n",
       "      <td>132</td>\n",
       "      <td>86</td>\n",
       "      <td>0</td>\n",
       "      <td>0</td>\n",
       "      <td>256</td>\n",
       "      <td>-256</td>\n",
       "      <td>0</td>\n",
       "      <td>0</td>\n",
       "      <td>...</td>\n",
       "      <td>0</td>\n",
       "      <td>256</td>\n",
       "      <td>256</td>\n",
       "      <td>0</td>\n",
       "      <td>0</td>\n",
       "      <td>-192</td>\n",
       "      <td>0</td>\n",
       "      <td>0</td>\n",
       "      <td>0</td>\n",
       "      <td>0</td>\n",
       "    </tr>\n",
       "  </tbody>\n",
       "</table>\n",
       "<p>3000000 rows × 474 columns</p>\n",
       "</div>"
      ],
      "text/plain": [
       "         winner  game_id  board_total  board_left  psq.cost.0  psq.cost.1  \\\n",
       "0           0.5    59122          162         139           0           0   \n",
       "1           0.0    73612          199         125        -256           0   \n",
       "2           0.0    25497          173         156           0           0   \n",
       "3           1.0    78392          116           4         512           0   \n",
       "4           0.5    33722          128          38        -256           0   \n",
       "...         ...      ...          ...         ...         ...         ...   \n",
       "2999995     0.0    68843          141          59        -512           0   \n",
       "2999996     0.0    48888          129          80           0           0   \n",
       "2999997     0.5     2035          213         106        -512           0   \n",
       "2999998     1.0    64779          158          33        -512           0   \n",
       "2999999     1.0    13985          132          86           0           0   \n",
       "\n",
       "         psq.cost.2  psq.cost.3  psq.cost.4  psq.cost.5  ...  pawn_candidate  \\\n",
       "0                 0           0           0           0  ...               0   \n",
       "1                 0           0           0           0  ...               0   \n",
       "2                 0           0           0           0  ...               0   \n",
       "3                 0           0         256         256  ...               0   \n",
       "4                 0        -256         256           0  ...               0   \n",
       "...             ...         ...         ...         ...  ...             ...   \n",
       "2999995           0           0           0           0  ...               0   \n",
       "2999996           0           0           0           0  ...               0   \n",
       "2999997           0        -256         256           0  ...               0   \n",
       "2999998           0           0         256           0  ...               0   \n",
       "2999999         256        -256           0           0  ...               0   \n",
       "\n",
       "         pawn_open  pawn_protected  pawn_backward  king_pawn.shield.0  \\\n",
       "0              256               0              0                   0   \n",
       "1             -256               0           -256                   0   \n",
       "2                0            -512              0                -256   \n",
       "3                0               0              0                   0   \n",
       "4             -512               0              0                   0   \n",
       "...            ...             ...            ...                 ...   \n",
       "2999995       -256            -256           -256                   0   \n",
       "2999996       -256            -256            256                   0   \n",
       "2999997          0               0              0                   0   \n",
       "2999998          0               0           -256                   0   \n",
       "2999999        256             256              0                   0   \n",
       "\n",
       "         king_pawn.shield.1  king_pawn.shield.2  king_pawn.shield.3  \\\n",
       "0                       235                 235                 235   \n",
       "1                         0                   0                   0   \n",
       "2                       256                   0                 256   \n",
       "3                         0                   0                   0   \n",
       "4                         0                   0                   0   \n",
       "...                     ...                 ...                 ...   \n",
       "2999995                   0                   0                   0   \n",
       "2999996                 128                   0                   0   \n",
       "2999997                   0                   0                   0   \n",
       "2999998                   0                   0                   0   \n",
       "2999999                -192                   0                   0   \n",
       "\n",
       "         king_pawn.shield.4  king_pawn.shield.5  \n",
       "0                         0                   0  \n",
       "1                         0                   0  \n",
       "2                      -256                   0  \n",
       "3                         0                   0  \n",
       "4                         0                   0  \n",
       "...                     ...                 ...  \n",
       "2999995                   0                   0  \n",
       "2999996                   0                 128  \n",
       "2999997                   0                   0  \n",
       "2999998                   0                   0  \n",
       "2999999                   0                   0  \n",
       "\n",
       "[3000000 rows x 474 columns]"
      ]
     },
     "execution_count": 3,
     "metadata": {},
     "output_type": "execute_result"
    }
   ],
   "source": [
    "data"
   ]
  },
  {
   "cell_type": "code",
   "execution_count": 4,
   "id": "pressed-circular",
   "metadata": {},
   "outputs": [],
   "source": [
    "dv = data.values"
   ]
  },
  {
   "cell_type": "markdown",
   "id": "concerned-approval",
   "metadata": {},
   "source": [
    "Делим выборку на обучающую и тестовую. Деление осуществляем по `game_id`, чтобы позиции из одной игры не оказались в разных выборках."
   ]
  },
  {
   "cell_type": "code",
   "execution_count": 5,
   "id": "spare-discussion",
   "metadata": {},
   "outputs": [],
   "source": [
    "games = np.array([i+1 for i in range(data['game_id'].max())])\n",
    "\n",
    "games_train, games_test = train_test_split(games, test_size=0.1, shuffle=True)"
   ]
  },
  {
   "cell_type": "code",
   "execution_count": 6,
   "id": "handed-lodge",
   "metadata": {},
   "outputs": [],
   "source": [
    "train_set = set(games_train)\n",
    "test_set = set(games_test)\n",
    "\n",
    "is_train = np.vectorize(lambda x: x in train_set)\n",
    "is_test = np.vectorize(lambda x: x in test_set)\n",
    "\n",
    "dv_train = dv[is_train(dv[:,1])]\n",
    "dv_test = dv[is_test(dv[:,1])]"
   ]
  },
  {
   "cell_type": "code",
   "execution_count": 7,
   "id": "biblical-asbestos",
   "metadata": {},
   "outputs": [],
   "source": [
    "del data\n",
    "del dv"
   ]
  },
  {
   "cell_type": "code",
   "execution_count": 8,
   "id": "unlikely-former",
   "metadata": {},
   "outputs": [],
   "source": [
    "X = dv_train[:,4:]\n",
    "y = dv_train[:,0]\n",
    "w = dv_train[:,3]\n",
    "\n",
    "X_test = dv_test[:,4:]\n",
    "y_test = dv_test[:,0]\n",
    "w_test = dv_test[:,3]\n",
    "\n",
    "del dv_train\n",
    "del dv_test"
   ]
  },
  {
   "cell_type": "markdown",
   "id": "illegal-presence",
   "metadata": {},
   "source": [
    "Ищем разброс значений (т.е. $\\max - \\min$) каждого из признаков. Это нам понадобится в дальнейшем для масштабирования:"
   ]
  },
  {
   "cell_type": "code",
   "execution_count": 9,
   "id": "restricted-collins",
   "metadata": {},
   "outputs": [
    {
     "data": {
      "text/plain": [
       "array([3584.,  256., 1024., 1024., 1280., 1536.,  256.,  256.,  256.,\n",
       "        256.,  256.,  256.,  256.,  256.,  512.,  512.,  512.,  512.,\n",
       "        512.,  512.,  512.,  512.,  512.,  512.,  512.,  512.,  512.,\n",
       "        512.,  512.,  512.,  512.,  512.,  512.,  512.,  512.,  512.,\n",
       "        512.,  512.,  512.,  512.,  512.,  512.,  512.,  512.,  512.,\n",
       "        512.,  512.,  512.,  512.,  512.,  512.,  512.,  512.,  512.,\n",
       "        512.,  512.,  512.,  512.,  512.,  512.,  512.,  512.,  256.,\n",
       "        256.,  256.,  256.,  256.,  256.,  256.,  256.,  299.,  341.,\n",
       "        299.,  267.,  288.,  288.,  256.,  277.,  331.,  288.,  277.,\n",
       "        288.,  320.,  330.,  320.,  266.,  288.,  362.,  309.,  320.,\n",
       "        330.,  288.,  352.,  342.,  363.,  363.,  395.,  320.,  341.,\n",
       "        373.,  384.,  363.,  384.,  395.,  427.,  427.,  426.,  416.,\n",
       "        426.,  426.,  437.,  469.,  470.,  490.,  480.,  470.,  470.,\n",
       "        501.,  470.,  512.,  512.,  512.,  512.,  512.,  512.,  512.,\n",
       "        501.,  512.,  512.,  490.,  512.,  512.,  512.,  512.,  512.,\n",
       "        512.,  512.,  512.,  512.,  512.,  512.,  512.,  512.,  512.,\n",
       "        512.,  512.,  512.,  512.,  512.,  512.,  512.,  512.,  512.,\n",
       "        512.,  512.,  512.,  512.,  512.,  512.,  512.,  512.,  512.,\n",
       "        512.,  512.,  512.,  512.,  512.,  512.,  512.,  512.,  512.,\n",
       "        512.,  512.,  512.,  512.,  512.,  512.,  512.,  512.,  512.,\n",
       "        512.,  512.,  512.,  512.,  512.,  512.,  512.,  512.,  512.,\n",
       "        512.,  512.,  512.,  512.,  512.,  512.,  512.,  512.,  512.,\n",
       "        512.,  512.,  512.,  512.,  512.,  512.,  512.,  512.,  512.,\n",
       "        512.,  512.,  512.,  512.,  512.,  512.,  512.,  512.,  512.,\n",
       "        512.,  512.,  512.,  512.,  512.,  512.,  512.,  512.,  512.,\n",
       "        512.,  512.,  512.,  512.,  512.,  512.,  512.,  512.,  512.,\n",
       "        512.,  512.,  512.,  512.,  512.,  512.,  512.,  512.,  512.,\n",
       "        512.,  512.,  512.,  512.,  512.,  512.,  512.,  512.,  512.,\n",
       "        512.,  512.,  512.,  512.,  512.,  512.,  512.,  512.,  512.,\n",
       "        512.,  512.,  512.,  512.,  512.,  512.,  512.,  512.,  512.,\n",
       "        512.,  512.,  512.,  512.,  512.,  512.,  512.,  512.,  512.,\n",
       "        512.,  512.,  512.,  512.,  512.,  512.,  512.,  512.,  512.,\n",
       "        512.,  512.,  512.,  512.,  512.,  512.,  512.,  512.,  512.,\n",
       "        512.,  512.,  512.,  512.,  512.,  512.,  512.,  512.,  512.,\n",
       "        512.,  512.,  512.,  512.,  512.,  512.,  512.,  512.,  512.,\n",
       "        512.,  512.,  512.,  512.,  512.,  512.,  512.,  512.,  512.,\n",
       "        512.,  512.,  512.,  512.,  512.,  512.,  512.,  512.,  512.,\n",
       "        512.,  512.,  512.,  512.,  512.,  512.,  512.,  512.,  512.,\n",
       "        512.,  512.,  512.,  512.,  512.,  512.,  512.,  512.,  512.,\n",
       "        512.,  512.,  512.,  512.,  512.,  512.,  512.,  512.,  512.,\n",
       "        512.,  512.,  512.,  512.,  512.,  512.,  512.,  512.,  512.,\n",
       "        512.,  512.,  512.,  512.,  512.,  512.,  512.,  512.,  512.,\n",
       "        512.,  512.,  512.,  512.,  512.,  512.,  512.,  512.,  512.,\n",
       "        512.,  512.,  512.,  512.,  512.,  512.,  512.,  512.,  512.,\n",
       "        512.,  512.,  512.,  512.,  512.,  512.,  512.,  512.,  512.,\n",
       "        512.,  512.,  512.,  512.,  512.,  512.,  512.,  512.,  512.,\n",
       "        512.,  512.,  512.,  512.,  512.,  512.,  512.,  512.,  512.,\n",
       "        512.,  512.,  512.,  512.,  512.,  512.,  512.,  512.,  512.,\n",
       "        512.,  512.,  512.,  512.,  512.,  512.,  512.,  512.,  512.,\n",
       "        512.,  512.,  512.,  512.,  512.,  512.,  512.,  512.,  512.,\n",
       "        512.,  512.,  512.,  512., 4352., 5120.,  512., 3584., 3072.,\n",
       "       3584., 1792., 2048., 2816., 2304.,  512.,  512.,  512.,  512.,\n",
       "        512.,  512.])"
      ]
     },
     "execution_count": 9,
     "metadata": {},
     "output_type": "execute_result"
    }
   ],
   "source": [
    "std = np.max(X, axis=0) - np.min(X, axis=0)\n",
    "std = np.maximum(np.min(std[std > 1e-9]), std)  # чтобы не допустить деления на ноль в дальнейшем\n",
    "std"
   ]
  },
  {
   "cell_type": "markdown",
   "id": "rough-shift",
   "metadata": {},
   "source": [
    "Масштабируем признаки:"
   ]
  },
  {
   "cell_type": "code",
   "execution_count": 10,
   "id": "played-conditions",
   "metadata": {},
   "outputs": [],
   "source": [
    "X /= std\n",
    "X_test /= std"
   ]
  },
  {
   "cell_type": "markdown",
   "id": "informed-services",
   "metadata": {},
   "source": [
    "Создаем нашу модель. Здесь используется модель, описанная [на Хабре](https://habr.com/ru/post/305604/), только мы не пишем градиентный спуск руками, а используем силу PyTorch"
   ]
  },
  {
   "cell_type": "code",
   "execution_count": 11,
   "id": "latter-apollo",
   "metadata": {},
   "outputs": [],
   "source": [
    "model = nn.Sequential()\n",
    "model.add_module('linear', nn.Linear(X.shape[1], 1, bias=False))\n",
    "model.add_module('sigmoid', nn.Sigmoid())"
   ]
  },
  {
   "cell_type": "code",
   "execution_count": 12,
   "id": "legal-attack",
   "metadata": {},
   "outputs": [],
   "source": [
    "opt = torch.optim.Adam(model.parameters(), lr=0.01)"
   ]
  },
  {
   "cell_type": "markdown",
   "id": "allied-lancaster",
   "metadata": {},
   "source": [
    "Определяем функцию потерь:"
   ]
  },
  {
   "cell_type": "code",
   "execution_count": 13,
   "id": "studied-tablet",
   "metadata": {},
   "outputs": [],
   "source": [
    "def get_loss(model, X, y, w, C=0.0):\n",
    "    w = np.exp(-w / 32.)\n",
    "    y_pred = model(X)[:, 0]\n",
    "    assert y_pred.dim() == 1\n",
    "    loss = torch.sum(w * ((y - y_pred) ** 2)) / torch.sum(w)\n",
    "    loss += C * torch.norm(model.linear.weight, 2)\n",
    "    return loss"
   ]
  },
  {
   "cell_type": "markdown",
   "id": "increased-dress",
   "metadata": {},
   "source": [
    "Обучаем, пока не сойдется функция потерь. Для этого может быть полезно запустить ячейку несколько раз. А может быть, ее стоит остановить раньше."
   ]
  },
  {
   "cell_type": "code",
   "execution_count": 14,
   "id": "narrative-poker",
   "metadata": {
    "scrolled": false
   },
   "outputs": [
    {
     "name": "stdout",
     "output_type": "stream",
     "text": [
      "step #0, train_loss = 0.1636, test_loss = 0.1619\n",
      "step #100, train_loss = 0.0919, test_loss = 0.0864\n",
      "step #200, train_loss = 0.0754, test_loss = 0.0735\n",
      "step #300, train_loss = 0.0688, test_loss = 0.0677\n",
      "step #400, train_loss = 0.0655, test_loss = 0.0645\n",
      "step #500, train_loss = 0.0635, test_loss = 0.0625\n",
      "step #600, train_loss = 0.0616, test_loss = 0.0611\n",
      "step #700, train_loss = 0.0607, test_loss = 0.0601\n",
      "step #800, train_loss = 0.0602, test_loss = 0.0594\n",
      "step #900, train_loss = 0.0595, test_loss = 0.0588\n",
      "step #1000, train_loss = 0.0589, test_loss = 0.0584\n",
      "step #1100, train_loss = 0.0588, test_loss = 0.0580\n",
      "step #1200, train_loss = 0.0585, test_loss = 0.0576\n",
      "step #1300, train_loss = 0.0582, test_loss = 0.0574\n",
      "step #1400, train_loss = 0.0579, test_loss = 0.0571\n",
      "step #1500, train_loss = 0.0579, test_loss = 0.0570\n",
      "step #1600, train_loss = 0.0574, test_loss = 0.0568\n",
      "step #1700, train_loss = 0.0573, test_loss = 0.0567\n",
      "step #1800, train_loss = 0.0575, test_loss = 0.0566\n",
      "step #1900, train_loss = 0.0573, test_loss = 0.0566\n",
      "step #2000, train_loss = 0.0574, test_loss = 0.0564\n",
      "step #2100, train_loss = 0.0575, test_loss = 0.0564\n",
      "step #2200, train_loss = 0.0571, test_loss = 0.0563\n",
      "step #2300, train_loss = 0.0572, test_loss = 0.0562\n",
      "step #2400, train_loss = 0.0573, test_loss = 0.0561\n",
      "step #2500, train_loss = 0.0570, test_loss = 0.0561\n",
      "step #2600, train_loss = 0.0570, test_loss = 0.0561\n",
      "step #2700, train_loss = 0.0572, test_loss = 0.0561\n",
      "step #2800, train_loss = 0.0569, test_loss = 0.0560\n",
      "step #2900, train_loss = 0.0568, test_loss = 0.0560\n",
      "step #3000, train_loss = 0.0571, test_loss = 0.0560\n",
      "step #3100, train_loss = 0.0566, test_loss = 0.0560\n",
      "step #3200, train_loss = 0.0569, test_loss = 0.0559\n",
      "step #3300, train_loss = 0.0568, test_loss = 0.0559\n",
      "step #3400, train_loss = 0.0569, test_loss = 0.0559\n",
      "step #3500, train_loss = 0.0568, test_loss = 0.0559\n",
      "step #3600, train_loss = 0.0569, test_loss = 0.0559\n",
      "step #3700, train_loss = 0.0567, test_loss = 0.0559\n",
      "step #3800, train_loss = 0.0567, test_loss = 0.0559\n",
      "step #3900, train_loss = 0.0567, test_loss = 0.0559\n",
      "step #4000, train_loss = 0.0569, test_loss = 0.0559\n",
      "step #4100, train_loss = 0.0568, test_loss = 0.0558\n",
      "step #4200, train_loss = 0.0567, test_loss = 0.0558\n",
      "step #4300, train_loss = 0.0568, test_loss = 0.0558\n",
      "step #4400, train_loss = 0.0566, test_loss = 0.0558\n",
      "step #4500, train_loss = 0.0568, test_loss = 0.0558\n",
      "step #4600, train_loss = 0.0566, test_loss = 0.0558\n",
      "step #4700, train_loss = 0.0569, test_loss = 0.0558\n",
      "step #4800, train_loss = 0.0563, test_loss = 0.0558\n",
      "step #4900, train_loss = 0.0567, test_loss = 0.0558\n",
      "step #5000, train_loss = 0.0566, test_loss = 0.0558\n",
      "step #5100, train_loss = 0.0566, test_loss = 0.0558\n",
      "step #5200, train_loss = 0.0566, test_loss = 0.0558\n",
      "step #5300, train_loss = 0.0567, test_loss = 0.0558\n",
      "step #5400, train_loss = 0.0569, test_loss = 0.0558\n",
      "step #5500, train_loss = 0.0566, test_loss = 0.0558\n",
      "step #5600, train_loss = 0.0567, test_loss = 0.0558\n",
      "step #5700, train_loss = 0.0565, test_loss = 0.0558\n",
      "step #5800, train_loss = 0.0567, test_loss = 0.0559\n",
      "step #5900, train_loss = 0.0566, test_loss = 0.0558\n"
     ]
    }
   ],
   "source": [
    "C = 3e-5\n",
    "\n",
    "history = []\n",
    "\n",
    "for i in range(6000):\n",
    "    # собираем батч\n",
    "    indices = np.random.randint(0, X.shape[0], 16000)\n",
    "    X_batch = torch.tensor(X[indices], dtype=torch.float32)\n",
    "    y_batch = torch.tensor(y[indices], dtype=torch.float32)\n",
    "    w_batch = torch.tensor(w[indices], dtype=torch.float32)\n",
    "    \n",
    "    # считаем функцию потерь\n",
    "    loss = get_loss(model, X_batch, y_batch, w_batch, C=C)\n",
    "\n",
    "    loss.backward()\n",
    "    \n",
    "    # надо раскомментить, если хочется менять только короля\n",
    "    # model.linear.weight.grad[0, 0:6+64] = 0\n",
    "    # model.linear.weight.grad[0, 6+64:6+384] = 0\n",
    "    # model.linear.weight.grad[0, 6+448:] = 0\n",
    "    \n",
    "    # оптимизируем\n",
    "    opt.step()\n",
    "    opt.zero_grad()\n",
    "\n",
    "    history.append(loss.data.numpy())\n",
    "\n",
    "    # выводим результаты\n",
    "    if i % 100 == 0:\n",
    "        test_loss = get_loss(model,\n",
    "            torch.tensor(X_test, dtype=torch.float32),\n",
    "            torch.tensor(y_test, dtype=torch.float32),\n",
    "            torch.tensor(w_test, dtype=torch.float32),\n",
    "            C=0.0).detach().numpy().sum()\n",
    "        train_loss = np.mean(history[-40:])\n",
    "        print(f\"step #{i}, train_loss = {train_loss:.4f}, test_loss = {test_loss:.4f}\")"
   ]
  },
  {
   "cell_type": "markdown",
   "id": "adopted-example",
   "metadata": {},
   "source": [
    "Смотрим на итоговое значение функции потерь на тестовом датасете:"
   ]
  },
  {
   "cell_type": "code",
   "execution_count": 15,
   "id": "permanent-asthma",
   "metadata": {},
   "outputs": [
    {
     "data": {
      "text/plain": [
       "0.055755775"
      ]
     },
     "execution_count": 15,
     "metadata": {},
     "output_type": "execute_result"
    }
   ],
   "source": [
    "test_loss = get_loss(model,\n",
    "                     torch.tensor(X_test, dtype=torch.float32),\n",
    "                     torch.tensor(y_test, dtype=torch.float32),\n",
    "                     torch.tensor(w_test, dtype=torch.float32)).detach().numpy().sum()\n",
    "test_loss"
   ]
  },
  {
   "cell_type": "markdown",
   "id": "lonely-computer",
   "metadata": {},
   "source": [
    "Ради интереса посмотрим на вероятности, которые предсказывает модель для каких-то $20$ соседних примеров тестовой выборки:"
   ]
  },
  {
   "cell_type": "code",
   "execution_count": 16,
   "id": "intermediate-dragon",
   "metadata": {},
   "outputs": [
    {
     "name": "stdout",
     "output_type": "stream",
     "text": [
      "tensor([0.5250, 0.9312, 0.6209, 0.5502, 0.8380, 0.5755, 0.2940, 0.1930, 0.6258,\n",
      "        0.6274, 0.6658, 0.3043, 0.9999, 0.6369, 0.6405, 0.4452, 0.0643, 0.6232,\n",
      "        0.4449, 0.6234], grad_fn=<SliceBackward>) [0.  1.  1.  0.  1.  0.5 1.  0.  0.  1.  0.5 1.  1.  1.  0.5 0.  0.  1.\n",
      " 1.  1. ]\n"
     ]
    }
   ],
   "source": [
    "res = model(torch.tensor(X_test, dtype=torch.float32))[:, 0]\n",
    "\n",
    "print(res[450:470], y_test[450:470])"
   ]
  },
  {
   "cell_type": "markdown",
   "id": "imperial-power",
   "metadata": {},
   "source": [
    "Теперь было бы неплохо преобразовать веса модели в коэффициенты, которые мы будем использовать в шахматной программе. Для этого нормируем таблицы фигура-поле так, чтобы медианное значение занулилось. Затем умножим все веса на одно и то же число так, чтобы стоимость пешки была равна `100` (т. е. одной пешке)"
   ]
  },
  {
   "cell_type": "code",
   "execution_count": 17,
   "id": "sought-carol",
   "metadata": {},
   "outputs": [
    {
     "name": "stdout",
     "output_type": "stream",
     "text": [
      "[ 100    0  340  370  589 1059    0    0    0    0    0    0    0    0\n",
      "  161  198  205  137  152  159  173  147   96   93   72   62   54   69\n",
      "   78   74   22   18   -4    1   16    8    7    8   -8   -7  -12   -9\n",
      "  -13    0   -7  -10  -11  -12  -13  -20  -13  -10  -10  -17  -10   -9\n",
      "  -12  -47  -19    0   -1  -22    0    0    0    0    0    0    0    0\n",
      "  199  220   64  185  129   97  138 -108  111  -81   19 -294   29    8\n",
      "   -8 -188  -90 -130 -238 -284 -276 -106  -81 -197  -57  -21 -142 -156\n",
      "  -71  -90  -96 -101   49   67  127   39   31   62  -10  -93    2   54\n",
      "   69   98   47   47    0  -20   18   -5   27   23   17   33   69  110\n",
      " -162   -3   73  -43   51  -65   10   23  -75  -11   16   11  -20  -35\n",
      "  -24  -88  -31    5   15   21   36   22    3  -68    0   13   33   30\n",
      "   50   43   50  -14  -15    0   42   57   47   64   46   23  -38   -6\n",
      "   21   18   39   37   37   22  -70  -24   -6    8   29   23    0  -13\n",
      "  -60  -40   -9   -4  -10   -4   -7    6 -142  -73  -26  -37  -25  -17\n",
      "   -2  -72  -18   -1   -6    7   11   -4    3  -19  -53    0   -2   17\n",
      "   14    5  -18  -57  -25  -20   20   22   36   50    8   43  -27    1\n",
      "   17   30   23   20   11   -4  -19   10    8   18   22   12   -3   34\n",
      "  -24   25   -1   10    0   10    5    6  -25  -22   10  -22  -12  -10\n",
      "   14  -38  -22  -17  -46  -29  -16  -28  -43  -20   -1   12   17   17\n",
      "   18   20   10    9   21   29   23   37   20   40   26   18   20   17\n",
      "   16   18  -16   13    4    6    4    8   11    3    3   13   -6   -4\n",
      "  -15   -8    2    3   -9   -8  -10  -32   -3  -10  -24  -18  -15  -21\n",
      "    2   -7  -14  -20  -33  -31  -19  -17    1  -35  -43  -30  -26  -24\n",
      "  -10  -35  -19  -31   -6   11   24   15   -2  -33    5  -37  -57  -32\n",
      "   24    4   -3  -35    5  -19  -45  -25   11   23   -4   10  -18    0\n",
      "  -33   -7   17    7   25   10   22   12  -13    7   23   40   37   47\n",
      "   35   25  -35  -25    0   14   32   31   36   16  -20  -15    7    5\n",
      "   20    0  -17  -25  -43  -65   -4  -10  -19  -72  -89  -88 -171  -54\n",
      "  -40   -5    0   51   11 -101  -21  -26    9   13   46   72  120   60\n",
      "   33   56    1   62   66  101  113   58    8   25   21   35   43   51\n",
      "   69   38  -39  -18   -9   -1    2    3    2   11  -50  -23  -27  -17\n",
      "  -10  -17  -15  -13  -21  -11  -16  -20  -15  -20  -25  -65   13  -30\n",
      "  -43  -40  -76  -17  -60  -82   30    2   39  -10   -8   37    6  -11\n",
      "    5   -4   34   80   12   47   68   -1]\n"
     ]
    }
   ],
   "source": [
    "ws = (model.linear.weight[0]).detach().numpy() / std\n",
    "for p in [0, 2, 3, 4, 5]:\n",
    "    left = 6 + 64 * p\n",
    "    right = 6 + 64 * (p + 1)\n",
    "    if p == 0:\n",
    "        # верхний и нижний ряд у пешки не используется, не обращаем на него внимание\n",
    "        left += 8\n",
    "        right -= 8\n",
    "    m = np.median(ws[left:right])\n",
    "    ws[left:right] -= m\n",
    "    ws[p] += m\n",
    "\n",
    "ww = (ws / ws[0] * 100).astype(np.int32)\n",
    "print(ww)"
   ]
  },
  {
   "cell_type": "markdown",
   "id": "international-begin",
   "metadata": {},
   "source": [
    "Эти веса уже можно скопировать, вставить в утилиту `apply_weigths` и использовать в `SoFCheck`'е.\n",
    "\n",
    "Далее визуализируем полученные веса:"
   ]
  },
  {
   "cell_type": "code",
   "execution_count": 18,
   "id": "changed-reply",
   "metadata": {},
   "outputs": [],
   "source": [
    "def display_mat(mat):\n",
    "    plt.matshow(mat)\n",
    "    for (x, y), value in np.ndenumerate(mat):\n",
    "        plt.text(y, x, f\"{value}\", va=\"center\", ha=\"center\")"
   ]
  },
  {
   "cell_type": "markdown",
   "id": "adverse-phone",
   "metadata": {},
   "source": [
    "Стоимости фигур:"
   ]
  },
  {
   "cell_type": "code",
   "execution_count": 19,
   "id": "overall-carter",
   "metadata": {},
   "outputs": [
    {
     "data": {
      "text/plain": [
       "array([ 100,    0,  340,  370,  589, 1059], dtype=int32)"
      ]
     },
     "execution_count": 19,
     "metadata": {},
     "output_type": "execute_result"
    }
   ],
   "source": [
    "ww[:6]"
   ]
  },
  {
   "cell_type": "markdown",
   "id": "particular-burton",
   "metadata": {},
   "source": [
    "Таблицы фигура-поле для пешки:"
   ]
  },
  {
   "cell_type": "code",
   "execution_count": 20,
   "id": "plain-anthony",
   "metadata": {},
   "outputs": [
    {
     "data": {
      "image/png": "[encoded data removed]",
      "text/plain": [
       "<Figure size 288x288 with 1 Axes>"
      ]
     },
     "metadata": {
      "needs_background": "light"
     },
     "output_type": "display_data"
    }
   ],
   "source": [
    "display_mat(ww[6:6+64].reshape(8, 8))"
   ]
  },
  {
   "cell_type": "markdown",
   "id": "available-representative",
   "metadata": {},
   "source": [
    "Таблицы фигура-поле для короля в миттельшпиле:"
   ]
  },
  {
   "cell_type": "code",
   "execution_count": null,
   "id": "federal-brave",
   "metadata": {},
   "outputs": [],
   "source": [
    "display_mat(ww[6+64:6+128].reshape(8, 8))"
   ]
  },
  {
   "cell_type": "markdown",
   "id": "constant-division",
   "metadata": {},
   "source": [
    "Таблицы фигура-поле для коня:"
   ]
  },
  {
   "cell_type": "code",
   "execution_count": null,
   "id": "separate-safety",
   "metadata": {},
   "outputs": [],
   "source": [
    "display_mat(ww[6+128:6+192].reshape(8, 8))"
   ]
  },
  {
   "cell_type": "markdown",
   "id": "advised-charm",
   "metadata": {},
   "source": [
    "Таблицы фигура-поле для слона:"
   ]
  },
  {
   "cell_type": "code",
   "execution_count": null,
   "id": "adaptive-salvation",
   "metadata": {},
   "outputs": [],
   "source": [
    "display_mat(ww[6+192:6+256].reshape(8, 8))"
   ]
  },
  {
   "cell_type": "markdown",
   "id": "advanced-joshua",
   "metadata": {},
   "source": [
    "Таблицы фигура-поле для ладьи:"
   ]
  },
  {
   "cell_type": "code",
   "execution_count": null,
   "id": "recognized-pierre",
   "metadata": {},
   "outputs": [],
   "source": [
    "display_mat(ww[6+256:6+320].reshape(8, 8))"
   ]
  },
  {
   "cell_type": "markdown",
   "id": "apparent-burlington",
   "metadata": {},
   "source": [
    "Таблицы фигура-поле для ферзя:"
   ]
  },
  {
   "cell_type": "code",
   "execution_count": null,
   "id": "leading-assist",
   "metadata": {},
   "outputs": [],
   "source": [
    "display_mat(ww[6+320:6+384].reshape(8, 8))"
   ]
  },
  {
   "cell_type": "markdown",
   "id": "corporate-august",
   "metadata": {},
   "source": [
    "Таблицы фигура-поле для короля в эндшпиле:"
   ]
  },
  {
   "cell_type": "code",
   "execution_count": null,
   "id": "alien-contractor",
   "metadata": {},
   "outputs": [],
   "source": [
    "display_mat(ww[6+384:6+448].reshape(8, 8))"
   ]
  },
  {
   "cell_type": "markdown",
   "id": "through-freedom",
   "metadata": {},
   "source": [
    "Стоимость фигур, близких к вражескому королю, и стоимость двух слонов:"
   ]
  },
  {
   "cell_type": "code",
   "execution_count": null,
   "id": "effective-decline",
   "metadata": {},
   "outputs": [],
   "source": [
    "ww[454], ww[455], ww[456]"
   ]
  },
  {
   "cell_type": "markdown",
   "id": "greatest-following",
   "metadata": {},
   "source": [
    "Стоимость пешек: изолированная, двойная, проходная:"
   ]
  },
  {
   "cell_type": "code",
   "execution_count": null,
   "id": "adolescent-breath",
   "metadata": {},
   "outputs": [],
   "source": [
    "ww[456], ww[457], ww[458]"
   ]
  }
 ],
 "metadata": {
  "kernelspec": {
   "display_name": "Python 3",
   "language": "python",
   "name": "python3"
  },
  "language_info": {
   "codemirror_mode": {
    "name": "ipython",
    "version": 3
   },
   "file_extension": ".py",
   "mimetype": "text/x-python",
   "name": "python",
   "nbconvert_exporter": "python",
   "pygments_lexer": "ipython3",
   "version": "3.8.10"
  }
 },
 "nbformat": 4,
 "nbformat_minor": 5
}
