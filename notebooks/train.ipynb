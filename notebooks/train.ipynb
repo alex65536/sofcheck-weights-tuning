{
 "cells": [
  {
   "cell_type": "markdown",
   "id": "convenient-firmware",
   "metadata": {},
   "source": [
    "Импортируем библиотеки:"
   ]
  },
  {
   "cell_type": "code",
   "execution_count": 1,
   "id": "another-syracuse",
   "metadata": {},
   "outputs": [],
   "source": [
    "import numpy as np\n",
    "import pandas as pd\n",
    "import torch\n",
    "import matplotlib.pyplot as plt\n",
    "\n",
    "from sklearn.model_selection import cross_val_score, train_test_split\n",
    "from sklearn.linear_model import LogisticRegression\n",
    "from sklearn.preprocessing import StandardScaler, MinMaxScaler\n",
    "from torch import nn\n",
    "from sklearn.feature_selection import SelectKBest\n",
    "\n",
    "%matplotlib inline"
   ]
  },
  {
   "cell_type": "markdown",
   "id": "operational-holocaust",
   "metadata": {},
   "source": [
    "Загружаем данные из CSV. Данные преобразовываются в CSV с помощью утилиты `make_dataset`, которая собирается вместе с `SoFCheck`'ом"
   ]
  },
  {
   "cell_type": "code",
   "execution_count": 2,
   "id": "apart-handle",
   "metadata": {},
   "outputs": [],
   "source": [
    "data = pd.read_csv('dataset.csv')"
   ]
  },
  {
   "cell_type": "code",
   "execution_count": 3,
   "id": "convertible-accommodation",
   "metadata": {},
   "outputs": [
    {
     "data": {
      "text/html": [
       "<div>\n",
       "<style scoped>\n",
       "    .dataframe tbody tr th:only-of-type {\n",
       "        vertical-align: middle;\n",
       "    }\n",
       "\n",
       "    .dataframe tbody tr th {\n",
       "        vertical-align: top;\n",
       "    }\n",
       "\n",
       "    .dataframe thead th {\n",
       "        text-align: right;\n",
       "    }\n",
       "</style>\n",
       "<table border=\"1\" class=\"dataframe\">\n",
       "  <thead>\n",
       "    <tr style=\"text-align: right;\">\n",
       "      <th></th>\n",
       "      <th>winner</th>\n",
       "      <th>game_id</th>\n",
       "      <th>board_total</th>\n",
       "      <th>board_left</th>\n",
       "      <th>psq.cost.0</th>\n",
       "      <th>psq.cost.1</th>\n",
       "      <th>psq.cost.2</th>\n",
       "      <th>psq.cost.3</th>\n",
       "      <th>psq.cost.4</th>\n",
       "      <th>psq.cost.5</th>\n",
       "      <th>...</th>\n",
       "      <th>pawn_candidate</th>\n",
       "      <th>pawn_open</th>\n",
       "      <th>pawn_protected</th>\n",
       "      <th>pawn_backward</th>\n",
       "      <th>king_shield.0</th>\n",
       "      <th>king_shield.1</th>\n",
       "      <th>king_shield.2</th>\n",
       "      <th>king_shield.3</th>\n",
       "      <th>king_shield.4</th>\n",
       "      <th>king_shield.5</th>\n",
       "    </tr>\n",
       "  </thead>\n",
       "  <tbody>\n",
       "    <tr>\n",
       "      <th>0</th>\n",
       "      <td>1.0</td>\n",
       "      <td>64808</td>\n",
       "      <td>144</td>\n",
       "      <td>84</td>\n",
       "      <td>256</td>\n",
       "      <td>0</td>\n",
       "      <td>0</td>\n",
       "      <td>-256</td>\n",
       "      <td>256</td>\n",
       "      <td>0</td>\n",
       "      <td>...</td>\n",
       "      <td>0</td>\n",
       "      <td>256</td>\n",
       "      <td>256</td>\n",
       "      <td>0</td>\n",
       "      <td>160</td>\n",
       "      <td>-160</td>\n",
       "      <td>-160</td>\n",
       "      <td>0</td>\n",
       "      <td>160</td>\n",
       "      <td>0</td>\n",
       "    </tr>\n",
       "    <tr>\n",
       "      <th>1</th>\n",
       "      <td>0.0</td>\n",
       "      <td>88564</td>\n",
       "      <td>113</td>\n",
       "      <td>79</td>\n",
       "      <td>0</td>\n",
       "      <td>0</td>\n",
       "      <td>0</td>\n",
       "      <td>0</td>\n",
       "      <td>0</td>\n",
       "      <td>0</td>\n",
       "      <td>...</td>\n",
       "      <td>0</td>\n",
       "      <td>0</td>\n",
       "      <td>0</td>\n",
       "      <td>0</td>\n",
       "      <td>-256</td>\n",
       "      <td>0</td>\n",
       "      <td>-256</td>\n",
       "      <td>0</td>\n",
       "      <td>-256</td>\n",
       "      <td>0</td>\n",
       "    </tr>\n",
       "    <tr>\n",
       "      <th>2</th>\n",
       "      <td>0.5</td>\n",
       "      <td>73859</td>\n",
       "      <td>141</td>\n",
       "      <td>52</td>\n",
       "      <td>0</td>\n",
       "      <td>0</td>\n",
       "      <td>0</td>\n",
       "      <td>0</td>\n",
       "      <td>0</td>\n",
       "      <td>0</td>\n",
       "      <td>...</td>\n",
       "      <td>0</td>\n",
       "      <td>0</td>\n",
       "      <td>-256</td>\n",
       "      <td>0</td>\n",
       "      <td>0</td>\n",
       "      <td>0</td>\n",
       "      <td>0</td>\n",
       "      <td>0</td>\n",
       "      <td>0</td>\n",
       "      <td>0</td>\n",
       "    </tr>\n",
       "    <tr>\n",
       "      <th>3</th>\n",
       "      <td>0.5</td>\n",
       "      <td>1690</td>\n",
       "      <td>142</td>\n",
       "      <td>60</td>\n",
       "      <td>-256</td>\n",
       "      <td>0</td>\n",
       "      <td>0</td>\n",
       "      <td>0</td>\n",
       "      <td>0</td>\n",
       "      <td>0</td>\n",
       "      <td>...</td>\n",
       "      <td>0</td>\n",
       "      <td>0</td>\n",
       "      <td>0</td>\n",
       "      <td>0</td>\n",
       "      <td>0</td>\n",
       "      <td>0</td>\n",
       "      <td>0</td>\n",
       "      <td>0</td>\n",
       "      <td>0</td>\n",
       "      <td>0</td>\n",
       "    </tr>\n",
       "    <tr>\n",
       "      <th>4</th>\n",
       "      <td>0.0</td>\n",
       "      <td>15591</td>\n",
       "      <td>121</td>\n",
       "      <td>42</td>\n",
       "      <td>0</td>\n",
       "      <td>0</td>\n",
       "      <td>0</td>\n",
       "      <td>0</td>\n",
       "      <td>0</td>\n",
       "      <td>0</td>\n",
       "      <td>...</td>\n",
       "      <td>0</td>\n",
       "      <td>256</td>\n",
       "      <td>256</td>\n",
       "      <td>0</td>\n",
       "      <td>0</td>\n",
       "      <td>0</td>\n",
       "      <td>0</td>\n",
       "      <td>0</td>\n",
       "      <td>0</td>\n",
       "      <td>0</td>\n",
       "    </tr>\n",
       "    <tr>\n",
       "      <th>...</th>\n",
       "      <td>...</td>\n",
       "      <td>...</td>\n",
       "      <td>...</td>\n",
       "      <td>...</td>\n",
       "      <td>...</td>\n",
       "      <td>...</td>\n",
       "      <td>...</td>\n",
       "      <td>...</td>\n",
       "      <td>...</td>\n",
       "      <td>...</td>\n",
       "      <td>...</td>\n",
       "      <td>...</td>\n",
       "      <td>...</td>\n",
       "      <td>...</td>\n",
       "      <td>...</td>\n",
       "      <td>...</td>\n",
       "      <td>...</td>\n",
       "      <td>...</td>\n",
       "      <td>...</td>\n",
       "      <td>...</td>\n",
       "      <td>...</td>\n",
       "    </tr>\n",
       "    <tr>\n",
       "      <th>2999995</th>\n",
       "      <td>0.0</td>\n",
       "      <td>27657</td>\n",
       "      <td>143</td>\n",
       "      <td>112</td>\n",
       "      <td>256</td>\n",
       "      <td>0</td>\n",
       "      <td>0</td>\n",
       "      <td>0</td>\n",
       "      <td>0</td>\n",
       "      <td>0</td>\n",
       "      <td>...</td>\n",
       "      <td>256</td>\n",
       "      <td>0</td>\n",
       "      <td>0</td>\n",
       "      <td>0</td>\n",
       "      <td>-256</td>\n",
       "      <td>0</td>\n",
       "      <td>-256</td>\n",
       "      <td>0</td>\n",
       "      <td>0</td>\n",
       "      <td>256</td>\n",
       "    </tr>\n",
       "    <tr>\n",
       "      <th>2999996</th>\n",
       "      <td>1.0</td>\n",
       "      <td>11347</td>\n",
       "      <td>166</td>\n",
       "      <td>152</td>\n",
       "      <td>0</td>\n",
       "      <td>0</td>\n",
       "      <td>0</td>\n",
       "      <td>0</td>\n",
       "      <td>0</td>\n",
       "      <td>0</td>\n",
       "      <td>...</td>\n",
       "      <td>0</td>\n",
       "      <td>0</td>\n",
       "      <td>-512</td>\n",
       "      <td>0</td>\n",
       "      <td>0</td>\n",
       "      <td>0</td>\n",
       "      <td>0</td>\n",
       "      <td>0</td>\n",
       "      <td>0</td>\n",
       "      <td>0</td>\n",
       "    </tr>\n",
       "    <tr>\n",
       "      <th>2999997</th>\n",
       "      <td>1.0</td>\n",
       "      <td>40768</td>\n",
       "      <td>146</td>\n",
       "      <td>84</td>\n",
       "      <td>-512</td>\n",
       "      <td>0</td>\n",
       "      <td>0</td>\n",
       "      <td>256</td>\n",
       "      <td>0</td>\n",
       "      <td>0</td>\n",
       "      <td>...</td>\n",
       "      <td>0</td>\n",
       "      <td>-256</td>\n",
       "      <td>0</td>\n",
       "      <td>0</td>\n",
       "      <td>-53</td>\n",
       "      <td>0</td>\n",
       "      <td>-53</td>\n",
       "      <td>0</td>\n",
       "      <td>-53</td>\n",
       "      <td>0</td>\n",
       "    </tr>\n",
       "    <tr>\n",
       "      <th>2999998</th>\n",
       "      <td>1.0</td>\n",
       "      <td>40032</td>\n",
       "      <td>118</td>\n",
       "      <td>15</td>\n",
       "      <td>0</td>\n",
       "      <td>0</td>\n",
       "      <td>0</td>\n",
       "      <td>0</td>\n",
       "      <td>0</td>\n",
       "      <td>0</td>\n",
       "      <td>...</td>\n",
       "      <td>0</td>\n",
       "      <td>0</td>\n",
       "      <td>0</td>\n",
       "      <td>0</td>\n",
       "      <td>0</td>\n",
       "      <td>0</td>\n",
       "      <td>0</td>\n",
       "      <td>0</td>\n",
       "      <td>0</td>\n",
       "      <td>0</td>\n",
       "    </tr>\n",
       "    <tr>\n",
       "      <th>2999999</th>\n",
       "      <td>1.0</td>\n",
       "      <td>68636</td>\n",
       "      <td>132</td>\n",
       "      <td>25</td>\n",
       "      <td>512</td>\n",
       "      <td>0</td>\n",
       "      <td>0</td>\n",
       "      <td>0</td>\n",
       "      <td>0</td>\n",
       "      <td>0</td>\n",
       "      <td>...</td>\n",
       "      <td>0</td>\n",
       "      <td>0</td>\n",
       "      <td>0</td>\n",
       "      <td>0</td>\n",
       "      <td>0</td>\n",
       "      <td>0</td>\n",
       "      <td>0</td>\n",
       "      <td>0</td>\n",
       "      <td>0</td>\n",
       "      <td>0</td>\n",
       "    </tr>\n",
       "  </tbody>\n",
       "</table>\n",
       "<p>3000000 rows × 473 columns</p>\n",
       "</div>"
      ],
      "text/plain": [
       "         winner  game_id  board_total  board_left  psq.cost.0  psq.cost.1  \\\n",
       "0           1.0    64808          144          84         256           0   \n",
       "1           0.0    88564          113          79           0           0   \n",
       "2           0.5    73859          141          52           0           0   \n",
       "3           0.5     1690          142          60        -256           0   \n",
       "4           0.0    15591          121          42           0           0   \n",
       "...         ...      ...          ...         ...         ...         ...   \n",
       "2999995     0.0    27657          143         112         256           0   \n",
       "2999996     1.0    11347          166         152           0           0   \n",
       "2999997     1.0    40768          146          84        -512           0   \n",
       "2999998     1.0    40032          118          15           0           0   \n",
       "2999999     1.0    68636          132          25         512           0   \n",
       "\n",
       "         psq.cost.2  psq.cost.3  psq.cost.4  psq.cost.5  ...  pawn_candidate  \\\n",
       "0                 0        -256         256           0  ...               0   \n",
       "1                 0           0           0           0  ...               0   \n",
       "2                 0           0           0           0  ...               0   \n",
       "3                 0           0           0           0  ...               0   \n",
       "4                 0           0           0           0  ...               0   \n",
       "...             ...         ...         ...         ...  ...             ...   \n",
       "2999995           0           0           0           0  ...             256   \n",
       "2999996           0           0           0           0  ...               0   \n",
       "2999997           0         256           0           0  ...               0   \n",
       "2999998           0           0           0           0  ...               0   \n",
       "2999999           0           0           0           0  ...               0   \n",
       "\n",
       "         pawn_open  pawn_protected  pawn_backward  king_shield.0  \\\n",
       "0              256             256              0            160   \n",
       "1                0               0              0           -256   \n",
       "2                0            -256              0              0   \n",
       "3                0               0              0              0   \n",
       "4              256             256              0              0   \n",
       "...            ...             ...            ...            ...   \n",
       "2999995          0               0              0           -256   \n",
       "2999996          0            -512              0              0   \n",
       "2999997       -256               0              0            -53   \n",
       "2999998          0               0              0              0   \n",
       "2999999          0               0              0              0   \n",
       "\n",
       "         king_shield.1  king_shield.2  king_shield.3  king_shield.4  \\\n",
       "0                 -160           -160              0            160   \n",
       "1                    0           -256              0           -256   \n",
       "2                    0              0              0              0   \n",
       "3                    0              0              0              0   \n",
       "4                    0              0              0              0   \n",
       "...                ...            ...            ...            ...   \n",
       "2999995              0           -256              0              0   \n",
       "2999996              0              0              0              0   \n",
       "2999997              0            -53              0            -53   \n",
       "2999998              0              0              0              0   \n",
       "2999999              0              0              0              0   \n",
       "\n",
       "         king_shield.5  \n",
       "0                    0  \n",
       "1                    0  \n",
       "2                    0  \n",
       "3                    0  \n",
       "4                    0  \n",
       "...                ...  \n",
       "2999995            256  \n",
       "2999996              0  \n",
       "2999997              0  \n",
       "2999998              0  \n",
       "2999999              0  \n",
       "\n",
       "[3000000 rows x 473 columns]"
      ]
     },
     "execution_count": 3,
     "metadata": {},
     "output_type": "execute_result"
    }
   ],
   "source": [
    "data"
   ]
  },
  {
   "cell_type": "code",
   "execution_count": 4,
   "id": "pressed-circular",
   "metadata": {},
   "outputs": [],
   "source": [
    "dv = data.values"
   ]
  },
  {
   "cell_type": "markdown",
   "id": "concerned-approval",
   "metadata": {},
   "source": [
    "Делим выборку на обучающую и тестовую. Деление осуществляем по `game_id`, чтобы позиции из одной игры не оказались в разных выборках."
   ]
  },
  {
   "cell_type": "code",
   "execution_count": 5,
   "id": "spare-discussion",
   "metadata": {},
   "outputs": [],
   "source": [
    "games = np.array([i+1 for i in range(data['game_id'].max())])\n",
    "\n",
    "games_train, games_test = train_test_split(games, test_size=0.1, shuffle=True)"
   ]
  },
  {
   "cell_type": "code",
   "execution_count": 6,
   "id": "handed-lodge",
   "metadata": {},
   "outputs": [],
   "source": [
    "train_set = set(games_train)\n",
    "test_set = set(games_test)\n",
    "\n",
    "is_train = np.vectorize(lambda x: x in train_set)\n",
    "is_test = np.vectorize(lambda x: x in test_set)\n",
    "\n",
    "dv_train = dv[is_train(dv[:,1])]\n",
    "dv_test = dv[is_test(dv[:,1])]"
   ]
  },
  {
   "cell_type": "code",
   "execution_count": 7,
   "id": "biblical-asbestos",
   "metadata": {},
   "outputs": [],
   "source": [
    "del data\n",
    "del dv"
   ]
  },
  {
   "cell_type": "code",
   "execution_count": 8,
   "id": "unlikely-former",
   "metadata": {},
   "outputs": [],
   "source": [
    "X = dv_train[:,4:]\n",
    "y = dv_train[:,0]\n",
    "w = dv_train[:,3]\n",
    "\n",
    "X_test = dv_test[:,4:]\n",
    "y_test = dv_test[:,0]\n",
    "w_test = dv_test[:,3]\n",
    "\n",
    "del dv_train\n",
    "del dv_test"
   ]
  },
  {
   "cell_type": "markdown",
   "id": "illegal-presence",
   "metadata": {},
   "source": [
    "Ищем разброс значений (т.е. $\\max - \\min$) каждого из признаков. Это нам понадобится в дальнейшем для масштабирования:"
   ]
  },
  {
   "cell_type": "code",
   "execution_count": 9,
   "id": "restricted-collins",
   "metadata": {},
   "outputs": [
    {
     "data": {
      "text/plain": [
       "array([3584.,  245., 1024., 1024., 1280., 1536.,  245.,  245.,  245.,\n",
       "        245.,  245.,  245.,  245.,  245.,  512.,  512.,  512.,  512.,\n",
       "        512.,  512.,  512.,  512.,  512.,  512.,  512.,  512.,  512.,\n",
       "        512.,  512.,  512.,  512.,  512.,  512.,  512.,  512.,  512.,\n",
       "        512.,  512.,  512.,  512.,  512.,  512.,  512.,  512.,  512.,\n",
       "        512.,  512.,  512.,  512.,  512.,  512.,  512.,  512.,  512.,\n",
       "        512.,  512.,  512.,  512.,  512.,  512.,  512.,  512.,  245.,\n",
       "        245.,  245.,  245.,  245.,  245.,  245.,  245.,  299.,  341.,\n",
       "        299.,  288.,  288.,  288.,  245.,  277.,  331.,  298.,  277.,\n",
       "        288.,  341.,  330.,  320.,  288.,  309.,  330.,  309.,  320.,\n",
       "        330.,  288.,  352.,  342.,  352.,  363.,  406.,  320.,  341.,\n",
       "        373.,  384.,  363.,  384.,  395.,  427.,  416.,  426.,  416.,\n",
       "        426.,  426.,  437.,  501.,  470.,  480.,  480.,  470.,  470.,\n",
       "        501.,  491.,  512.,  512.,  512.,  512.,  512.,  512.,  512.,\n",
       "        512.,  512.,  512.,  490.,  512.,  512.,  512.,  512.,  512.,\n",
       "        512.,  512.,  512.,  512.,  512.,  512.,  512.,  512.,  512.,\n",
       "        512.,  512.,  512.,  512.,  512.,  512.,  512.,  512.,  512.,\n",
       "        512.,  512.,  512.,  512.,  512.,  512.,  512.,  512.,  512.,\n",
       "        512.,  512.,  512.,  512.,  512.,  512.,  512.,  512.,  512.,\n",
       "        512.,  512.,  512.,  512.,  512.,  512.,  512.,  512.,  512.,\n",
       "        512.,  512.,  512.,  512.,  512.,  512.,  512.,  512.,  512.,\n",
       "        512.,  512.,  512.,  512.,  512.,  512.,  512.,  512.,  512.,\n",
       "        512.,  512.,  512.,  512.,  512.,  512.,  512.,  512.,  512.,\n",
       "        512.,  512.,  512.,  512.,  512.,  512.,  512.,  512.,  512.,\n",
       "        512.,  512.,  512.,  512.,  512.,  512.,  512.,  512.,  512.,\n",
       "        512.,  512.,  512.,  512.,  512.,  512.,  512.,  512.,  512.,\n",
       "        512.,  512.,  512.,  512.,  512.,  512.,  512.,  512.,  512.,\n",
       "        512.,  512.,  512.,  512.,  512.,  512.,  512.,  512.,  512.,\n",
       "        512.,  512.,  512.,  512.,  512.,  512.,  512.,  512.,  512.,\n",
       "        512.,  512.,  512.,  512.,  512.,  512.,  512.,  512.,  512.,\n",
       "        512.,  512.,  512.,  512.,  512.,  512.,  512.,  512.,  512.,\n",
       "        512.,  512.,  512.,  512.,  512.,  512.,  512.,  512.,  512.,\n",
       "        512.,  512.,  512.,  512.,  512.,  512.,  512.,  512.,  512.,\n",
       "        512.,  512.,  512.,  512.,  512.,  512.,  512.,  512.,  512.,\n",
       "        512.,  512.,  512.,  512.,  512.,  512.,  512.,  512.,  512.,\n",
       "        512.,  512.,  512.,  512.,  512.,  512.,  512.,  512.,  512.,\n",
       "        512.,  512.,  512.,  512.,  512.,  512.,  512.,  512.,  512.,\n",
       "        512.,  512.,  512.,  512.,  512.,  512.,  512.,  512.,  512.,\n",
       "        512.,  512.,  512.,  512.,  512.,  512.,  512.,  512.,  512.,\n",
       "        512.,  512.,  512.,  512.,  512.,  512.,  512.,  512.,  512.,\n",
       "        512.,  512.,  512.,  512.,  512.,  512.,  512.,  512.,  512.,\n",
       "        512.,  512.,  512.,  512.,  512.,  512.,  512.,  512.,  512.,\n",
       "        512.,  512.,  512.,  512.,  512.,  512.,  512.,  512.,  512.,\n",
       "        512.,  512.,  512.,  512.,  512.,  512.,  512.,  512.,  512.,\n",
       "        512.,  512.,  512.,  512.,  512.,  512.,  512.,  512.,  512.,\n",
       "        512.,  512.,  512.,  512.,  512.,  512.,  512.,  512.,  512.,\n",
       "        512.,  512.,  512.,  512.,  512.,  512.,  512.,  512.,  512.,\n",
       "        512.,  512.,  512.,  512.,  512.,  512.,  512.,  512.,  512.,\n",
       "        512.,  512.,  512.,  512.,  512.,  512.,  512.,  512.,  512.,\n",
       "        512.,  512.,  512.,  512.,  512.,  512.,  512.,  512.,  512.,\n",
       "        512.,  512.,  512.,  512., 2304.,  512., 3584., 3072., 3584.,\n",
       "       1792., 2048., 2816., 2304.,  512.,  512.,  512.,  512.,  512.,\n",
       "        512.])"
      ]
     },
     "execution_count": 9,
     "metadata": {},
     "output_type": "execute_result"
    }
   ],
   "source": [
    "std = np.max(X, axis=0) - np.min(X, axis=0)\n",
    "std = np.maximum(np.min(std[std > 1e-9]), std)  # чтобы не допустить деления на ноль в дальнейшем\n",
    "std"
   ]
  },
  {
   "cell_type": "markdown",
   "id": "rough-shift",
   "metadata": {},
   "source": [
    "Масштабируем признаки:"
   ]
  },
  {
   "cell_type": "code",
   "execution_count": 10,
   "id": "played-conditions",
   "metadata": {},
   "outputs": [],
   "source": [
    "X /= std\n",
    "X_test /= std"
   ]
  },
  {
   "cell_type": "markdown",
   "id": "informed-services",
   "metadata": {},
   "source": [
    "Создаем нашу модель. Здесь используется модель, описанная [на Хабре](https://habr.com/ru/post/305604/), только мы не пишем градиентный спуск руками, а используем силу PyTorch"
   ]
  },
  {
   "cell_type": "code",
   "execution_count": 61,
   "id": "latter-apollo",
   "metadata": {},
   "outputs": [],
   "source": [
    "model = nn.Sequential()\n",
    "model.add_module('linear', nn.Linear(X.shape[1], 1, bias=False))\n",
    "model.add_module('sigmoid', nn.Sigmoid())"
   ]
  },
  {
   "cell_type": "code",
   "execution_count": 62,
   "id": "legal-attack",
   "metadata": {},
   "outputs": [],
   "source": [
    "opt = torch.optim.Adam(model.parameters(), lr=0.01)"
   ]
  },
  {
   "cell_type": "markdown",
   "id": "allied-lancaster",
   "metadata": {},
   "source": [
    "Определяем функцию потерь:"
   ]
  },
  {
   "cell_type": "code",
   "execution_count": 63,
   "id": "studied-tablet",
   "metadata": {},
   "outputs": [],
   "source": [
    "def get_loss(model, X, y, w, C=0.0):\n",
    "    w = np.exp(-w / 32.)\n",
    "    y_pred = model(X)[:, 0]\n",
    "    assert y_pred.dim() == 1\n",
    "    loss = torch.sum(w * ((y - y_pred) ** 2)) / torch.sum(w)\n",
    "    loss += C * torch.norm(model.linear.weight, 2)\n",
    "    return loss"
   ]
  },
  {
   "cell_type": "markdown",
   "id": "increased-dress",
   "metadata": {},
   "source": [
    "Обучаем, пока не сойдется функция потерь. Для этого может быть полезно запустить ячейку несколько раз. А может быть, ее стоит остановить раньше."
   ]
  },
  {
   "cell_type": "code",
   "execution_count": 65,
   "id": "narrative-poker",
   "metadata": {
    "scrolled": false
   },
   "outputs": [
    {
     "name": "stdout",
     "output_type": "stream",
     "text": [
      "step #0, train_loss = 0.0567, test_loss = 0.0564\n",
      "step #100, train_loss = 0.0566, test_loss = 0.0564\n",
      "step #200, train_loss = 0.0567, test_loss = 0.0564\n",
      "step #300, train_loss = 0.0568, test_loss = 0.0563\n",
      "step #400, train_loss = 0.0568, test_loss = 0.0564\n",
      "step #500, train_loss = 0.0567, test_loss = 0.0564\n",
      "step #600, train_loss = 0.0565, test_loss = 0.0564\n",
      "step #700, train_loss = 0.0565, test_loss = 0.0564\n",
      "step #800, train_loss = 0.0565, test_loss = 0.0564\n",
      "step #900, train_loss = 0.0567, test_loss = 0.0564\n",
      "step #1000, train_loss = 0.0568, test_loss = 0.0564\n",
      "step #1100, train_loss = 0.0567, test_loss = 0.0564\n",
      "step #1200, train_loss = 0.0566, test_loss = 0.0563\n",
      "step #1300, train_loss = 0.0565, test_loss = 0.0563\n",
      "step #1400, train_loss = 0.0569, test_loss = 0.0564\n",
      "step #1500, train_loss = 0.0566, test_loss = 0.0564\n",
      "step #1600, train_loss = 0.0564, test_loss = 0.0564\n",
      "step #1700, train_loss = 0.0568, test_loss = 0.0564\n",
      "step #1800, train_loss = 0.0569, test_loss = 0.0563\n",
      "step #1900, train_loss = 0.0564, test_loss = 0.0564\n",
      "step #2000, train_loss = 0.0566, test_loss = 0.0564\n",
      "step #2100, train_loss = 0.0563, test_loss = 0.0564\n",
      "step #2200, train_loss = 0.0567, test_loss = 0.0564\n",
      "step #2300, train_loss = 0.0565, test_loss = 0.0564\n",
      "step #2400, train_loss = 0.0565, test_loss = 0.0564\n",
      "step #2500, train_loss = 0.0568, test_loss = 0.0564\n",
      "step #2600, train_loss = 0.0564, test_loss = 0.0564\n",
      "step #2700, train_loss = 0.0566, test_loss = 0.0563\n",
      "step #2800, train_loss = 0.0565, test_loss = 0.0564\n",
      "step #2900, train_loss = 0.0566, test_loss = 0.0564\n",
      "step #3000, train_loss = 0.0566, test_loss = 0.0563\n",
      "step #3100, train_loss = 0.0564, test_loss = 0.0563\n",
      "step #3200, train_loss = 0.0566, test_loss = 0.0564\n",
      "step #3300, train_loss = 0.0565, test_loss = 0.0564\n",
      "step #3400, train_loss = 0.0566, test_loss = 0.0564\n",
      "step #3500, train_loss = 0.0566, test_loss = 0.0563\n",
      "step #3600, train_loss = 0.0564, test_loss = 0.0564\n",
      "step #3700, train_loss = 0.0566, test_loss = 0.0564\n",
      "step #3800, train_loss = 0.0564, test_loss = 0.0564\n",
      "step #3900, train_loss = 0.0564, test_loss = 0.0564\n",
      "step #4000, train_loss = 0.0563, test_loss = 0.0564\n",
      "step #4100, train_loss = 0.0565, test_loss = 0.0564\n",
      "step #4200, train_loss = 0.0566, test_loss = 0.0564\n",
      "step #4300, train_loss = 0.0564, test_loss = 0.0564\n",
      "step #4400, train_loss = 0.0564, test_loss = 0.0564\n",
      "step #4500, train_loss = 0.0561, test_loss = 0.0564\n",
      "step #4600, train_loss = 0.0565, test_loss = 0.0563\n",
      "step #4700, train_loss = 0.0566, test_loss = 0.0564\n",
      "step #4800, train_loss = 0.0565, test_loss = 0.0564\n",
      "step #4900, train_loss = 0.0565, test_loss = 0.0564\n",
      "step #5000, train_loss = 0.0566, test_loss = 0.0564\n",
      "step #5100, train_loss = 0.0565, test_loss = 0.0564\n",
      "step #5200, train_loss = 0.0564, test_loss = 0.0564\n",
      "step #5300, train_loss = 0.0564, test_loss = 0.0564\n",
      "step #5400, train_loss = 0.0564, test_loss = 0.0564\n",
      "step #5500, train_loss = 0.0561, test_loss = 0.0563\n",
      "step #5600, train_loss = 0.0564, test_loss = 0.0564\n",
      "step #5700, train_loss = 0.0562, test_loss = 0.0563\n",
      "step #5800, train_loss = 0.0565, test_loss = 0.0564\n",
      "step #5900, train_loss = 0.0563, test_loss = 0.0564\n"
     ]
    }
   ],
   "source": [
    "C = 4e-5\n",
    "\n",
    "history = []\n",
    "\n",
    "for i in range(6000):\n",
    "    # собираем батч\n",
    "    indices = np.random.randint(0, X.shape[0], 16000)\n",
    "    X_batch = torch.tensor(X[indices], dtype=torch.float32)\n",
    "    y_batch = torch.tensor(y[indices], dtype=torch.float32)\n",
    "    w_batch = torch.tensor(w[indices], dtype=torch.float32)\n",
    "    \n",
    "    # считаем функцию потерь\n",
    "    loss = get_loss(model, X_batch, y_batch, w_batch, C=C)\n",
    "\n",
    "    loss.backward()\n",
    "    \n",
    "    # надо раскомментить, если хочется менять только короля\n",
    "    # model.linear.weight.grad[0, 0:6+64] = 0\n",
    "    # model.linear.weight.grad[0, 6+64:6+384] = 0\n",
    "    # model.linear.weight.grad[0, 6+448:] = 0\n",
    "    \n",
    "    # оптимизируем\n",
    "    opt.step()\n",
    "    opt.zero_grad()\n",
    "\n",
    "    history.append(loss.data.numpy())\n",
    "\n",
    "    # выводим результаты\n",
    "    if i % 100 == 0:\n",
    "        test_loss = get_loss(model,\n",
    "            torch.tensor(X_test, dtype=torch.float32),\n",
    "            torch.tensor(y_test, dtype=torch.float32),\n",
    "            torch.tensor(w_test, dtype=torch.float32),\n",
    "            C=0.0).detach().numpy().sum()\n",
    "        train_loss = np.mean(history[-40:])\n",
    "        print(f\"step #{i}, train_loss = {train_loss:.4f}, test_loss = {test_loss:.4f}\")"
   ]
  },
  {
   "cell_type": "markdown",
   "id": "adopted-example",
   "metadata": {},
   "source": [
    "Смотрим на итоговое значение функции потерь на тестовом датасете:"
   ]
  },
  {
   "cell_type": "code",
   "execution_count": 66,
   "id": "permanent-asthma",
   "metadata": {},
   "outputs": [
    {
     "data": {
      "text/plain": [
       "0.05635208"
      ]
     },
     "execution_count": 66,
     "metadata": {},
     "output_type": "execute_result"
    }
   ],
   "source": [
    "test_loss = get_loss(model,\n",
    "                     torch.tensor(X_test, dtype=torch.float32),\n",
    "                     torch.tensor(y_test, dtype=torch.float32),\n",
    "                     torch.tensor(w_test, dtype=torch.float32)).detach().numpy().sum()\n",
    "test_loss"
   ]
  },
  {
   "cell_type": "markdown",
   "id": "lonely-computer",
   "metadata": {},
   "source": [
    "Ради интереса посмотрим на вероятности, которые предсказывает модель для каких-то $20$ соседних примеров тестовой выборки:"
   ]
  },
  {
   "cell_type": "code",
   "execution_count": 67,
   "id": "intermediate-dragon",
   "metadata": {},
   "outputs": [
    {
     "name": "stdout",
     "output_type": "stream",
     "text": [
      "tensor([0.9999, 0.5075, 0.5312, 0.0208, 0.4125, 0.5610, 0.5369, 0.6075, 0.4711,\n",
      "        0.6391, 0.6091, 0.4286, 0.9241, 0.3500, 0.6530, 0.6470, 0.4874, 0.3128,\n",
      "        0.5579, 0.5358], grad_fn=<SliceBackward>) [1.  0.5 1.  0.  0.5 0.5 0.5 0.5 0.  1.  1.  0.5 1.  0.  0.5 0.  1.  0.\n",
      " 0.5 0.5]\n"
     ]
    }
   ],
   "source": [
    "res = model(torch.tensor(X_test, dtype=torch.float32))[:, 0]\n",
    "\n",
    "print(res[450:470], y_test[450:470])"
   ]
  },
  {
   "cell_type": "markdown",
   "id": "imperial-power",
   "metadata": {},
   "source": [
    "Теперь было бы неплохо преобразовать веса модели в коэффициенты, которые мы будем использовать в шахматной программе. Для этого нормируем таблицы фигура-поле так, чтобы медианное значение занулилось. Затем умножим все веса на одно и то же число так, чтобы стоимость пешки была равна `100` (т. е. одной пешке)"
   ]
  },
  {
   "cell_type": "code",
   "execution_count": 68,
   "id": "sought-carol",
   "metadata": {},
   "outputs": [
    {
     "name": "stdout",
     "output_type": "stream",
     "text": [
      "[ 100    0  384  417  671 1189    0    0    0    0    0    0    0    0\n",
      "  198  227  234  164  176  166  214  182  108  109   87   76   64   72\n",
      "   93   87   30   23   -3   -1   28   10   14   11    1   -3  -11   -3\n",
      "  -11   -2   -6   -6   -9  -12  -19  -21  -14  -14  -13  -18  -12  -10\n",
      "  -13  -57  -11    1   -2  -21    0    0    0    0    0    0    0    0\n",
      "  155  187   59  140  150   66  137  -76   87  -45  115 -261   30   37\n",
      "  -10 -114  -83  -47 -244 -260 -213  -73  -90 -191  -40  -23 -131 -159\n",
      "  -93  -60  -98 -119   21   72  108   42   24   64    7 -106   -7   56\n",
      "   68   78   47   59    3  -37   31   -3   24   45   38   24   84  126\n",
      " -193  -14   87  -62   66  -71    6   26  -84  -12   22    6    1  -24\n",
      "  -43 -100  -25   20   16   38   29   29   16  -62  -21   34   55   39\n",
      "   72   49   60  -12  -20   -5   57   65   59   76   50   25  -28   -4\n",
      "   31   17   47   49   34   34  -70  -22   -1   16   24   30    4   -4\n",
      "  -69  -32   -5   -8  -16    8   -2   -7 -139  -75  -50  -49  -24  -12\n",
      "   -4  -84  -19   13   -4    0   15  -12   -7   -9  -68   -1   -1   27\n",
      "   13    5   -9  -68  -31  -15   26   22   37   49   13   47  -27    0\n",
      "   22   43   31   29   13   11  -21    4   18   26   15   25   -6   43\n",
      "  -31   21    0   14    5    9    8    1  -42  -32   19  -24  -16   -8\n",
      "   17  -29  -40   -4  -45  -30  -17  -28  -57   -7   -3    4   18   25\n",
      "   25   29   11   16   24   25   31   46   37   60   36   26   27   22\n",
      "   23   30   -9   31   10    4    1   15    6   13   14   20    3    8\n",
      "  -10    0    0    0   -8   -7   -3  -35  -12  -11  -26  -23  -15  -16\n",
      "   -4  -17  -18  -14  -37  -35  -26  -24    4  -33  -48  -24  -37  -24\n",
      "  -17  -39   -7  -41    8   40   43   21  -16  -23   40  -34  -45  -33\n",
      "   19   -4   -8  -26   14  -23  -48  -25   21   18    7    7   -7   11\n",
      "  -16  -12   21    0   13   -5    0   -9   -6   -5   18   56   42   52\n",
      "   49   25  -30  -16    0   15   48   34   52   31  -15   -4    0   16\n",
      "   31   15    0  -11  -24  -29  -11    0   -2  -83 -101  -71 -165  -63\n",
      "  -41    0  -25   53   19 -110  -10  -22    5   26   61   78  133   58\n",
      "   33   60  -12   51   71  103  129   65   -1   19   19   33   53   67\n",
      "   69   42  -49  -17  -10    4    9    5    1    8  -35  -31  -29  -19\n",
      "  -11  -14  -15  -12  -22  -10  -21  -21   -9  -20  -19  -65   -9  -30\n",
      "  -50  -47 -101  -19  -62  -86   70   45  -11   -2   58   19    2    7\n",
      "   -1   41   98   20   49   71    3]\n"
     ]
    }
   ],
   "source": [
    "ws = (model.linear.weight[0]).detach().numpy() / std\n",
    "for p in [0, 2, 3, 4, 5]:\n",
    "    left = 6 + 64 * p\n",
    "    right = 6 + 64 * (p + 1)\n",
    "    if p == 0:\n",
    "        # верхний и нижний ряд у пешки не используется, не обращаем на него внимание\n",
    "        left += 8\n",
    "        right -= 8\n",
    "    m = np.median(ws[left:right])\n",
    "    ws[left:right] -= m\n",
    "    ws[p] += m\n",
    "\n",
    "ww = (ws / ws[0] * 100).astype(np.int32)\n",
    "print(ww)"
   ]
  },
  {
   "cell_type": "markdown",
   "id": "international-begin",
   "metadata": {},
   "source": [
    "Эти веса уже можно скопировать, вставить в утилиту `apply_weigths` и использовать в `SoFCheck`'е.\n",
    "\n",
    "Далее визуализируем полученные веса:"
   ]
  },
  {
   "cell_type": "code",
   "execution_count": 69,
   "id": "changed-reply",
   "metadata": {},
   "outputs": [],
   "source": [
    "def display_mat(mat):\n",
    "    plt.matshow(mat)\n",
    "    for (x, y), value in np.ndenumerate(mat):\n",
    "        plt.text(y, x, f\"{value}\", va=\"center\", ha=\"center\")"
   ]
  },
  {
   "cell_type": "markdown",
   "id": "adverse-phone",
   "metadata": {},
   "source": [
    "Стоимости фигур:"
   ]
  },
  {
   "cell_type": "code",
   "execution_count": 70,
   "id": "overall-carter",
   "metadata": {},
   "outputs": [
    {
     "data": {
      "text/plain": [
       "array([ 100,    0,  384,  417,  671, 1189], dtype=int32)"
      ]
     },
     "execution_count": 70,
     "metadata": {},
     "output_type": "execute_result"
    }
   ],
   "source": [
    "ww[:6]"
   ]
  },
  {
   "cell_type": "markdown",
   "id": "particular-burton",
   "metadata": {},
   "source": [
    "Таблицы фигура-поле для пешки:"
   ]
  },
  {
   "cell_type": "code",
   "execution_count": 71,
   "id": "plain-anthony",
   "metadata": {},
   "outputs": [
    {
     "data": {
      "image/png": "[encoded data removed]",
      "text/plain": [
       "<Figure size 288x288 with 1 Axes>"
      ]
     },
     "metadata": {
      "needs_background": "light"
     },
     "output_type": "display_data"
    }
   ],
   "source": [
    "display_mat(ww[6:6+64].reshape(8, 8))"
   ]
  },
  {
   "cell_type": "markdown",
   "id": "available-representative",
   "metadata": {},
   "source": [
    "Таблицы фигура-поле для короля в миттельшпиле:"
   ]
  },
  {
   "cell_type": "code",
   "execution_count": 72,
   "id": "federal-brave",
   "metadata": {},
   "outputs": [
    {
     "data": {
      "image/png": "[encoded data removed]",
      "text/plain": [
       "<Figure size 288x288 with 1 Axes>"
      ]
     },
     "metadata": {
      "needs_background": "light"
     },
     "output_type": "display_data"
    }
   ],
   "source": [
    "display_mat(ww[6+64:6+128].reshape(8, 8))"
   ]
  },
  {
   "cell_type": "markdown",
   "id": "constant-division",
   "metadata": {},
   "source": [
    "Таблицы фигура-поле для коня:"
   ]
  },
  {
   "cell_type": "code",
   "execution_count": 73,
   "id": "separate-safety",
   "metadata": {},
   "outputs": [
    {
     "data": {
      "image/png": "[encoded data removed]",
      "text/plain": [
       "<Figure size 288x288 with 1 Axes>"
      ]
     },
     "metadata": {
      "needs_background": "light"
     },
     "output_type": "display_data"
    }
   ],
   "source": [
    "display_mat(ww[6+128:6+192].reshape(8, 8))"
   ]
  },
  {
   "cell_type": "markdown",
   "id": "advised-charm",
   "metadata": {},
   "source": [
    "Таблицы фигура-поле для слона:"
   ]
  },
  {
   "cell_type": "code",
   "execution_count": 74,
   "id": "adaptive-salvation",
   "metadata": {},
   "outputs": [
    {
     "data": {
      "image/png": "[encoded data removed]",
      "text/plain": [
       "<Figure size 288x288 with 1 Axes>"
      ]
     },
     "metadata": {
      "needs_background": "light"
     },
     "output_type": "display_data"
    }
   ],
   "source": [
    "display_mat(ww[6+192:6+256].reshape(8, 8))"
   ]
  },
  {
   "cell_type": "markdown",
   "id": "advanced-joshua",
   "metadata": {},
   "source": [
    "Таблицы фигура-поле для ладьи:"
   ]
  },
  {
   "cell_type": "code",
   "execution_count": 75,
   "id": "recognized-pierre",
   "metadata": {},
   "outputs": [
    {
     "data": {
      "image/png": "[encoded data removed]",
      "text/plain": [
       "<Figure size 288x288 with 1 Axes>"
      ]
     },
     "metadata": {
      "needs_background": "light"
     },
     "output_type": "display_data"
    }
   ],
   "source": [
    "display_mat(ww[6+256:6+320].reshape(8, 8))"
   ]
  },
  {
   "cell_type": "markdown",
   "id": "apparent-burlington",
   "metadata": {},
   "source": [
    "Таблицы фигура-поле для ферзя:"
   ]
  },
  {
   "cell_type": "code",
   "execution_count": 76,
   "id": "leading-assist",
   "metadata": {},
   "outputs": [
    {
     "data": {
      "image/png": "[encoded data removed]",
      "text/plain": [
       "<Figure size 288x288 with 1 Axes>"
      ]
     },
     "metadata": {
      "needs_background": "light"
     },
     "output_type": "display_data"
    }
   ],
   "source": [
    "display_mat(ww[6+320:6+384].reshape(8, 8))"
   ]
  },
  {
   "cell_type": "markdown",
   "id": "corporate-august",
   "metadata": {},
   "source": [
    "Таблицы фигура-поле для короля в эндшпиле:"
   ]
  },
  {
   "cell_type": "code",
   "execution_count": 77,
   "id": "alien-contractor",
   "metadata": {},
   "outputs": [
    {
     "data": {
      "image/png": "[encoded data removed]",
      "text/plain": [
       "<Figure size 288x288 with 1 Axes>"
      ]
     },
     "metadata": {
      "needs_background": "light"
     },
     "output_type": "display_data"
    }
   ],
   "source": [
    "display_mat(ww[6+384:6+448].reshape(8, 8))"
   ]
  },
  {
   "cell_type": "markdown",
   "id": "through-freedom",
   "metadata": {},
   "source": [
    "Стоимость ферзя, близкого к вражескому королю, и стоимость двух слонов:"
   ]
  },
  {
   "cell_type": "code",
   "execution_count": 78,
   "id": "effective-decline",
   "metadata": {},
   "outputs": [
    {
     "data": {
      "text/plain": [
       "(70, 45)"
      ]
     },
     "execution_count": 78,
     "metadata": {},
     "output_type": "execute_result"
    }
   ],
   "source": [
    "ww[454], ww[455]"
   ]
  },
  {
   "cell_type": "markdown",
   "id": "greatest-following",
   "metadata": {},
   "source": [
    "Стоимость пешек: изолированная, двойная, проходная:"
   ]
  },
  {
   "cell_type": "code",
   "execution_count": 79,
   "id": "adolescent-breath",
   "metadata": {},
   "outputs": [
    {
     "data": {
      "text/plain": [
       "(-11, -2, 58)"
      ]
     },
     "execution_count": 79,
     "metadata": {},
     "output_type": "execute_result"
    }
   ],
   "source": [
    "ww[456], ww[457], ww[458]"
   ]
  }
 ],
 "metadata": {
  "kernelspec": {
   "display_name": "Python 3",
   "language": "python",
   "name": "python3"
  },
  "language_info": {
   "codemirror_mode": {
    "name": "ipython",
    "version": 3
   },
   "file_extension": ".py",
   "mimetype": "text/x-python",
   "name": "python",
   "nbconvert_exporter": "python",
   "pygments_lexer": "ipython3",
   "version": "3.8.10"
  }
 },
 "nbformat": 4,
 "nbformat_minor": 5
}
