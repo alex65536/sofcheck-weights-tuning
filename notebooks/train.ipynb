{
 "cells": [
  {
   "cell_type": "markdown",
   "id": "convenient-firmware",
   "metadata": {},
   "source": [
    "Импортируем библиотеки:"
   ]
  },
  {
   "cell_type": "code",
   "execution_count": 1,
   "id": "another-syracuse",
   "metadata": {},
   "outputs": [],
   "source": [
    "import numpy as np\n",
    "import pandas as pd\n",
    "import torch\n",
    "import matplotlib.pyplot as plt\n",
    "\n",
    "from sklearn.model_selection import cross_val_score, train_test_split\n",
    "from sklearn.linear_model import LogisticRegression\n",
    "from sklearn.preprocessing import StandardScaler, MinMaxScaler\n",
    "from torch import nn\n",
    "from sklearn.feature_selection import SelectKBest\n",
    "\n",
    "%matplotlib inline"
   ]
  },
  {
   "cell_type": "markdown",
   "id": "operational-holocaust",
   "metadata": {},
   "source": [
    "Загружаем данные из CSV. Данные преобразовываются в CSV с помощью утилиты `make_dataset`, которая собирается вместе с `SoFCheck`'ом"
   ]
  },
  {
   "cell_type": "code",
   "execution_count": 2,
   "id": "apart-handle",
   "metadata": {},
   "outputs": [],
   "source": [
    "data = pd.read_csv('dataset.csv')"
   ]
  },
  {
   "cell_type": "code",
   "execution_count": 3,
   "id": "convertible-accommodation",
   "metadata": {},
   "outputs": [
    {
     "data": {
      "text/html": [
       "<div>\n",
       "<style scoped>\n",
       "    .dataframe tbody tr th:only-of-type {\n",
       "        vertical-align: middle;\n",
       "    }\n",
       "\n",
       "    .dataframe tbody tr th {\n",
       "        vertical-align: top;\n",
       "    }\n",
       "\n",
       "    .dataframe thead th {\n",
       "        text-align: right;\n",
       "    }\n",
       "</style>\n",
       "<table border=\"1\" class=\"dataframe\">\n",
       "  <thead>\n",
       "    <tr style=\"text-align: right;\">\n",
       "      <th></th>\n",
       "      <th>winner</th>\n",
       "      <th>game_id</th>\n",
       "      <th>board_total</th>\n",
       "      <th>board_left</th>\n",
       "      <th>psq.cost.0</th>\n",
       "      <th>psq.cost.1</th>\n",
       "      <th>psq.cost.2</th>\n",
       "      <th>psq.cost.3</th>\n",
       "      <th>psq.cost.4</th>\n",
       "      <th>psq.cost.5</th>\n",
       "      <th>...</th>\n",
       "      <th>king_pawn.shield.0</th>\n",
       "      <th>king_pawn.shield.1</th>\n",
       "      <th>king_pawn.shield.2</th>\n",
       "      <th>king_pawn.shield.3</th>\n",
       "      <th>king_pawn.shield.4</th>\n",
       "      <th>king_pawn.shield.5</th>\n",
       "      <th>rook_open_col</th>\n",
       "      <th>rook_semi_open_col</th>\n",
       "      <th>queen_open_col</th>\n",
       "      <th>queen_semi_open_col</th>\n",
       "    </tr>\n",
       "  </thead>\n",
       "  <tbody>\n",
       "    <tr>\n",
       "      <th>0</th>\n",
       "      <td>1.0</td>\n",
       "      <td>64808</td>\n",
       "      <td>144</td>\n",
       "      <td>84</td>\n",
       "      <td>256</td>\n",
       "      <td>0</td>\n",
       "      <td>0</td>\n",
       "      <td>-256</td>\n",
       "      <td>256</td>\n",
       "      <td>0</td>\n",
       "      <td>...</td>\n",
       "      <td>160</td>\n",
       "      <td>-160</td>\n",
       "      <td>-160</td>\n",
       "      <td>0</td>\n",
       "      <td>160</td>\n",
       "      <td>0</td>\n",
       "      <td>-256</td>\n",
       "      <td>0</td>\n",
       "      <td>0</td>\n",
       "      <td>0</td>\n",
       "    </tr>\n",
       "    <tr>\n",
       "      <th>1</th>\n",
       "      <td>0.0</td>\n",
       "      <td>88564</td>\n",
       "      <td>113</td>\n",
       "      <td>79</td>\n",
       "      <td>0</td>\n",
       "      <td>0</td>\n",
       "      <td>0</td>\n",
       "      <td>0</td>\n",
       "      <td>0</td>\n",
       "      <td>0</td>\n",
       "      <td>...</td>\n",
       "      <td>-256</td>\n",
       "      <td>0</td>\n",
       "      <td>-256</td>\n",
       "      <td>0</td>\n",
       "      <td>-256</td>\n",
       "      <td>0</td>\n",
       "      <td>-256</td>\n",
       "      <td>0</td>\n",
       "      <td>256</td>\n",
       "      <td>0</td>\n",
       "    </tr>\n",
       "    <tr>\n",
       "      <th>2</th>\n",
       "      <td>0.5</td>\n",
       "      <td>73859</td>\n",
       "      <td>141</td>\n",
       "      <td>52</td>\n",
       "      <td>0</td>\n",
       "      <td>0</td>\n",
       "      <td>0</td>\n",
       "      <td>0</td>\n",
       "      <td>0</td>\n",
       "      <td>0</td>\n",
       "      <td>...</td>\n",
       "      <td>0</td>\n",
       "      <td>0</td>\n",
       "      <td>0</td>\n",
       "      <td>0</td>\n",
       "      <td>0</td>\n",
       "      <td>0</td>\n",
       "      <td>0</td>\n",
       "      <td>0</td>\n",
       "      <td>0</td>\n",
       "      <td>0</td>\n",
       "    </tr>\n",
       "    <tr>\n",
       "      <th>3</th>\n",
       "      <td>0.5</td>\n",
       "      <td>1690</td>\n",
       "      <td>142</td>\n",
       "      <td>60</td>\n",
       "      <td>-256</td>\n",
       "      <td>0</td>\n",
       "      <td>0</td>\n",
       "      <td>0</td>\n",
       "      <td>0</td>\n",
       "      <td>0</td>\n",
       "      <td>...</td>\n",
       "      <td>0</td>\n",
       "      <td>0</td>\n",
       "      <td>0</td>\n",
       "      <td>0</td>\n",
       "      <td>0</td>\n",
       "      <td>0</td>\n",
       "      <td>256</td>\n",
       "      <td>0</td>\n",
       "      <td>0</td>\n",
       "      <td>0</td>\n",
       "    </tr>\n",
       "    <tr>\n",
       "      <th>4</th>\n",
       "      <td>0.0</td>\n",
       "      <td>15591</td>\n",
       "      <td>121</td>\n",
       "      <td>42</td>\n",
       "      <td>0</td>\n",
       "      <td>0</td>\n",
       "      <td>0</td>\n",
       "      <td>0</td>\n",
       "      <td>0</td>\n",
       "      <td>0</td>\n",
       "      <td>...</td>\n",
       "      <td>0</td>\n",
       "      <td>0</td>\n",
       "      <td>0</td>\n",
       "      <td>0</td>\n",
       "      <td>0</td>\n",
       "      <td>0</td>\n",
       "      <td>0</td>\n",
       "      <td>0</td>\n",
       "      <td>0</td>\n",
       "      <td>0</td>\n",
       "    </tr>\n",
       "    <tr>\n",
       "      <th>...</th>\n",
       "      <td>...</td>\n",
       "      <td>...</td>\n",
       "      <td>...</td>\n",
       "      <td>...</td>\n",
       "      <td>...</td>\n",
       "      <td>...</td>\n",
       "      <td>...</td>\n",
       "      <td>...</td>\n",
       "      <td>...</td>\n",
       "      <td>...</td>\n",
       "      <td>...</td>\n",
       "      <td>...</td>\n",
       "      <td>...</td>\n",
       "      <td>...</td>\n",
       "      <td>...</td>\n",
       "      <td>...</td>\n",
       "      <td>...</td>\n",
       "      <td>...</td>\n",
       "      <td>...</td>\n",
       "      <td>...</td>\n",
       "      <td>...</td>\n",
       "    </tr>\n",
       "    <tr>\n",
       "      <th>2999995</th>\n",
       "      <td>1.0</td>\n",
       "      <td>18297</td>\n",
       "      <td>184</td>\n",
       "      <td>63</td>\n",
       "      <td>0</td>\n",
       "      <td>0</td>\n",
       "      <td>256</td>\n",
       "      <td>0</td>\n",
       "      <td>0</td>\n",
       "      <td>0</td>\n",
       "      <td>...</td>\n",
       "      <td>0</td>\n",
       "      <td>0</td>\n",
       "      <td>0</td>\n",
       "      <td>0</td>\n",
       "      <td>0</td>\n",
       "      <td>0</td>\n",
       "      <td>0</td>\n",
       "      <td>0</td>\n",
       "      <td>0</td>\n",
       "      <td>0</td>\n",
       "    </tr>\n",
       "    <tr>\n",
       "      <th>2999996</th>\n",
       "      <td>0.5</td>\n",
       "      <td>48501</td>\n",
       "      <td>142</td>\n",
       "      <td>70</td>\n",
       "      <td>-256</td>\n",
       "      <td>0</td>\n",
       "      <td>0</td>\n",
       "      <td>0</td>\n",
       "      <td>0</td>\n",
       "      <td>0</td>\n",
       "      <td>...</td>\n",
       "      <td>0</td>\n",
       "      <td>0</td>\n",
       "      <td>107</td>\n",
       "      <td>0</td>\n",
       "      <td>0</td>\n",
       "      <td>0</td>\n",
       "      <td>256</td>\n",
       "      <td>0</td>\n",
       "      <td>0</td>\n",
       "      <td>0</td>\n",
       "    </tr>\n",
       "    <tr>\n",
       "      <th>2999997</th>\n",
       "      <td>0.0</td>\n",
       "      <td>114</td>\n",
       "      <td>131</td>\n",
       "      <td>112</td>\n",
       "      <td>0</td>\n",
       "      <td>0</td>\n",
       "      <td>-256</td>\n",
       "      <td>256</td>\n",
       "      <td>0</td>\n",
       "      <td>0</td>\n",
       "      <td>...</td>\n",
       "      <td>0</td>\n",
       "      <td>-235</td>\n",
       "      <td>0</td>\n",
       "      <td>0</td>\n",
       "      <td>235</td>\n",
       "      <td>0</td>\n",
       "      <td>0</td>\n",
       "      <td>256</td>\n",
       "      <td>0</td>\n",
       "      <td>0</td>\n",
       "    </tr>\n",
       "    <tr>\n",
       "      <th>2999998</th>\n",
       "      <td>0.0</td>\n",
       "      <td>10532</td>\n",
       "      <td>175</td>\n",
       "      <td>129</td>\n",
       "      <td>0</td>\n",
       "      <td>0</td>\n",
       "      <td>0</td>\n",
       "      <td>0</td>\n",
       "      <td>0</td>\n",
       "      <td>0</td>\n",
       "      <td>...</td>\n",
       "      <td>-107</td>\n",
       "      <td>-107</td>\n",
       "      <td>0</td>\n",
       "      <td>0</td>\n",
       "      <td>0</td>\n",
       "      <td>0</td>\n",
       "      <td>0</td>\n",
       "      <td>512</td>\n",
       "      <td>0</td>\n",
       "      <td>0</td>\n",
       "    </tr>\n",
       "    <tr>\n",
       "      <th>2999999</th>\n",
       "      <td>1.0</td>\n",
       "      <td>15943</td>\n",
       "      <td>148</td>\n",
       "      <td>62</td>\n",
       "      <td>-256</td>\n",
       "      <td>0</td>\n",
       "      <td>256</td>\n",
       "      <td>0</td>\n",
       "      <td>0</td>\n",
       "      <td>0</td>\n",
       "      <td>...</td>\n",
       "      <td>0</td>\n",
       "      <td>0</td>\n",
       "      <td>0</td>\n",
       "      <td>0</td>\n",
       "      <td>0</td>\n",
       "      <td>0</td>\n",
       "      <td>256</td>\n",
       "      <td>0</td>\n",
       "      <td>0</td>\n",
       "      <td>0</td>\n",
       "    </tr>\n",
       "  </tbody>\n",
       "</table>\n",
       "<p>3000000 rows × 478 columns</p>\n",
       "</div>"
      ],
      "text/plain": [
       "         winner  game_id  board_total  board_left  psq.cost.0  psq.cost.1  \\\n",
       "0           1.0    64808          144          84         256           0   \n",
       "1           0.0    88564          113          79           0           0   \n",
       "2           0.5    73859          141          52           0           0   \n",
       "3           0.5     1690          142          60        -256           0   \n",
       "4           0.0    15591          121          42           0           0   \n",
       "...         ...      ...          ...         ...         ...         ...   \n",
       "2999995     1.0    18297          184          63           0           0   \n",
       "2999996     0.5    48501          142          70        -256           0   \n",
       "2999997     0.0      114          131         112           0           0   \n",
       "2999998     0.0    10532          175         129           0           0   \n",
       "2999999     1.0    15943          148          62        -256           0   \n",
       "\n",
       "         psq.cost.2  psq.cost.3  psq.cost.4  psq.cost.5  ...  \\\n",
       "0                 0        -256         256           0  ...   \n",
       "1                 0           0           0           0  ...   \n",
       "2                 0           0           0           0  ...   \n",
       "3                 0           0           0           0  ...   \n",
       "4                 0           0           0           0  ...   \n",
       "...             ...         ...         ...         ...  ...   \n",
       "2999995         256           0           0           0  ...   \n",
       "2999996           0           0           0           0  ...   \n",
       "2999997        -256         256           0           0  ...   \n",
       "2999998           0           0           0           0  ...   \n",
       "2999999         256           0           0           0  ...   \n",
       "\n",
       "         king_pawn.shield.0  king_pawn.shield.1  king_pawn.shield.2  \\\n",
       "0                       160                -160                -160   \n",
       "1                      -256                   0                -256   \n",
       "2                         0                   0                   0   \n",
       "3                         0                   0                   0   \n",
       "4                         0                   0                   0   \n",
       "...                     ...                 ...                 ...   \n",
       "2999995                   0                   0                   0   \n",
       "2999996                   0                   0                 107   \n",
       "2999997                   0                -235                   0   \n",
       "2999998                -107                -107                   0   \n",
       "2999999                   0                   0                   0   \n",
       "\n",
       "         king_pawn.shield.3  king_pawn.shield.4  king_pawn.shield.5  \\\n",
       "0                         0                 160                   0   \n",
       "1                         0                -256                   0   \n",
       "2                         0                   0                   0   \n",
       "3                         0                   0                   0   \n",
       "4                         0                   0                   0   \n",
       "...                     ...                 ...                 ...   \n",
       "2999995                   0                   0                   0   \n",
       "2999996                   0                   0                   0   \n",
       "2999997                   0                 235                   0   \n",
       "2999998                   0                   0                   0   \n",
       "2999999                   0                   0                   0   \n",
       "\n",
       "         rook_open_col  rook_semi_open_col  queen_open_col  \\\n",
       "0                 -256                   0               0   \n",
       "1                 -256                   0             256   \n",
       "2                    0                   0               0   \n",
       "3                  256                   0               0   \n",
       "4                    0                   0               0   \n",
       "...                ...                 ...             ...   \n",
       "2999995              0                   0               0   \n",
       "2999996            256                   0               0   \n",
       "2999997              0                 256               0   \n",
       "2999998              0                 512               0   \n",
       "2999999            256                   0               0   \n",
       "\n",
       "         queen_semi_open_col  \n",
       "0                          0  \n",
       "1                          0  \n",
       "2                          0  \n",
       "3                          0  \n",
       "4                          0  \n",
       "...                      ...  \n",
       "2999995                    0  \n",
       "2999996                    0  \n",
       "2999997                    0  \n",
       "2999998                    0  \n",
       "2999999                    0  \n",
       "\n",
       "[3000000 rows x 478 columns]"
      ]
     },
     "execution_count": 3,
     "metadata": {},
     "output_type": "execute_result"
    }
   ],
   "source": [
    "data"
   ]
  },
  {
   "cell_type": "code",
   "execution_count": 4,
   "id": "pressed-circular",
   "metadata": {},
   "outputs": [],
   "source": [
    "dv = data.values"
   ]
  },
  {
   "cell_type": "markdown",
   "id": "concerned-approval",
   "metadata": {},
   "source": [
    "Делим выборку на обучающую и тестовую. Деление осуществляем по `game_id`, чтобы позиции из одной игры не оказались в разных выборках."
   ]
  },
  {
   "cell_type": "code",
   "execution_count": 5,
   "id": "spare-discussion",
   "metadata": {},
   "outputs": [],
   "source": [
    "games = np.array([i+1 for i in range(data['game_id'].max())])\n",
    "\n",
    "games_train, games_test = train_test_split(games, test_size=0.1, shuffle=True)"
   ]
  },
  {
   "cell_type": "code",
   "execution_count": 6,
   "id": "handed-lodge",
   "metadata": {},
   "outputs": [],
   "source": [
    "train_set = set(games_train)\n",
    "test_set = set(games_test)\n",
    "\n",
    "is_train = np.vectorize(lambda x: x in train_set)\n",
    "is_test = np.vectorize(lambda x: x in test_set)\n",
    "\n",
    "dv_train = dv[is_train(dv[:,1])]\n",
    "dv_test = dv[is_test(dv[:,1])]"
   ]
  },
  {
   "cell_type": "code",
   "execution_count": 7,
   "id": "biblical-asbestos",
   "metadata": {},
   "outputs": [],
   "source": [
    "del data\n",
    "del dv"
   ]
  },
  {
   "cell_type": "code",
   "execution_count": 8,
   "id": "unlikely-former",
   "metadata": {},
   "outputs": [],
   "source": [
    "X = dv_train[:,4:]\n",
    "y = dv_train[:,0]\n",
    "w = dv_train[:,3]\n",
    "\n",
    "X_test = dv_test[:,4:]\n",
    "y_test = dv_test[:,0]\n",
    "w_test = dv_test[:,3]\n",
    "\n",
    "del dv_train\n",
    "del dv_test"
   ]
  },
  {
   "cell_type": "markdown",
   "id": "illegal-presence",
   "metadata": {},
   "source": [
    "Ищем разброс значений (т.е. $\\max - \\min$) каждого из признаков. Это нам понадобится в дальнейшем для масштабирования:"
   ]
  },
  {
   "cell_type": "code",
   "execution_count": 9,
   "id": "restricted-collins",
   "metadata": {},
   "outputs": [
    {
     "data": {
      "text/plain": [
       "array([3584.,  245., 1024., 1024., 1280., 1536.,  245.,  245.,  245.,\n",
       "        245.,  245.,  245.,  245.,  245.,  512.,  512.,  512.,  512.,\n",
       "        512.,  512.,  512.,  512.,  512.,  512.,  512.,  512.,  512.,\n",
       "        512.,  512.,  512.,  512.,  512.,  512.,  512.,  512.,  512.,\n",
       "        512.,  512.,  512.,  512.,  512.,  512.,  512.,  512.,  512.,\n",
       "        512.,  512.,  512.,  512.,  512.,  512.,  512.,  512.,  512.,\n",
       "        512.,  512.,  512.,  512.,  512.,  512.,  512.,  512.,  245.,\n",
       "        245.,  245.,  245.,  245.,  245.,  245.,  245.,  299.,  341.,\n",
       "        299.,  288.,  288.,  288.,  245.,  277.,  331.,  298.,  277.,\n",
       "        288.,  341.,  330.,  320.,  288.,  309.,  362.,  309.,  320.,\n",
       "        330.,  288.,  330.,  342.,  363.,  363.,  406.,  320.,  341.,\n",
       "        373.,  384.,  363.,  384.,  395.,  427.,  427.,  405.,  416.,\n",
       "        426.,  426.,  437.,  469.,  470.,  490.,  480.,  459.,  470.,\n",
       "        501.,  491.,  512.,  512.,  512.,  512.,  512.,  512.,  512.,\n",
       "        501.,  512.,  512.,  490.,  512.,  512.,  512.,  512.,  512.,\n",
       "        512.,  512.,  512.,  512.,  512.,  512.,  512.,  512.,  512.,\n",
       "        512.,  512.,  512.,  512.,  512.,  512.,  512.,  512.,  512.,\n",
       "        512.,  512.,  512.,  512.,  512.,  512.,  512.,  512.,  512.,\n",
       "        512.,  512.,  512.,  512.,  512.,  512.,  512.,  512.,  512.,\n",
       "        512.,  512.,  512.,  512.,  512.,  512.,  512.,  512.,  512.,\n",
       "        512.,  512.,  512.,  512.,  512.,  512.,  512.,  512.,  512.,\n",
       "        512.,  512.,  512.,  512.,  512.,  512.,  512.,  512.,  512.,\n",
       "        512.,  512.,  512.,  512.,  512.,  512.,  512.,  512.,  512.,\n",
       "        512.,  512.,  512.,  512.,  512.,  512.,  512.,  512.,  512.,\n",
       "        512.,  512.,  512.,  512.,  512.,  512.,  512.,  512.,  512.,\n",
       "        512.,  512.,  512.,  512.,  512.,  512.,  512.,  512.,  512.,\n",
       "        512.,  512.,  512.,  512.,  512.,  512.,  512.,  512.,  512.,\n",
       "        512.,  512.,  512.,  512.,  512.,  512.,  512.,  512.,  512.,\n",
       "        512.,  512.,  512.,  512.,  512.,  512.,  512.,  512.,  512.,\n",
       "        512.,  512.,  512.,  512.,  512.,  512.,  512.,  512.,  512.,\n",
       "        512.,  512.,  512.,  512.,  512.,  512.,  512.,  512.,  512.,\n",
       "        512.,  512.,  512.,  512.,  512.,  512.,  512.,  512.,  512.,\n",
       "        512.,  512.,  512.,  512.,  512.,  512.,  512.,  512.,  512.,\n",
       "        512.,  512.,  512.,  512.,  512.,  512.,  512.,  512.,  512.,\n",
       "        512.,  512.,  512.,  512.,  512.,  512.,  512.,  512.,  512.,\n",
       "        512.,  512.,  512.,  512.,  512.,  512.,  512.,  512.,  512.,\n",
       "        512.,  512.,  512.,  512.,  512.,  512.,  512.,  512.,  512.,\n",
       "        512.,  512.,  512.,  512.,  512.,  512.,  512.,  512.,  512.,\n",
       "        512.,  512.,  512.,  512.,  512.,  512.,  512.,  512.,  512.,\n",
       "        512.,  512.,  512.,  512.,  512.,  512.,  512.,  512.,  512.,\n",
       "        512.,  512.,  512.,  512.,  512.,  512.,  512.,  512.,  512.,\n",
       "        512.,  512.,  512.,  512.,  512.,  512.,  512.,  512.,  512.,\n",
       "        512.,  512.,  512.,  512.,  512.,  512.,  512.,  512.,  512.,\n",
       "        512.,  512.,  512.,  512.,  512.,  512.,  512.,  512.,  512.,\n",
       "        512.,  512.,  512.,  512.,  512.,  512.,  512.,  512.,  512.,\n",
       "        512.,  512.,  512.,  512.,  512.,  512.,  512.,  512.,  512.,\n",
       "        512.,  512.,  512.,  512.,  512.,  512.,  512.,  512.,  512.,\n",
       "        512.,  512.,  512.,  512.,  512.,  512.,  512.,  512.,  512.,\n",
       "        512.,  512.,  512.,  512.,  512.,  512.,  512.,  512.,  512.,\n",
       "        512.,  512.,  512.,  512.,  512.,  512.,  512.,  512.,  512.,\n",
       "        512.,  512.,  512.,  512., 4352., 5120.,  512., 3584., 3072.,\n",
       "       3584., 1792., 2048., 2816., 2304.,  512.,  512.,  512.,  512.,\n",
       "        512.,  512., 1280., 1024., 1536., 1024.])"
      ]
     },
     "execution_count": 9,
     "metadata": {},
     "output_type": "execute_result"
    }
   ],
   "source": [
    "std = np.max(X, axis=0) - np.min(X, axis=0)\n",
    "std = np.maximum(np.min(std[std > 1e-9]), std)  # чтобы не допустить деления на ноль в дальнейшем\n",
    "std"
   ]
  },
  {
   "cell_type": "markdown",
   "id": "rough-shift",
   "metadata": {},
   "source": [
    "Масштабируем признаки:"
   ]
  },
  {
   "cell_type": "code",
   "execution_count": 10,
   "id": "played-conditions",
   "metadata": {},
   "outputs": [],
   "source": [
    "X /= std\n",
    "X_test /= std"
   ]
  },
  {
   "cell_type": "markdown",
   "id": "informed-services",
   "metadata": {},
   "source": [
    "Создаем нашу модель. Здесь используется модель, описанная [на Хабре](https://habr.com/ru/post/305604/), только мы не пишем градиентный спуск руками, а используем силу PyTorch"
   ]
  },
  {
   "cell_type": "code",
   "execution_count": 11,
   "id": "latter-apollo",
   "metadata": {},
   "outputs": [],
   "source": [
    "model = nn.Sequential()\n",
    "model.add_module('linear', nn.Linear(X.shape[1], 1, bias=False))\n",
    "model.add_module('sigmoid', nn.Sigmoid())"
   ]
  },
  {
   "cell_type": "code",
   "execution_count": 12,
   "id": "legal-attack",
   "metadata": {},
   "outputs": [],
   "source": [
    "opt = torch.optim.Adam(model.parameters(), lr=0.01)"
   ]
  },
  {
   "cell_type": "markdown",
   "id": "allied-lancaster",
   "metadata": {},
   "source": [
    "Определяем функцию потерь:"
   ]
  },
  {
   "cell_type": "code",
   "execution_count": 13,
   "id": "studied-tablet",
   "metadata": {},
   "outputs": [],
   "source": [
    "def get_loss(model, X, y, w, C=0.0):\n",
    "    w = np.exp(-w / 32.)\n",
    "    y_pred = model(X)[:, 0]\n",
    "    assert y_pred.dim() == 1\n",
    "    loss = torch.sum(w * ((y - y_pred) ** 2)) / torch.sum(w)\n",
    "    loss += C * torch.norm(model.linear.weight, 2)\n",
    "    return loss"
   ]
  },
  {
   "cell_type": "markdown",
   "id": "increased-dress",
   "metadata": {},
   "source": [
    "Обучаем, пока не сойдется функция потерь. Для этого может быть полезно запустить ячейку несколько раз. А может быть, ее стоит остановить раньше."
   ]
  },
  {
   "cell_type": "code",
   "execution_count": 14,
   "id": "narrative-poker",
   "metadata": {
    "scrolled": false
   },
   "outputs": [
    {
     "name": "stdout",
     "output_type": "stream",
     "text": [
      "step #0, train_loss = 0.1655, test_loss = 0.1608\n",
      "step #100, train_loss = 0.0884, test_loss = 0.0828\n",
      "step #200, train_loss = 0.0729, test_loss = 0.0706\n",
      "step #300, train_loss = 0.0672, test_loss = 0.0655\n",
      "step #400, train_loss = 0.0644, test_loss = 0.0628\n",
      "step #500, train_loss = 0.0625, test_loss = 0.0610\n",
      "step #600, train_loss = 0.0614, test_loss = 0.0598\n",
      "step #700, train_loss = 0.0605, test_loss = 0.0589\n",
      "step #800, train_loss = 0.0599, test_loss = 0.0582\n",
      "step #900, train_loss = 0.0592, test_loss = 0.0577\n",
      "step #1000, train_loss = 0.0589, test_loss = 0.0573\n",
      "step #1100, train_loss = 0.0585, test_loss = 0.0569\n",
      "step #1200, train_loss = 0.0584, test_loss = 0.0566\n",
      "step #1300, train_loss = 0.0581, test_loss = 0.0563\n",
      "step #1400, train_loss = 0.0577, test_loss = 0.0561\n",
      "step #1500, train_loss = 0.0578, test_loss = 0.0559\n",
      "step #1600, train_loss = 0.0574, test_loss = 0.0558\n",
      "step #1700, train_loss = 0.0578, test_loss = 0.0556\n",
      "step #1800, train_loss = 0.0572, test_loss = 0.0555\n",
      "step #1900, train_loss = 0.0573, test_loss = 0.0554\n",
      "step #2000, train_loss = 0.0570, test_loss = 0.0553\n",
      "step #2100, train_loss = 0.0571, test_loss = 0.0552\n",
      "step #2200, train_loss = 0.0568, test_loss = 0.0551\n",
      "step #2300, train_loss = 0.0569, test_loss = 0.0550\n",
      "step #2400, train_loss = 0.0571, test_loss = 0.0550\n",
      "step #2500, train_loss = 0.0567, test_loss = 0.0550\n",
      "step #2600, train_loss = 0.0568, test_loss = 0.0549\n",
      "step #2700, train_loss = 0.0567, test_loss = 0.0548\n",
      "step #2800, train_loss = 0.0569, test_loss = 0.0548\n",
      "step #2900, train_loss = 0.0568, test_loss = 0.0548\n",
      "step #3000, train_loss = 0.0568, test_loss = 0.0547\n",
      "step #3100, train_loss = 0.0569, test_loss = 0.0547\n",
      "step #3200, train_loss = 0.0564, test_loss = 0.0547\n",
      "step #3300, train_loss = 0.0564, test_loss = 0.0547\n",
      "step #3400, train_loss = 0.0568, test_loss = 0.0547\n",
      "step #3500, train_loss = 0.0567, test_loss = 0.0546\n",
      "step #3600, train_loss = 0.0567, test_loss = 0.0546\n",
      "step #3700, train_loss = 0.0566, test_loss = 0.0546\n",
      "step #3800, train_loss = 0.0565, test_loss = 0.0546\n",
      "step #3900, train_loss = 0.0564, test_loss = 0.0546\n",
      "step #4000, train_loss = 0.0569, test_loss = 0.0546\n",
      "step #4100, train_loss = 0.0565, test_loss = 0.0546\n",
      "step #4200, train_loss = 0.0566, test_loss = 0.0546\n",
      "step #4300, train_loss = 0.0567, test_loss = 0.0546\n",
      "step #4400, train_loss = 0.0565, test_loss = 0.0546\n",
      "step #4500, train_loss = 0.0565, test_loss = 0.0546\n",
      "step #4600, train_loss = 0.0566, test_loss = 0.0545\n",
      "step #4700, train_loss = 0.0565, test_loss = 0.0545\n",
      "step #4800, train_loss = 0.0565, test_loss = 0.0545\n",
      "step #4900, train_loss = 0.0566, test_loss = 0.0545\n",
      "step #5000, train_loss = 0.0565, test_loss = 0.0546\n",
      "step #5100, train_loss = 0.0565, test_loss = 0.0544\n",
      "step #5200, train_loss = 0.0564, test_loss = 0.0545\n",
      "step #5300, train_loss = 0.0565, test_loss = 0.0545\n",
      "step #5400, train_loss = 0.0561, test_loss = 0.0545\n",
      "step #5500, train_loss = 0.0563, test_loss = 0.0545\n",
      "step #5600, train_loss = 0.0565, test_loss = 0.0545\n",
      "step #5700, train_loss = 0.0564, test_loss = 0.0545\n",
      "step #5800, train_loss = 0.0566, test_loss = 0.0545\n",
      "step #5900, train_loss = 0.0563, test_loss = 0.0545\n"
     ]
    }
   ],
   "source": [
    "C = 3e-5\n",
    "\n",
    "history = []\n",
    "\n",
    "for i in range(6000):\n",
    "    # собираем батч\n",
    "    indices = np.random.randint(0, X.shape[0], 16000)\n",
    "    X_batch = torch.tensor(X[indices], dtype=torch.float32)\n",
    "    y_batch = torch.tensor(y[indices], dtype=torch.float32)\n",
    "    w_batch = torch.tensor(w[indices], dtype=torch.float32)\n",
    "    \n",
    "    # считаем функцию потерь\n",
    "    loss = get_loss(model, X_batch, y_batch, w_batch, C=C)\n",
    "\n",
    "    loss.backward()\n",
    "    \n",
    "    # надо раскомментить, если хочется менять только короля\n",
    "    # model.linear.weight.grad[0, 0:6+64] = 0\n",
    "    # model.linear.weight.grad[0, 6+64:6+384] = 0\n",
    "    # model.linear.weight.grad[0, 6+448:] = 0\n",
    "    \n",
    "    # оптимизируем\n",
    "    opt.step()\n",
    "    opt.zero_grad()\n",
    "\n",
    "    history.append(loss.data.numpy())\n",
    "\n",
    "    # выводим результаты\n",
    "    if i % 100 == 0:\n",
    "        test_loss = get_loss(model,\n",
    "            torch.tensor(X_test, dtype=torch.float32),\n",
    "            torch.tensor(y_test, dtype=torch.float32),\n",
    "            torch.tensor(w_test, dtype=torch.float32),\n",
    "            C=0.0).detach().numpy().sum()\n",
    "        train_loss = np.mean(history[-40:])\n",
    "        print(f\"step #{i}, train_loss = {train_loss:.4f}, test_loss = {test_loss:.4f}\")"
   ]
  },
  {
   "cell_type": "markdown",
   "id": "adopted-example",
   "metadata": {},
   "source": [
    "Смотрим на итоговое значение функции потерь на тестовом датасете:"
   ]
  },
  {
   "cell_type": "code",
   "execution_count": 15,
   "id": "permanent-asthma",
   "metadata": {},
   "outputs": [
    {
     "data": {
      "text/plain": [
       "0.054474976"
      ]
     },
     "execution_count": 15,
     "metadata": {},
     "output_type": "execute_result"
    }
   ],
   "source": [
    "test_loss = get_loss(model,\n",
    "                     torch.tensor(X_test, dtype=torch.float32),\n",
    "                     torch.tensor(y_test, dtype=torch.float32),\n",
    "                     torch.tensor(w_test, dtype=torch.float32)).detach().numpy().sum()\n",
    "test_loss"
   ]
  },
  {
   "cell_type": "markdown",
   "id": "lonely-computer",
   "metadata": {},
   "source": [
    "Ради интереса посмотрим на вероятности, которые предсказывает модель для каких-то $20$ соседних примеров тестовой выборки:"
   ]
  },
  {
   "cell_type": "code",
   "execution_count": 16,
   "id": "intermediate-dragon",
   "metadata": {},
   "outputs": [
    {
     "name": "stdout",
     "output_type": "stream",
     "text": [
      "tensor([0.6032, 0.3107, 0.5040, 0.4868, 0.4539, 0.4607, 0.5219, 0.8806, 0.6456,\n",
      "        0.9430, 0.3895, 0.3628, 0.5330, 0.9585, 0.9040, 0.3311, 0.5680, 0.5478,\n",
      "        0.2766, 0.4786], grad_fn=<SliceBackward>) [0.5 0.5 0.5 0.  0.  1.  0.5 1.  1.  1.  0.  0.  0.5 1.  1.  0.  0.  1.\n",
      " 1.  0.5]\n"
     ]
    }
   ],
   "source": [
    "res = model(torch.tensor(X_test, dtype=torch.float32))[:, 0]\n",
    "\n",
    "print(res[450:470], y_test[450:470])"
   ]
  },
  {
   "cell_type": "markdown",
   "id": "imperial-power",
   "metadata": {},
   "source": [
    "Теперь было бы неплохо преобразовать веса модели в коэффициенты, которые мы будем использовать в шахматной программе. Для этого нормируем таблицы фигура-поле так, чтобы медианное значение занулилось. Затем умножим все веса на одно и то же число так, чтобы стоимость пешки была равна `100` (т. е. одной пешке)"
   ]
  },
  {
   "cell_type": "code",
   "execution_count": 17,
   "id": "sought-carol",
   "metadata": {},
   "outputs": [
    {
     "name": "stdout",
     "output_type": "stream",
     "text": [
      "[ 100    0  323  352  541 1003    0    0    0    0    0    0    0    0\n",
      "  183  191  210  159  155  160  175  150  100   93   76   67   49   74\n",
      "   77   71   24   20   -1    7   24   12    6    6   -2   -4   -8    0\n",
      "  -12    0   -5   -8   -9  -13  -14  -13  -10   -7   -7  -18  -10   -6\n",
      "  -13  -39  -17   -3   -5  -23    0    0    0    0    0    0    0    0\n",
      "  157  216   52  151  194   56  175  -55  119  -36   55 -248   50   13\n",
      "  -12 -104  -79  -48 -206 -243 -225  -54  -87 -235  -58  -20 -129 -141\n",
      "  -56  -72 -122  -87   78   74  111   30    8   23   15  -96  -13   46\n",
      "   55   75   54   51   15  -39   31   -2   14   18   19   26   65   97\n",
      " -156   -4   57  -78   48  -62    7   14  -57  -24   19   18  -15  -34\n",
      "  -24  -93  -35    9    6   34   23   30   -4  -56   -4   12   45   35\n",
      "   52   36   52   -2  -11   -5   42   52   48   57   54   16  -35   -6\n",
      "   20   26   46   32   29   23  -65  -25    0   13   31   27   13   -7\n",
      "  -61  -29   -5   -1   -9    7  -11    3 -138  -63  -36  -25  -23  -16\n",
      "    0  -66  -16    6   -2   12   -2   -2   -5  -14  -54   -8    0   21\n",
      "   11   10   -6  -60  -33  -11   14   22   30   42    9   54  -22    0\n",
      "   17   27   28   15    9    9  -25    0    6   17   14   11    0   32\n",
      "  -21   16   -4   10    2    7   15    6  -39  -21   22  -12  -12  -16\n",
      "   12  -22  -26   -9  -39  -28  -22  -26  -24  -17    4   10   14    8\n",
      "   19   18   16   16   22   24   19   31   22   35   29   19   15   19\n",
      "    3    0  -24    6    5   17    9    6    9    5   -3   14    8    0\n",
      "   -1   -5   -9   -1  -21   -6    3  -25   -8   -8  -25  -18  -20  -11\n",
      "    7   -7   -8  -12  -26  -27  -24  -13    4  -25  -28  -24  -23  -19\n",
      "  -17  -17   -5  -18  -13    7   34   17    5  -36   27  -26  -51  -26\n",
      "    1   -4  -11  -37   -2   -5  -32  -28   -2   10   16   18   -2   -1\n",
      "  -30   -1   17    7   36   11   30   17   -3    7   16   30   44   50\n",
      "   54   30  -23   -8    0    7   25   33   50   33  -29  -10    4    8\n",
      "   22   17    0  -17  -26  -45   -2    0   -7  -73  -83  -65 -141  -66\n",
      "  -67   -1  -13   31   23  -62  -18  -20    3    6   38   66  111   50\n",
      "   23   45   -2   40   70   99  113   65  -11   21   23   35   40   56\n",
      "   59   43  -50  -20   -4    6    4   -2   -3    5  -44  -27  -19  -13\n",
      "  -10  -14  -18  -11  -29  -13  -12  -17  -11  -16  -19  -56  -15  -21\n",
      "  -41  -27  -73  -17  -48  -69   29    1   41   -8  -11   37    8   -9\n",
      "    6   -2   34   74   21   39   62    5   35   33   15   15]\n"
     ]
    }
   ],
   "source": [
    "ws = (model.linear.weight[0]).detach().numpy() / std\n",
    "for p in [0, 2, 3, 4, 5]:\n",
    "    left = 6 + 64 * p\n",
    "    right = 6 + 64 * (p + 1)\n",
    "    if p == 0:\n",
    "        # верхний и нижний ряд у пешки не используется, не обращаем на него внимание\n",
    "        left += 8\n",
    "        right -= 8\n",
    "    m = np.median(ws[left:right])\n",
    "    ws[left:right] -= m\n",
    "    ws[p] += m\n",
    "\n",
    "ww = (ws / ws[0] * 100).astype(np.int32)\n",
    "print(ww)"
   ]
  },
  {
   "cell_type": "markdown",
   "id": "international-begin",
   "metadata": {},
   "source": [
    "Эти веса уже можно скопировать, вставить в утилиту `apply_weigths` и использовать в `SoFCheck`'е.\n",
    "\n",
    "Далее визуализируем полученные веса:"
   ]
  },
  {
   "cell_type": "code",
   "execution_count": 18,
   "id": "changed-reply",
   "metadata": {},
   "outputs": [],
   "source": [
    "def display_mat(mat):\n",
    "    plt.matshow(mat)\n",
    "    for (x, y), value in np.ndenumerate(mat):\n",
    "        plt.text(y, x, f\"{value}\", va=\"center\", ha=\"center\")"
   ]
  },
  {
   "cell_type": "markdown",
   "id": "adverse-phone",
   "metadata": {},
   "source": [
    "Стоимости фигур:"
   ]
  },
  {
   "cell_type": "code",
   "execution_count": 19,
   "id": "overall-carter",
   "metadata": {},
   "outputs": [
    {
     "data": {
      "text/plain": [
       "array([ 100,    0,  323,  352,  541, 1003], dtype=int32)"
      ]
     },
     "execution_count": 19,
     "metadata": {},
     "output_type": "execute_result"
    }
   ],
   "source": [
    "ww[:6]"
   ]
  },
  {
   "cell_type": "markdown",
   "id": "particular-burton",
   "metadata": {},
   "source": [
    "Таблицы фигура-поле для пешки:"
   ]
  },
  {
   "cell_type": "code",
   "execution_count": 20,
   "id": "plain-anthony",
   "metadata": {},
   "outputs": [
    {
     "data": {
      "image/png": "[encoded data removed]",
      "text/plain": [
       "<Figure size 288x288 with 1 Axes>"
      ]
     },
     "metadata": {
      "needs_background": "light"
     },
     "output_type": "display_data"
    }
   ],
   "source": [
    "display_mat(ww[6:6+64].reshape(8, 8))"
   ]
  },
  {
   "cell_type": "markdown",
   "id": "available-representative",
   "metadata": {},
   "source": [
    "Таблицы фигура-поле для короля в миттельшпиле:"
   ]
  },
  {
   "cell_type": "code",
   "execution_count": 21,
   "id": "federal-brave",
   "metadata": {},
   "outputs": [
    {
     "data": {
      "image/png": "[encoded data removed]",
      "text/plain": [
       "<Figure size 288x288 with 1 Axes>"
      ]
     },
     "metadata": {
      "needs_background": "light"
     },
     "output_type": "display_data"
    }
   ],
   "source": [
    "display_mat(ww[6+64:6+128].reshape(8, 8))"
   ]
  },
  {
   "cell_type": "markdown",
   "id": "constant-division",
   "metadata": {},
   "source": [
    "Таблицы фигура-поле для коня:"
   ]
  },
  {
   "cell_type": "code",
   "execution_count": 22,
   "id": "separate-safety",
   "metadata": {},
   "outputs": [
    {
     "data": {
      "image/png": "[encoded data removed]",
      "text/plain": [
       "<Figure size 288x288 with 1 Axes>"
      ]
     },
     "metadata": {
      "needs_background": "light"
     },
     "output_type": "display_data"
    }
   ],
   "source": [
    "display_mat(ww[6+128:6+192].reshape(8, 8))"
   ]
  },
  {
   "cell_type": "markdown",
   "id": "advised-charm",
   "metadata": {},
   "source": [
    "Таблицы фигура-поле для слона:"
   ]
  },
  {
   "cell_type": "code",
   "execution_count": 23,
   "id": "adaptive-salvation",
   "metadata": {},
   "outputs": [
    {
     "data": {
      "image/png": "[encoded data removed]",
      "text/plain": [
       "<Figure size 288x288 with 1 Axes>"
      ]
     },
     "metadata": {
      "needs_background": "light"
     },
     "output_type": "display_data"
    }
   ],
   "source": [
    "display_mat(ww[6+192:6+256].reshape(8, 8))"
   ]
  },
  {
   "cell_type": "markdown",
   "id": "advanced-joshua",
   "metadata": {},
   "source": [
    "Таблицы фигура-поле для ладьи:"
   ]
  },
  {
   "cell_type": "code",
   "execution_count": 24,
   "id": "recognized-pierre",
   "metadata": {},
   "outputs": [
    {
     "data": {
      "image/png": "[encoded data removed]",
      "text/plain": [
       "<Figure size 288x288 with 1 Axes>"
      ]
     },
     "metadata": {
      "needs_background": "light"
     },
     "output_type": "display_data"
    }
   ],
   "source": [
    "display_mat(ww[6+256:6+320].reshape(8, 8))"
   ]
  },
  {
   "cell_type": "markdown",
   "id": "apparent-burlington",
   "metadata": {},
   "source": [
    "Таблицы фигура-поле для ферзя:"
   ]
  },
  {
   "cell_type": "code",
   "execution_count": 25,
   "id": "leading-assist",
   "metadata": {},
   "outputs": [
    {
     "data": {
      "image/png": "[encoded data removed]",
      "text/plain": [
       "<Figure size 288x288 with 1 Axes>"
      ]
     },
     "metadata": {
      "needs_background": "light"
     },
     "output_type": "display_data"
    }
   ],
   "source": [
    "display_mat(ww[6+320:6+384].reshape(8, 8))"
   ]
  },
  {
   "cell_type": "markdown",
   "id": "corporate-august",
   "metadata": {},
   "source": [
    "Таблицы фигура-поле для короля в эндшпиле:"
   ]
  },
  {
   "cell_type": "code",
   "execution_count": 26,
   "id": "alien-contractor",
   "metadata": {},
   "outputs": [
    {
     "data": {
      "image/png": "[encoded data removed]",
      "text/plain": [
       "<Figure size 288x288 with 1 Axes>"
      ]
     },
     "metadata": {
      "needs_background": "light"
     },
     "output_type": "display_data"
    }
   ],
   "source": [
    "display_mat(ww[6+384:6+448].reshape(8, 8))"
   ]
  },
  {
   "cell_type": "markdown",
   "id": "through-freedom",
   "metadata": {},
   "source": [
    "Стоимость фигур, близких к вражескому королю, и стоимость двух слонов:"
   ]
  },
  {
   "cell_type": "code",
   "execution_count": 27,
   "id": "effective-decline",
   "metadata": {},
   "outputs": [
    {
     "data": {
      "text/plain": [
       "(29, 1, 41)"
      ]
     },
     "execution_count": 27,
     "metadata": {},
     "output_type": "execute_result"
    }
   ],
   "source": [
    "ww[454], ww[455], ww[456]"
   ]
  },
  {
   "cell_type": "markdown",
   "id": "greatest-following",
   "metadata": {},
   "source": [
    "Стоимость пешек: изолированная, двойная, проходная:"
   ]
  },
  {
   "cell_type": "code",
   "execution_count": 28,
   "id": "adolescent-breath",
   "metadata": {},
   "outputs": [
    {
     "data": {
      "text/plain": [
       "(41, -8, -11)"
      ]
     },
     "execution_count": 28,
     "metadata": {},
     "output_type": "execute_result"
    }
   ],
   "source": [
    "ww[456], ww[457], ww[458]"
   ]
  }
 ],
 "metadata": {
  "kernelspec": {
   "display_name": "Python 3",
   "language": "python",
   "name": "python3"
  },
  "language_info": {
   "codemirror_mode": {
    "name": "ipython",
    "version": 3
   },
   "file_extension": ".py",
   "mimetype": "text/x-python",
   "name": "python",
   "nbconvert_exporter": "python",
   "pygments_lexer": "ipython3",
   "version": "3.8.10"
  }
 },
 "nbformat": 4,
 "nbformat_minor": 5
}
