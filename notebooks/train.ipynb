{
 "cells": [
  {
   "cell_type": "markdown",
   "id": "convenient-firmware",
   "metadata": {},
   "source": [
    "Импортируем библиотеки:"
   ]
  },
  {
   "cell_type": "code",
   "execution_count": 1,
   "id": "another-syracuse",
   "metadata": {},
   "outputs": [],
   "source": [
    "import numpy as np\n",
    "import pandas as pd\n",
    "import torch\n",
    "import matplotlib.pyplot as plt\n",
    "\n",
    "from sklearn.model_selection import cross_val_score, train_test_split\n",
    "from sklearn.linear_model import LogisticRegression\n",
    "from sklearn.preprocessing import StandardScaler, MinMaxScaler\n",
    "from torch import nn\n",
    "from sklearn.feature_selection import SelectKBest\n",
    "\n",
    "%matplotlib inline"
   ]
  },
  {
   "cell_type": "markdown",
   "id": "operational-holocaust",
   "metadata": {},
   "source": [
    "Загружаем данные из CSV. Данные преобразовываются в CSV с помощью утилиты `make_dataset`, которая собирается вместе с `SoFCheck`'ом"
   ]
  },
  {
   "cell_type": "code",
   "execution_count": 2,
   "id": "apart-handle",
   "metadata": {},
   "outputs": [],
   "source": [
    "data = pd.read_csv('dataset.csv')"
   ]
  },
  {
   "cell_type": "code",
   "execution_count": 3,
   "id": "convertible-accommodation",
   "metadata": {},
   "outputs": [
    {
     "data": {
      "text/html": [
       "<div>\n",
       "<style scoped>\n",
       "    .dataframe tbody tr th:only-of-type {\n",
       "        vertical-align: middle;\n",
       "    }\n",
       "\n",
       "    .dataframe tbody tr th {\n",
       "        vertical-align: top;\n",
       "    }\n",
       "\n",
       "    .dataframe thead th {\n",
       "        text-align: right;\n",
       "    }\n",
       "</style>\n",
       "<table border=\"1\" class=\"dataframe\">\n",
       "  <thead>\n",
       "    <tr style=\"text-align: right;\">\n",
       "      <th></th>\n",
       "      <th>winner</th>\n",
       "      <th>game_id</th>\n",
       "      <th>board_total</th>\n",
       "      <th>board_left</th>\n",
       "      <th>psq.cost.0</th>\n",
       "      <th>psq.cost.1</th>\n",
       "      <th>psq.cost.2</th>\n",
       "      <th>psq.cost.3</th>\n",
       "      <th>psq.cost.4</th>\n",
       "      <th>psq.cost.5</th>\n",
       "      <th>...</th>\n",
       "      <th>psq.king_end.63</th>\n",
       "      <th>queen_near_to_king</th>\n",
       "      <th>two_bishops</th>\n",
       "      <th>pawn_isolated</th>\n",
       "      <th>pawn_double</th>\n",
       "      <th>pawn_passed</th>\n",
       "      <th>pawn_candidate</th>\n",
       "      <th>pawn_open</th>\n",
       "      <th>pawn_protected</th>\n",
       "      <th>pawn_backward</th>\n",
       "    </tr>\n",
       "  </thead>\n",
       "  <tbody>\n",
       "    <tr>\n",
       "      <th>0</th>\n",
       "      <td>1.0</td>\n",
       "      <td>64808</td>\n",
       "      <td>144</td>\n",
       "      <td>84</td>\n",
       "      <td>256</td>\n",
       "      <td>0</td>\n",
       "      <td>0</td>\n",
       "      <td>-256</td>\n",
       "      <td>256</td>\n",
       "      <td>0</td>\n",
       "      <td>...</td>\n",
       "      <td>-96</td>\n",
       "      <td>-512</td>\n",
       "      <td>0</td>\n",
       "      <td>512</td>\n",
       "      <td>0</td>\n",
       "      <td>0</td>\n",
       "      <td>0</td>\n",
       "      <td>256</td>\n",
       "      <td>256</td>\n",
       "      <td>0</td>\n",
       "    </tr>\n",
       "    <tr>\n",
       "      <th>1</th>\n",
       "      <td>0.0</td>\n",
       "      <td>88564</td>\n",
       "      <td>113</td>\n",
       "      <td>79</td>\n",
       "      <td>0</td>\n",
       "      <td>0</td>\n",
       "      <td>0</td>\n",
       "      <td>0</td>\n",
       "      <td>0</td>\n",
       "      <td>0</td>\n",
       "      <td>...</td>\n",
       "      <td>0</td>\n",
       "      <td>0</td>\n",
       "      <td>0</td>\n",
       "      <td>0</td>\n",
       "      <td>0</td>\n",
       "      <td>0</td>\n",
       "      <td>0</td>\n",
       "      <td>0</td>\n",
       "      <td>0</td>\n",
       "      <td>0</td>\n",
       "    </tr>\n",
       "    <tr>\n",
       "      <th>2</th>\n",
       "      <td>0.5</td>\n",
       "      <td>73859</td>\n",
       "      <td>141</td>\n",
       "      <td>52</td>\n",
       "      <td>0</td>\n",
       "      <td>0</td>\n",
       "      <td>0</td>\n",
       "      <td>0</td>\n",
       "      <td>0</td>\n",
       "      <td>0</td>\n",
       "      <td>...</td>\n",
       "      <td>0</td>\n",
       "      <td>0</td>\n",
       "      <td>0</td>\n",
       "      <td>0</td>\n",
       "      <td>0</td>\n",
       "      <td>0</td>\n",
       "      <td>0</td>\n",
       "      <td>0</td>\n",
       "      <td>-256</td>\n",
       "      <td>0</td>\n",
       "    </tr>\n",
       "    <tr>\n",
       "      <th>3</th>\n",
       "      <td>0.5</td>\n",
       "      <td>1690</td>\n",
       "      <td>142</td>\n",
       "      <td>60</td>\n",
       "      <td>-256</td>\n",
       "      <td>0</td>\n",
       "      <td>0</td>\n",
       "      <td>0</td>\n",
       "      <td>0</td>\n",
       "      <td>0</td>\n",
       "      <td>...</td>\n",
       "      <td>0</td>\n",
       "      <td>0</td>\n",
       "      <td>0</td>\n",
       "      <td>0</td>\n",
       "      <td>0</td>\n",
       "      <td>-256</td>\n",
       "      <td>0</td>\n",
       "      <td>0</td>\n",
       "      <td>0</td>\n",
       "      <td>0</td>\n",
       "    </tr>\n",
       "    <tr>\n",
       "      <th>4</th>\n",
       "      <td>0.0</td>\n",
       "      <td>15591</td>\n",
       "      <td>121</td>\n",
       "      <td>42</td>\n",
       "      <td>0</td>\n",
       "      <td>0</td>\n",
       "      <td>0</td>\n",
       "      <td>0</td>\n",
       "      <td>0</td>\n",
       "      <td>0</td>\n",
       "      <td>...</td>\n",
       "      <td>0</td>\n",
       "      <td>0</td>\n",
       "      <td>0</td>\n",
       "      <td>-512</td>\n",
       "      <td>0</td>\n",
       "      <td>-256</td>\n",
       "      <td>0</td>\n",
       "      <td>256</td>\n",
       "      <td>256</td>\n",
       "      <td>0</td>\n",
       "    </tr>\n",
       "    <tr>\n",
       "      <th>...</th>\n",
       "      <td>...</td>\n",
       "      <td>...</td>\n",
       "      <td>...</td>\n",
       "      <td>...</td>\n",
       "      <td>...</td>\n",
       "      <td>...</td>\n",
       "      <td>...</td>\n",
       "      <td>...</td>\n",
       "      <td>...</td>\n",
       "      <td>...</td>\n",
       "      <td>...</td>\n",
       "      <td>...</td>\n",
       "      <td>...</td>\n",
       "      <td>...</td>\n",
       "      <td>...</td>\n",
       "      <td>...</td>\n",
       "      <td>...</td>\n",
       "      <td>...</td>\n",
       "      <td>...</td>\n",
       "      <td>...</td>\n",
       "      <td>...</td>\n",
       "    </tr>\n",
       "    <tr>\n",
       "      <th>2999995</th>\n",
       "      <td>0.0</td>\n",
       "      <td>27657</td>\n",
       "      <td>143</td>\n",
       "      <td>112</td>\n",
       "      <td>256</td>\n",
       "      <td>0</td>\n",
       "      <td>0</td>\n",
       "      <td>0</td>\n",
       "      <td>0</td>\n",
       "      <td>0</td>\n",
       "      <td>...</td>\n",
       "      <td>0</td>\n",
       "      <td>0</td>\n",
       "      <td>0</td>\n",
       "      <td>256</td>\n",
       "      <td>0</td>\n",
       "      <td>0</td>\n",
       "      <td>256</td>\n",
       "      <td>0</td>\n",
       "      <td>0</td>\n",
       "      <td>0</td>\n",
       "    </tr>\n",
       "    <tr>\n",
       "      <th>2999996</th>\n",
       "      <td>1.0</td>\n",
       "      <td>11347</td>\n",
       "      <td>166</td>\n",
       "      <td>152</td>\n",
       "      <td>0</td>\n",
       "      <td>0</td>\n",
       "      <td>0</td>\n",
       "      <td>0</td>\n",
       "      <td>0</td>\n",
       "      <td>0</td>\n",
       "      <td>...</td>\n",
       "      <td>0</td>\n",
       "      <td>0</td>\n",
       "      <td>0</td>\n",
       "      <td>0</td>\n",
       "      <td>0</td>\n",
       "      <td>0</td>\n",
       "      <td>0</td>\n",
       "      <td>0</td>\n",
       "      <td>-512</td>\n",
       "      <td>0</td>\n",
       "    </tr>\n",
       "    <tr>\n",
       "      <th>2999997</th>\n",
       "      <td>1.0</td>\n",
       "      <td>40768</td>\n",
       "      <td>146</td>\n",
       "      <td>84</td>\n",
       "      <td>-512</td>\n",
       "      <td>0</td>\n",
       "      <td>0</td>\n",
       "      <td>256</td>\n",
       "      <td>0</td>\n",
       "      <td>0</td>\n",
       "      <td>...</td>\n",
       "      <td>0</td>\n",
       "      <td>0</td>\n",
       "      <td>0</td>\n",
       "      <td>0</td>\n",
       "      <td>0</td>\n",
       "      <td>-256</td>\n",
       "      <td>0</td>\n",
       "      <td>-256</td>\n",
       "      <td>0</td>\n",
       "      <td>0</td>\n",
       "    </tr>\n",
       "    <tr>\n",
       "      <th>2999998</th>\n",
       "      <td>1.0</td>\n",
       "      <td>40032</td>\n",
       "      <td>118</td>\n",
       "      <td>15</td>\n",
       "      <td>0</td>\n",
       "      <td>0</td>\n",
       "      <td>0</td>\n",
       "      <td>0</td>\n",
       "      <td>0</td>\n",
       "      <td>0</td>\n",
       "      <td>...</td>\n",
       "      <td>0</td>\n",
       "      <td>0</td>\n",
       "      <td>0</td>\n",
       "      <td>0</td>\n",
       "      <td>0</td>\n",
       "      <td>0</td>\n",
       "      <td>0</td>\n",
       "      <td>0</td>\n",
       "      <td>0</td>\n",
       "      <td>0</td>\n",
       "    </tr>\n",
       "    <tr>\n",
       "      <th>2999999</th>\n",
       "      <td>1.0</td>\n",
       "      <td>68636</td>\n",
       "      <td>132</td>\n",
       "      <td>25</td>\n",
       "      <td>512</td>\n",
       "      <td>0</td>\n",
       "      <td>0</td>\n",
       "      <td>0</td>\n",
       "      <td>0</td>\n",
       "      <td>0</td>\n",
       "      <td>...</td>\n",
       "      <td>0</td>\n",
       "      <td>0</td>\n",
       "      <td>0</td>\n",
       "      <td>-256</td>\n",
       "      <td>0</td>\n",
       "      <td>512</td>\n",
       "      <td>0</td>\n",
       "      <td>0</td>\n",
       "      <td>0</td>\n",
       "      <td>0</td>\n",
       "    </tr>\n",
       "  </tbody>\n",
       "</table>\n",
       "<p>3000000 rows × 467 columns</p>\n",
       "</div>"
      ],
      "text/plain": [
       "         winner  game_id  board_total  board_left  psq.cost.0  psq.cost.1  \\\n",
       "0           1.0    64808          144          84         256           0   \n",
       "1           0.0    88564          113          79           0           0   \n",
       "2           0.5    73859          141          52           0           0   \n",
       "3           0.5     1690          142          60        -256           0   \n",
       "4           0.0    15591          121          42           0           0   \n",
       "...         ...      ...          ...         ...         ...         ...   \n",
       "2999995     0.0    27657          143         112         256           0   \n",
       "2999996     1.0    11347          166         152           0           0   \n",
       "2999997     1.0    40768          146          84        -512           0   \n",
       "2999998     1.0    40032          118          15           0           0   \n",
       "2999999     1.0    68636          132          25         512           0   \n",
       "\n",
       "         psq.cost.2  psq.cost.3  psq.cost.4  psq.cost.5  ...  psq.king_end.63  \\\n",
       "0                 0        -256         256           0  ...              -96   \n",
       "1                 0           0           0           0  ...                0   \n",
       "2                 0           0           0           0  ...                0   \n",
       "3                 0           0           0           0  ...                0   \n",
       "4                 0           0           0           0  ...                0   \n",
       "...             ...         ...         ...         ...  ...              ...   \n",
       "2999995           0           0           0           0  ...                0   \n",
       "2999996           0           0           0           0  ...                0   \n",
       "2999997           0         256           0           0  ...                0   \n",
       "2999998           0           0           0           0  ...                0   \n",
       "2999999           0           0           0           0  ...                0   \n",
       "\n",
       "         queen_near_to_king  two_bishops  pawn_isolated  pawn_double  \\\n",
       "0                      -512            0            512            0   \n",
       "1                         0            0              0            0   \n",
       "2                         0            0              0            0   \n",
       "3                         0            0              0            0   \n",
       "4                         0            0           -512            0   \n",
       "...                     ...          ...            ...          ...   \n",
       "2999995                   0            0            256            0   \n",
       "2999996                   0            0              0            0   \n",
       "2999997                   0            0              0            0   \n",
       "2999998                   0            0              0            0   \n",
       "2999999                   0            0           -256            0   \n",
       "\n",
       "         pawn_passed  pawn_candidate  pawn_open  pawn_protected  pawn_backward  \n",
       "0                  0               0        256             256              0  \n",
       "1                  0               0          0               0              0  \n",
       "2                  0               0          0            -256              0  \n",
       "3               -256               0          0               0              0  \n",
       "4               -256               0        256             256              0  \n",
       "...              ...             ...        ...             ...            ...  \n",
       "2999995            0             256          0               0              0  \n",
       "2999996            0               0          0            -512              0  \n",
       "2999997         -256               0       -256               0              0  \n",
       "2999998            0               0          0               0              0  \n",
       "2999999          512               0          0               0              0  \n",
       "\n",
       "[3000000 rows x 467 columns]"
      ]
     },
     "execution_count": 3,
     "metadata": {},
     "output_type": "execute_result"
    }
   ],
   "source": [
    "data"
   ]
  },
  {
   "cell_type": "code",
   "execution_count": 4,
   "id": "pressed-circular",
   "metadata": {},
   "outputs": [],
   "source": [
    "dv = data.values"
   ]
  },
  {
   "cell_type": "markdown",
   "id": "concerned-approval",
   "metadata": {},
   "source": [
    "Делим выборку на обучающую и тестовую. Деление осуществляем по `game_id`, чтобы позиции из одной игры не оказались в разных выборках."
   ]
  },
  {
   "cell_type": "code",
   "execution_count": 5,
   "id": "spare-discussion",
   "metadata": {},
   "outputs": [],
   "source": [
    "games = np.array([i+1 for i in range(data['game_id'].max())])\n",
    "\n",
    "games_train, games_test = train_test_split(games, test_size=0.1, shuffle=True)"
   ]
  },
  {
   "cell_type": "code",
   "execution_count": 6,
   "id": "handed-lodge",
   "metadata": {},
   "outputs": [],
   "source": [
    "train_set = set(games_train)\n",
    "test_set = set(games_test)\n",
    "\n",
    "is_train = np.vectorize(lambda x: x in train_set)\n",
    "is_test = np.vectorize(lambda x: x in test_set)\n",
    "\n",
    "dv_train = dv[is_train(dv[:,1])]\n",
    "dv_test = dv[is_test(dv[:,1])]"
   ]
  },
  {
   "cell_type": "code",
   "execution_count": 7,
   "id": "biblical-asbestos",
   "metadata": {},
   "outputs": [],
   "source": [
    "del data\n",
    "del dv"
   ]
  },
  {
   "cell_type": "code",
   "execution_count": 8,
   "id": "unlikely-former",
   "metadata": {},
   "outputs": [],
   "source": [
    "X = dv_train[:,4:]\n",
    "y = dv_train[:,0]\n",
    "w = dv_train[:,3]\n",
    "\n",
    "X_test = dv_test[:,4:]\n",
    "y_test = dv_test[:,0]\n",
    "w_test = dv_test[:,3]\n",
    "\n",
    "del dv_train\n",
    "del dv_test"
   ]
  },
  {
   "cell_type": "markdown",
   "id": "illegal-presence",
   "metadata": {},
   "source": [
    "Ищем разброс значений (т.е. $\\max - \\min$) каждого из признаков. Это нам понадобится в дальнейшем для масштабирования:"
   ]
  },
  {
   "cell_type": "code",
   "execution_count": 9,
   "id": "restricted-collins",
   "metadata": {},
   "outputs": [
    {
     "data": {
      "text/plain": [
       "array([3584.,  256., 1024., 1024., 1280., 1536.,  256.,  256.,  256.,\n",
       "        256.,  256.,  256.,  256.,  256.,  512.,  512.,  512.,  512.,\n",
       "        512.,  512.,  512.,  512.,  512.,  512.,  512.,  512.,  512.,\n",
       "        512.,  512.,  512.,  512.,  512.,  512.,  512.,  512.,  512.,\n",
       "        512.,  512.,  512.,  512.,  512.,  512.,  512.,  512.,  512.,\n",
       "        512.,  512.,  512.,  512.,  512.,  512.,  512.,  512.,  512.,\n",
       "        512.,  512.,  512.,  512.,  512.,  512.,  512.,  512.,  256.,\n",
       "        256.,  256.,  256.,  256.,  256.,  256.,  256.,  299.,  341.,\n",
       "        299.,  288.,  288.,  267.,  256.,  277.,  331.,  298.,  277.,\n",
       "        288.,  341.,  330.,  320.,  288.,  288.,  362.,  309.,  320.,\n",
       "        330.,  277.,  352.,  342.,  352.,  342.,  406.,  298.,  341.,\n",
       "        373.,  384.,  331.,  384.,  395.,  427.,  427.,  426.,  416.,\n",
       "        426.,  426.,  437.,  501.,  470.,  490.,  480.,  470.,  470.,\n",
       "        501.,  491.,  512.,  512.,  512.,  512.,  512.,  512.,  512.,\n",
       "        512.,  512.,  512.,  490.,  512.,  512.,  512.,  512.,  512.,\n",
       "        512.,  512.,  512.,  512.,  512.,  512.,  512.,  512.,  512.,\n",
       "        512.,  512.,  512.,  512.,  512.,  512.,  512.,  512.,  512.,\n",
       "        512.,  512.,  512.,  512.,  512.,  512.,  512.,  512.,  512.,\n",
       "        512.,  512.,  512.,  512.,  512.,  512.,  512.,  512.,  512.,\n",
       "        512.,  512.,  512.,  512.,  512.,  512.,  512.,  512.,  512.,\n",
       "        512.,  512.,  512.,  512.,  512.,  512.,  512.,  512.,  512.,\n",
       "        512.,  512.,  512.,  512.,  512.,  512.,  512.,  512.,  512.,\n",
       "        512.,  512.,  512.,  512.,  512.,  512.,  512.,  512.,  512.,\n",
       "        512.,  512.,  512.,  512.,  512.,  512.,  512.,  512.,  512.,\n",
       "        512.,  512.,  512.,  512.,  512.,  512.,  512.,  512.,  512.,\n",
       "        512.,  512.,  512.,  512.,  512.,  512.,  512.,  512.,  512.,\n",
       "        512.,  512.,  512.,  512.,  512.,  512.,  512.,  512.,  512.,\n",
       "        512.,  512.,  512.,  512.,  512.,  512.,  512.,  512.,  512.,\n",
       "        512.,  512.,  512.,  512.,  512.,  512.,  512.,  512.,  512.,\n",
       "        512.,  512.,  512.,  512.,  512.,  512.,  512.,  512.,  512.,\n",
       "        512.,  512.,  512.,  512.,  512.,  512.,  512.,  512.,  512.,\n",
       "        512.,  512.,  512.,  512.,  512.,  512.,  512.,  512.,  512.,\n",
       "        512.,  512.,  512.,  512.,  512.,  512.,  512.,  512.,  512.,\n",
       "        512.,  512.,  512.,  512.,  512.,  512.,  512.,  512.,  512.,\n",
       "        512.,  512.,  512.,  512.,  512.,  512.,  512.,  512.,  512.,\n",
       "        512.,  512.,  512.,  512.,  512.,  512.,  512.,  512.,  512.,\n",
       "        512.,  512.,  512.,  512.,  512.,  512.,  512.,  512.,  512.,\n",
       "        512.,  512.,  512.,  512.,  512.,  512.,  512.,  512.,  512.,\n",
       "        512.,  512.,  512.,  512.,  512.,  512.,  512.,  512.,  512.,\n",
       "        512.,  512.,  512.,  512.,  512.,  512.,  512.,  512.,  512.,\n",
       "        512.,  512.,  512.,  512.,  512.,  512.,  512.,  512.,  512.,\n",
       "        512.,  512.,  512.,  512.,  512.,  512.,  512.,  512.,  512.,\n",
       "        512.,  512.,  512.,  512.,  512.,  512.,  512.,  512.,  512.,\n",
       "        512.,  512.,  512.,  512.,  512.,  512.,  512.,  512.,  512.,\n",
       "        512.,  512.,  512.,  512.,  512.,  512.,  512.,  512.,  512.,\n",
       "        512.,  512.,  512.,  512.,  512.,  512.,  512.,  512.,  512.,\n",
       "        512.,  512.,  512.,  512.,  512.,  512.,  512.,  512.,  512.,\n",
       "        512.,  512.,  512.,  512.,  512.,  512.,  512.,  512.,  512.,\n",
       "        512.,  512.,  512.,  512.,  512.,  512.,  512.,  512.,  512.,\n",
       "        512.,  512.,  512.,  512.,  512.,  512.,  512.,  512.,  512.,\n",
       "        512.,  512.,  512.,  512., 2304.,  512., 3584., 3072., 3584.,\n",
       "       1792., 2048., 2816., 2304.])"
      ]
     },
     "execution_count": 9,
     "metadata": {},
     "output_type": "execute_result"
    }
   ],
   "source": [
    "std = np.max(X, axis=0) - np.min(X, axis=0)\n",
    "std = np.maximum(np.min(std[std > 1e-9]), std)  # чтобы не допустить деления на ноль в дальнейшем\n",
    "std"
   ]
  },
  {
   "cell_type": "markdown",
   "id": "rough-shift",
   "metadata": {},
   "source": [
    "Масштабируем признаки:"
   ]
  },
  {
   "cell_type": "code",
   "execution_count": 10,
   "id": "played-conditions",
   "metadata": {},
   "outputs": [],
   "source": [
    "X /= std\n",
    "X_test /= std"
   ]
  },
  {
   "cell_type": "markdown",
   "id": "informed-services",
   "metadata": {},
   "source": [
    "Создаем нашу модель. Здесь используется модель, описанная [на Хабре](https://habr.com/ru/post/305604/), только мы не пишем градиентный спуск руками, а используем силу PyTorch"
   ]
  },
  {
   "cell_type": "code",
   "execution_count": 11,
   "id": "latter-apollo",
   "metadata": {},
   "outputs": [],
   "source": [
    "model = nn.Sequential()\n",
    "model.add_module('linear', nn.Linear(X.shape[1], 1, bias=False))\n",
    "model.add_module('sigmoid', nn.Sigmoid())"
   ]
  },
  {
   "cell_type": "code",
   "execution_count": 12,
   "id": "legal-attack",
   "metadata": {},
   "outputs": [],
   "source": [
    "opt = torch.optim.Adam(model.parameters(), lr=0.01)"
   ]
  },
  {
   "cell_type": "markdown",
   "id": "allied-lancaster",
   "metadata": {},
   "source": [
    "Определяем функцию потерь:"
   ]
  },
  {
   "cell_type": "code",
   "execution_count": 13,
   "id": "studied-tablet",
   "metadata": {},
   "outputs": [],
   "source": [
    "def get_loss(model, X, y, w, C=0.0):\n",
    "    w = np.exp(-w / 32.)\n",
    "    y_pred = model(X)[:, 0]\n",
    "    assert y_pred.dim() == 1\n",
    "    loss = torch.sum(w * ((y - y_pred) ** 2)) / torch.sum(w)\n",
    "    loss += C * torch.norm(model.linear.weight, 2)\n",
    "    return loss"
   ]
  },
  {
   "cell_type": "markdown",
   "id": "increased-dress",
   "metadata": {},
   "source": [
    "Обучаем, пока не сойдется функция потерь. Для этого может быть полезно запустить ячейку несколько раз. А может быть, ее стоит остановить раньше."
   ]
  },
  {
   "cell_type": "code",
   "execution_count": 14,
   "id": "narrative-poker",
   "metadata": {
    "scrolled": false
   },
   "outputs": [
    {
     "name": "stdout",
     "output_type": "stream",
     "text": [
      "step #0, train_loss = 0.1675, test_loss = 0.1616\n",
      "step #100, train_loss = 0.0936, test_loss = 0.0883\n",
      "step #200, train_loss = 0.0763, test_loss = 0.0746\n",
      "step #300, train_loss = 0.0693, test_loss = 0.0683\n",
      "step #400, train_loss = 0.0652, test_loss = 0.0647\n",
      "step #500, train_loss = 0.0631, test_loss = 0.0625\n",
      "step #600, train_loss = 0.0618, test_loss = 0.0609\n",
      "step #700, train_loss = 0.0606, test_loss = 0.0598\n",
      "step #800, train_loss = 0.0600, test_loss = 0.0591\n",
      "step #900, train_loss = 0.0588, test_loss = 0.0584\n",
      "step #1000, train_loss = 0.0586, test_loss = 0.0579\n",
      "step #1100, train_loss = 0.0578, test_loss = 0.0575\n",
      "step #1200, train_loss = 0.0579, test_loss = 0.0572\n",
      "step #1300, train_loss = 0.0576, test_loss = 0.0569\n",
      "step #1400, train_loss = 0.0574, test_loss = 0.0567\n",
      "step #1500, train_loss = 0.0566, test_loss = 0.0565\n",
      "step #1600, train_loss = 0.0571, test_loss = 0.0563\n",
      "step #1700, train_loss = 0.0568, test_loss = 0.0562\n",
      "step #1800, train_loss = 0.0566, test_loss = 0.0560\n",
      "step #1900, train_loss = 0.0561, test_loss = 0.0560\n",
      "step #2000, train_loss = 0.0563, test_loss = 0.0559\n",
      "step #2100, train_loss = 0.0563, test_loss = 0.0558\n",
      "step #2200, train_loss = 0.0563, test_loss = 0.0557\n",
      "step #2300, train_loss = 0.0563, test_loss = 0.0556\n",
      "step #2400, train_loss = 0.0559, test_loss = 0.0555\n",
      "step #2500, train_loss = 0.0560, test_loss = 0.0555\n",
      "step #2600, train_loss = 0.0559, test_loss = 0.0555\n",
      "step #2700, train_loss = 0.0561, test_loss = 0.0554\n",
      "step #2800, train_loss = 0.0557, test_loss = 0.0554\n",
      "step #2900, train_loss = 0.0559, test_loss = 0.0554\n",
      "step #3000, train_loss = 0.0555, test_loss = 0.0554\n",
      "step #3100, train_loss = 0.0555, test_loss = 0.0553\n",
      "step #3200, train_loss = 0.0557, test_loss = 0.0553\n",
      "step #3300, train_loss = 0.0557, test_loss = 0.0553\n",
      "step #3400, train_loss = 0.0558, test_loss = 0.0552\n",
      "step #3500, train_loss = 0.0554, test_loss = 0.0552\n",
      "step #3600, train_loss = 0.0559, test_loss = 0.0552\n",
      "step #3700, train_loss = 0.0556, test_loss = 0.0553\n",
      "step #3800, train_loss = 0.0555, test_loss = 0.0552\n",
      "step #3900, train_loss = 0.0557, test_loss = 0.0552\n",
      "step #4000, train_loss = 0.0556, test_loss = 0.0552\n",
      "step #4100, train_loss = 0.0555, test_loss = 0.0552\n",
      "step #4200, train_loss = 0.0558, test_loss = 0.0553\n",
      "step #4300, train_loss = 0.0559, test_loss = 0.0552\n",
      "step #4400, train_loss = 0.0552, test_loss = 0.0552\n",
      "step #4500, train_loss = 0.0559, test_loss = 0.0552\n",
      "step #4600, train_loss = 0.0556, test_loss = 0.0552\n",
      "step #4700, train_loss = 0.0559, test_loss = 0.0552\n",
      "step #4800, train_loss = 0.0554, test_loss = 0.0552\n",
      "step #4900, train_loss = 0.0554, test_loss = 0.0552\n",
      "step #5000, train_loss = 0.0556, test_loss = 0.0552\n",
      "step #5100, train_loss = 0.0555, test_loss = 0.0552\n",
      "step #5200, train_loss = 0.0551, test_loss = 0.0552\n",
      "step #5300, train_loss = 0.0556, test_loss = 0.0552\n",
      "step #5400, train_loss = 0.0556, test_loss = 0.0551\n",
      "step #5500, train_loss = 0.0559, test_loss = 0.0552\n",
      "step #5600, train_loss = 0.0556, test_loss = 0.0552\n",
      "step #5700, train_loss = 0.0556, test_loss = 0.0552\n",
      "step #5800, train_loss = 0.0553, test_loss = 0.0551\n",
      "step #5900, train_loss = 0.0556, test_loss = 0.0552\n"
     ]
    }
   ],
   "source": [
    "C = 4e-6\n",
    "\n",
    "history = []\n",
    "\n",
    "for i in range(6000):\n",
    "    # собираем батч\n",
    "    indices = np.random.randint(0, X.shape[0], 8000)\n",
    "    X_batch = torch.tensor(X[indices], dtype=torch.float32)\n",
    "    y_batch = torch.tensor(y[indices], dtype=torch.float32)\n",
    "    w_batch = torch.tensor(w[indices], dtype=torch.float32)\n",
    "    \n",
    "    # считаем функцию потерь\n",
    "    loss = get_loss(model, X_batch, y_batch, w_batch, C=C)\n",
    "\n",
    "    loss.backward()\n",
    "    \n",
    "    # надо раскомментить, если хочется менять только короля\n",
    "    # model.linear.weight.grad[0, 0:6+64] = 0\n",
    "    # model.linear.weight.grad[0, 6+64:6+384] = 0\n",
    "    # model.linear.weight.grad[0, 6+448:] = 0\n",
    "    \n",
    "    # оптимизируем\n",
    "    opt.step()\n",
    "    opt.zero_grad()\n",
    "\n",
    "    history.append(loss.data.numpy())\n",
    "\n",
    "    # выводим результаты\n",
    "    if i % 100 == 0:\n",
    "        test_loss = get_loss(model,\n",
    "            torch.tensor(X_test, dtype=torch.float32),\n",
    "            torch.tensor(y_test, dtype=torch.float32),\n",
    "            torch.tensor(w_test, dtype=torch.float32),\n",
    "            C=0.0).detach().numpy().sum()\n",
    "        train_loss = np.mean(history[-40:])\n",
    "        print(f\"step #{i}, train_loss = {train_loss:.4f}, test_loss = {test_loss:.4f}\")"
   ]
  },
  {
   "cell_type": "markdown",
   "id": "adopted-example",
   "metadata": {},
   "source": [
    "Смотрим на итоговое значение функции потерь на тестовом датасете:"
   ]
  },
  {
   "cell_type": "code",
   "execution_count": 15,
   "id": "permanent-asthma",
   "metadata": {},
   "outputs": [
    {
     "data": {
      "text/plain": [
       "0.055192202"
      ]
     },
     "execution_count": 15,
     "metadata": {},
     "output_type": "execute_result"
    }
   ],
   "source": [
    "test_loss = get_loss(model,\n",
    "                     torch.tensor(X_test, dtype=torch.float32),\n",
    "                     torch.tensor(y_test, dtype=torch.float32),\n",
    "                     torch.tensor(w_test, dtype=torch.float32)).detach().numpy().sum()\n",
    "test_loss"
   ]
  },
  {
   "cell_type": "markdown",
   "id": "lonely-computer",
   "metadata": {},
   "source": [
    "Ради интереса посмотрим на вероятности, которые предсказывает модель для каких-то $20$ соседних примеров тестовой выборки:"
   ]
  },
  {
   "cell_type": "code",
   "execution_count": 16,
   "id": "intermediate-dragon",
   "metadata": {},
   "outputs": [
    {
     "name": "stdout",
     "output_type": "stream",
     "text": [
      "tensor([0.5447, 0.0734, 0.4709, 0.8346, 0.4084, 0.5157, 0.9600, 0.6695, 0.4917,\n",
      "        0.9575, 0.6192, 0.6639, 0.0975, 0.9505, 0.7823, 0.5271, 0.5912, 0.1593,\n",
      "        0.4028, 0.6762], grad_fn=<SliceBackward>) [0.  0.  0.  0.5 0.5 0.5 1.  1.  0.5 1.  1.  0.5 0.  1.  0.  0.  0.  0.\n",
      " 0.5 1. ]\n"
     ]
    }
   ],
   "source": [
    "res = model(torch.tensor(X_test, dtype=torch.float32))[:, 0]\n",
    "\n",
    "print(res[450:470], y_test[450:470])"
   ]
  },
  {
   "cell_type": "markdown",
   "id": "imperial-power",
   "metadata": {},
   "source": [
    "Теперь было бы неплохо преобразовать веса модели в коэффициенты, которые мы будем использовать в шахматной программе. Для этого нормируем таблицы фигура-поле так, чтобы медианное значение занулилось. Затем умножим все веса на одно и то же число так, чтобы стоимость пешки была равна `100` (т. е. одной пешке)"
   ]
  },
  {
   "cell_type": "code",
   "execution_count": 17,
   "id": "sought-carol",
   "metadata": {},
   "outputs": [
    {
     "name": "stdout",
     "output_type": "stream",
     "text": [
      "[ 100    0  325  350  556 1028    0    0    0    0    0    0    0    0\n",
      "  161  189  190  154  150  145  172  137   93   88   68   62   42   64\n",
      "   68   78   26   23   -7   -3   18    5    1   10   -6   -7  -12   -8\n",
      "  -16    0  -12  -12   -7  -13  -17  -18  -13  -11   -5  -11   -6   -3\n",
      "  -11  -47  -17    0    8  -16    0    0    0    0    0    0    0    0\n",
      "  398  408  190  282  246  156  140 -276  140  -72   20 -354   -5  -46\n",
      "  -61 -276 -115  -98 -319 -332 -307  -49 -131 -219 -143  -44 -144 -200\n",
      "  -78 -119 -125 -183  -11   50  104   27  -12   27   -1 -131    6   33\n",
      "   35   69   15   41  -11  -39    3  -32  -18   -1   -2    0   47   77\n",
      " -161   40   30  -98    8  -88   76   47  -70  -19    4    3    0  -46\n",
      "  -22  -84  -37    0   10   44   37   35    8  -69   -3   13   37   28\n",
      "   49   41   45    5  -14   -8   41   56   49   51   47   19  -44   -4\n",
      "   16    9   30   30   27   22  -71  -24   -3   16   14   14   10  -14\n",
      "  -60  -16   -9   -6   -6    1  -24  -12 -130  -63  -34  -36  -33  -26\n",
      "   -7  -80  -15   12  -10   10   -1    2   14  -13  -37   -5   -2   23\n",
      "    8   12   -9  -58  -31  -17   19   14   38   43    8   50  -30   -3\n",
      "   11   37   23   17   12   -5  -13    4    9   21   14    9    6   34\n",
      "  -36   19    0   14    0    8   15   -5  -28  -31    6  -21   -7   -4\n",
      "    6  -28  -21   -3  -40  -21  -18  -26  -55   -9    4    7   24   17\n",
      "   23   30    6   13   25   34   28   34   50   49   43   23   23   18\n",
      "   17   19   -7   16    3    2   14   11   17    9   11   28   -2   -2\n",
      "    0    3   -3   -2   -5    0   -5  -19   -2  -13  -16  -16  -13  -13\n",
      "    9    0   -3  -10  -26  -20  -15  -12   -1  -14  -36  -22  -27  -18\n",
      "   -8  -31  -12  -26    6   31   35    4  -12  -34   39  -43  -47  -39\n",
      "   22   -7   -3  -22    4  -25  -51  -35   16    6   -6   21    0   16\n",
      "  -40   -4   18    2   14   -1    5   -5   -7    0    7   36   36   47\n",
      "   37   20  -20  -22    0   10   36   28   37   18   -7  -15    1    1\n",
      "   18    6   -1  -16  -26  -24    5   -1  -11  -80  -79  -59 -207 -129\n",
      "  -39  -31  -33   43   14  -74  -18   -9    1   21   44   64  115   71\n",
      "   29   57    4   57   70  101   98   51   -5   22   18   40   47   62\n",
      "   55   42  -42  -16  -13    0    7    4    3    6  -38  -24  -26  -15\n",
      "   -7  -12  -15  -14  -22    1  -14  -20  -13  -18  -18  -57    7  -32\n",
      "  -38  -29  -73  -14  -60  -79   55   37   -9   -8   31    0  -12    6\n",
      "   -2]\n"
     ]
    }
   ],
   "source": [
    "ws = (model.linear.weight[0]).detach().numpy() / std\n",
    "for p in [0, 2, 3, 4, 5]:\n",
    "    left = 6 + 64 * p\n",
    "    right = 6 + 64 * (p + 1)\n",
    "    if p == 0:\n",
    "        # верхний и нижний ряд у пешки не используется, не обращаем на него внимание\n",
    "        left += 8\n",
    "        right -= 8\n",
    "    m = np.median(ws[left:right])\n",
    "    ws[left:right] -= m\n",
    "    ws[p] += m\n",
    "\n",
    "ww = (ws / ws[0] * 100).astype(np.int32)\n",
    "print(ww)"
   ]
  },
  {
   "cell_type": "markdown",
   "id": "international-begin",
   "metadata": {},
   "source": [
    "Эти веса уже можно скопировать, вставить в утилиту `apply_weigths` и использовать в `SoFCheck`'е.\n",
    "\n",
    "Далее визуализируем полученные веса:"
   ]
  },
  {
   "cell_type": "code",
   "execution_count": 18,
   "id": "changed-reply",
   "metadata": {},
   "outputs": [],
   "source": [
    "def display_mat(mat):\n",
    "    plt.matshow(mat)\n",
    "    for (x, y), value in np.ndenumerate(mat):\n",
    "        plt.text(y, x, f\"{value}\", va=\"center\", ha=\"center\")"
   ]
  },
  {
   "cell_type": "markdown",
   "id": "adverse-phone",
   "metadata": {},
   "source": [
    "Стоимости фигур:"
   ]
  },
  {
   "cell_type": "code",
   "execution_count": 19,
   "id": "overall-carter",
   "metadata": {},
   "outputs": [
    {
     "data": {
      "text/plain": [
       "array([ 100,    0,  325,  350,  556, 1028], dtype=int32)"
      ]
     },
     "execution_count": 19,
     "metadata": {},
     "output_type": "execute_result"
    }
   ],
   "source": [
    "ww[:6]"
   ]
  },
  {
   "cell_type": "markdown",
   "id": "particular-burton",
   "metadata": {},
   "source": [
    "Таблицы фигура-поле для пешки:"
   ]
  },
  {
   "cell_type": "code",
   "execution_count": 20,
   "id": "plain-anthony",
   "metadata": {},
   "outputs": [
    {
     "data": {
      "image/png": "[encoded data removed]",
      "text/plain": [
       "<Figure size 288x288 with 1 Axes>"
      ]
     },
     "metadata": {
      "needs_background": "light"
     },
     "output_type": "display_data"
    }
   ],
   "source": [
    "display_mat(ww[6:6+64].reshape(8, 8))"
   ]
  },
  {
   "cell_type": "markdown",
   "id": "available-representative",
   "metadata": {},
   "source": [
    "Таблицы фигура-поле для короля в миттельшпиле:"
   ]
  },
  {
   "cell_type": "code",
   "execution_count": 21,
   "id": "federal-brave",
   "metadata": {},
   "outputs": [
    {
     "data": {
      "image/png": "[encoded data removed]",
      "text/plain": [
       "<Figure size 288x288 with 1 Axes>"
      ]
     },
     "metadata": {
      "needs_background": "light"
     },
     "output_type": "display_data"
    }
   ],
   "source": [
    "display_mat(ww[6+64:6+128].reshape(8, 8))"
   ]
  },
  {
   "cell_type": "markdown",
   "id": "constant-division",
   "metadata": {},
   "source": [
    "Таблицы фигура-поле для коня:"
   ]
  },
  {
   "cell_type": "code",
   "execution_count": 22,
   "id": "separate-safety",
   "metadata": {},
   "outputs": [
    {
     "data": {
      "image/png": "[encoded data removed]",
      "text/plain": [
       "<Figure size 288x288 with 1 Axes>"
      ]
     },
     "metadata": {
      "needs_background": "light"
     },
     "output_type": "display_data"
    }
   ],
   "source": [
    "display_mat(ww[6+128:6+192].reshape(8, 8))"
   ]
  },
  {
   "cell_type": "markdown",
   "id": "advised-charm",
   "metadata": {},
   "source": [
    "Таблицы фигура-поле для слона:"
   ]
  },
  {
   "cell_type": "code",
   "execution_count": 23,
   "id": "adaptive-salvation",
   "metadata": {},
   "outputs": [
    {
     "data": {
      "image/png": "[encoded data removed]",
      "text/plain": [
       "<Figure size 288x288 with 1 Axes>"
      ]
     },
     "metadata": {
      "needs_background": "light"
     },
     "output_type": "display_data"
    }
   ],
   "source": [
    "display_mat(ww[6+192:6+256].reshape(8, 8))"
   ]
  },
  {
   "cell_type": "markdown",
   "id": "advanced-joshua",
   "metadata": {},
   "source": [
    "Таблицы фигура-поле для ладьи:"
   ]
  },
  {
   "cell_type": "code",
   "execution_count": 24,
   "id": "recognized-pierre",
   "metadata": {},
   "outputs": [
    {
     "data": {
      "image/png": "[encoded data removed]",
      "text/plain": [
       "<Figure size 288x288 with 1 Axes>"
      ]
     },
     "metadata": {
      "needs_background": "light"
     },
     "output_type": "display_data"
    }
   ],
   "source": [
    "display_mat(ww[6+256:6+320].reshape(8, 8))"
   ]
  },
  {
   "cell_type": "markdown",
   "id": "apparent-burlington",
   "metadata": {},
   "source": [
    "Таблицы фигура-поле для ферзя:"
   ]
  },
  {
   "cell_type": "code",
   "execution_count": 25,
   "id": "leading-assist",
   "metadata": {},
   "outputs": [
    {
     "data": {
      "image/png": "[encoded data removed]",
      "text/plain": [
       "<Figure size 288x288 with 1 Axes>"
      ]
     },
     "metadata": {
      "needs_background": "light"
     },
     "output_type": "display_data"
    }
   ],
   "source": [
    "display_mat(ww[6+320:6+384].reshape(8, 8))"
   ]
  },
  {
   "cell_type": "markdown",
   "id": "corporate-august",
   "metadata": {},
   "source": [
    "Таблицы фигура-поле для короля в эндшпиле:"
   ]
  },
  {
   "cell_type": "code",
   "execution_count": 26,
   "id": "alien-contractor",
   "metadata": {},
   "outputs": [
    {
     "data": {
      "image/png": "[encoded data removed]",
      "text/plain": [
       "<Figure size 288x288 with 1 Axes>"
      ]
     },
     "metadata": {
      "needs_background": "light"
     },
     "output_type": "display_data"
    }
   ],
   "source": [
    "display_mat(ww[6+384:6+448].reshape(8, 8))"
   ]
  },
  {
   "cell_type": "markdown",
   "id": "through-freedom",
   "metadata": {},
   "source": [
    "Стоимость ферзя, близкого к вражескому королю, и стоимость двух слонов:"
   ]
  },
  {
   "cell_type": "code",
   "execution_count": 27,
   "id": "effective-decline",
   "metadata": {},
   "outputs": [
    {
     "data": {
      "text/plain": [
       "(55, 37)"
      ]
     },
     "execution_count": 27,
     "metadata": {},
     "output_type": "execute_result"
    }
   ],
   "source": [
    "ww[454], ww[455]"
   ]
  },
  {
   "cell_type": "markdown",
   "id": "greatest-following",
   "metadata": {},
   "source": [
    "Стоимость пешек: изолированная, двойная, проходная:"
   ]
  },
  {
   "cell_type": "code",
   "execution_count": 28,
   "id": "adolescent-breath",
   "metadata": {},
   "outputs": [
    {
     "data": {
      "text/plain": [
       "(-9, -8, 31)"
      ]
     },
     "execution_count": 28,
     "metadata": {},
     "output_type": "execute_result"
    }
   ],
   "source": [
    "ww[456], ww[457], ww[458]"
   ]
  }
 ],
 "metadata": {
  "kernelspec": {
   "display_name": "Python 3",
   "language": "python",
   "name": "python3"
  },
  "language_info": {
   "codemirror_mode": {
    "name": "ipython",
    "version": 3
   },
   "file_extension": ".py",
   "mimetype": "text/x-python",
   "name": "python",
   "nbconvert_exporter": "python",
   "pygments_lexer": "ipython3",
   "version": "3.8.10"
  }
 },
 "nbformat": 4,
 "nbformat_minor": 5
}
