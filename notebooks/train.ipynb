{
 "cells": [
  {
   "cell_type": "markdown",
   "id": "convenient-firmware",
   "metadata": {},
   "source": [
    "Импортируем библиотеки:"
   ]
  },
  {
   "cell_type": "code",
   "execution_count": 1,
   "id": "another-syracuse",
   "metadata": {},
   "outputs": [],
   "source": [
    "import numpy as np\n",
    "import pandas as pd\n",
    "import torch\n",
    "import matplotlib.pyplot as plt\n",
    "\n",
    "from sklearn.model_selection import cross_val_score, train_test_split\n",
    "from sklearn.linear_model import LogisticRegression\n",
    "from sklearn.preprocessing import StandardScaler, MinMaxScaler\n",
    "from torch import nn\n",
    "from sklearn.feature_selection import SelectKBest\n",
    "\n",
    "%matplotlib inline"
   ]
  },
  {
   "cell_type": "markdown",
   "id": "operational-holocaust",
   "metadata": {},
   "source": [
    "Загружаем данные из CSV. Данные преобразовываются в CSV с помощью утилиты `make_dataset`, которая собирается вместе с `SoFCheck`'ом"
   ]
  },
  {
   "cell_type": "code",
   "execution_count": 2,
   "id": "apart-handle",
   "metadata": {},
   "outputs": [],
   "source": [
    "data = pd.read_csv('dataset.csv')"
   ]
  },
  {
   "cell_type": "code",
   "execution_count": 3,
   "id": "convertible-accommodation",
   "metadata": {},
   "outputs": [
    {
     "data": {
      "text/html": [
       "<div>\n",
       "<style scoped>\n",
       "    .dataframe tbody tr th:only-of-type {\n",
       "        vertical-align: middle;\n",
       "    }\n",
       "\n",
       "    .dataframe tbody tr th {\n",
       "        vertical-align: top;\n",
       "    }\n",
       "\n",
       "    .dataframe thead th {\n",
       "        text-align: right;\n",
       "    }\n",
       "</style>\n",
       "<table border=\"1\" class=\"dataframe\">\n",
       "  <thead>\n",
       "    <tr style=\"text-align: right;\">\n",
       "      <th></th>\n",
       "      <th>winner</th>\n",
       "      <th>game_id</th>\n",
       "      <th>board_total</th>\n",
       "      <th>board_left</th>\n",
       "      <th>psq.cost.0</th>\n",
       "      <th>psq.cost.1</th>\n",
       "      <th>psq.cost.2</th>\n",
       "      <th>psq.cost.3</th>\n",
       "      <th>psq.cost.4</th>\n",
       "      <th>psq.cost.5</th>\n",
       "      <th>...</th>\n",
       "      <th>psq.king_end.59</th>\n",
       "      <th>psq.king_end.60</th>\n",
       "      <th>psq.king_end.61</th>\n",
       "      <th>psq.king_end.62</th>\n",
       "      <th>psq.king_end.63</th>\n",
       "      <th>queen_near_to_king</th>\n",
       "      <th>two_bishops</th>\n",
       "      <th>pawn_isolated</th>\n",
       "      <th>pawn_double</th>\n",
       "      <th>pawn_protected</th>\n",
       "    </tr>\n",
       "  </thead>\n",
       "  <tbody>\n",
       "    <tr>\n",
       "      <th>0</th>\n",
       "      <td>0.5</td>\n",
       "      <td>1818</td>\n",
       "      <td>125</td>\n",
       "      <td>111</td>\n",
       "      <td>0</td>\n",
       "      <td>0</td>\n",
       "      <td>0</td>\n",
       "      <td>0</td>\n",
       "      <td>0</td>\n",
       "      <td>0</td>\n",
       "      <td>...</td>\n",
       "      <td>0</td>\n",
       "      <td>0</td>\n",
       "      <td>0</td>\n",
       "      <td>0</td>\n",
       "      <td>0</td>\n",
       "      <td>0</td>\n",
       "      <td>0</td>\n",
       "      <td>0</td>\n",
       "      <td>0</td>\n",
       "      <td>0</td>\n",
       "    </tr>\n",
       "    <tr>\n",
       "      <th>1</th>\n",
       "      <td>0.0</td>\n",
       "      <td>44977</td>\n",
       "      <td>223</td>\n",
       "      <td>70</td>\n",
       "      <td>-256</td>\n",
       "      <td>0</td>\n",
       "      <td>-256</td>\n",
       "      <td>256</td>\n",
       "      <td>0</td>\n",
       "      <td>0</td>\n",
       "      <td>...</td>\n",
       "      <td>0</td>\n",
       "      <td>0</td>\n",
       "      <td>0</td>\n",
       "      <td>0</td>\n",
       "      <td>0</td>\n",
       "      <td>0</td>\n",
       "      <td>0</td>\n",
       "      <td>256</td>\n",
       "      <td>0</td>\n",
       "      <td>-256</td>\n",
       "    </tr>\n",
       "    <tr>\n",
       "      <th>2</th>\n",
       "      <td>0.5</td>\n",
       "      <td>18156</td>\n",
       "      <td>90</td>\n",
       "      <td>48</td>\n",
       "      <td>0</td>\n",
       "      <td>0</td>\n",
       "      <td>0</td>\n",
       "      <td>0</td>\n",
       "      <td>0</td>\n",
       "      <td>0</td>\n",
       "      <td>...</td>\n",
       "      <td>0</td>\n",
       "      <td>43</td>\n",
       "      <td>0</td>\n",
       "      <td>-43</td>\n",
       "      <td>0</td>\n",
       "      <td>0</td>\n",
       "      <td>0</td>\n",
       "      <td>-256</td>\n",
       "      <td>-256</td>\n",
       "      <td>256</td>\n",
       "    </tr>\n",
       "    <tr>\n",
       "      <th>3</th>\n",
       "      <td>0.5</td>\n",
       "      <td>46647</td>\n",
       "      <td>79</td>\n",
       "      <td>1</td>\n",
       "      <td>0</td>\n",
       "      <td>0</td>\n",
       "      <td>0</td>\n",
       "      <td>0</td>\n",
       "      <td>0</td>\n",
       "      <td>0</td>\n",
       "      <td>...</td>\n",
       "      <td>0</td>\n",
       "      <td>0</td>\n",
       "      <td>0</td>\n",
       "      <td>0</td>\n",
       "      <td>0</td>\n",
       "      <td>0</td>\n",
       "      <td>0</td>\n",
       "      <td>768</td>\n",
       "      <td>0</td>\n",
       "      <td>-256</td>\n",
       "    </tr>\n",
       "    <tr>\n",
       "      <th>4</th>\n",
       "      <td>1.0</td>\n",
       "      <td>97582</td>\n",
       "      <td>138</td>\n",
       "      <td>106</td>\n",
       "      <td>0</td>\n",
       "      <td>0</td>\n",
       "      <td>-256</td>\n",
       "      <td>256</td>\n",
       "      <td>0</td>\n",
       "      <td>0</td>\n",
       "      <td>...</td>\n",
       "      <td>0</td>\n",
       "      <td>0</td>\n",
       "      <td>0</td>\n",
       "      <td>0</td>\n",
       "      <td>0</td>\n",
       "      <td>0</td>\n",
       "      <td>0</td>\n",
       "      <td>0</td>\n",
       "      <td>256</td>\n",
       "      <td>256</td>\n",
       "    </tr>\n",
       "    <tr>\n",
       "      <th>...</th>\n",
       "      <td>...</td>\n",
       "      <td>...</td>\n",
       "      <td>...</td>\n",
       "      <td>...</td>\n",
       "      <td>...</td>\n",
       "      <td>...</td>\n",
       "      <td>...</td>\n",
       "      <td>...</td>\n",
       "      <td>...</td>\n",
       "      <td>...</td>\n",
       "      <td>...</td>\n",
       "      <td>...</td>\n",
       "      <td>...</td>\n",
       "      <td>...</td>\n",
       "      <td>...</td>\n",
       "      <td>...</td>\n",
       "      <td>...</td>\n",
       "      <td>...</td>\n",
       "      <td>...</td>\n",
       "      <td>...</td>\n",
       "      <td>...</td>\n",
       "    </tr>\n",
       "    <tr>\n",
       "      <th>2999995</th>\n",
       "      <td>0.5</td>\n",
       "      <td>88039</td>\n",
       "      <td>138</td>\n",
       "      <td>128</td>\n",
       "      <td>0</td>\n",
       "      <td>0</td>\n",
       "      <td>0</td>\n",
       "      <td>0</td>\n",
       "      <td>0</td>\n",
       "      <td>0</td>\n",
       "      <td>...</td>\n",
       "      <td>0</td>\n",
       "      <td>0</td>\n",
       "      <td>0</td>\n",
       "      <td>0</td>\n",
       "      <td>0</td>\n",
       "      <td>0</td>\n",
       "      <td>0</td>\n",
       "      <td>0</td>\n",
       "      <td>0</td>\n",
       "      <td>-512</td>\n",
       "    </tr>\n",
       "    <tr>\n",
       "      <th>2999996</th>\n",
       "      <td>1.0</td>\n",
       "      <td>68933</td>\n",
       "      <td>168</td>\n",
       "      <td>47</td>\n",
       "      <td>256</td>\n",
       "      <td>0</td>\n",
       "      <td>0</td>\n",
       "      <td>0</td>\n",
       "      <td>0</td>\n",
       "      <td>0</td>\n",
       "      <td>...</td>\n",
       "      <td>0</td>\n",
       "      <td>0</td>\n",
       "      <td>0</td>\n",
       "      <td>0</td>\n",
       "      <td>0</td>\n",
       "      <td>0</td>\n",
       "      <td>0</td>\n",
       "      <td>256</td>\n",
       "      <td>0</td>\n",
       "      <td>0</td>\n",
       "    </tr>\n",
       "    <tr>\n",
       "      <th>2999997</th>\n",
       "      <td>0.5</td>\n",
       "      <td>32197</td>\n",
       "      <td>143</td>\n",
       "      <td>42</td>\n",
       "      <td>256</td>\n",
       "      <td>0</td>\n",
       "      <td>0</td>\n",
       "      <td>0</td>\n",
       "      <td>0</td>\n",
       "      <td>0</td>\n",
       "      <td>...</td>\n",
       "      <td>0</td>\n",
       "      <td>0</td>\n",
       "      <td>0</td>\n",
       "      <td>0</td>\n",
       "      <td>0</td>\n",
       "      <td>0</td>\n",
       "      <td>0</td>\n",
       "      <td>256</td>\n",
       "      <td>0</td>\n",
       "      <td>0</td>\n",
       "    </tr>\n",
       "    <tr>\n",
       "      <th>2999998</th>\n",
       "      <td>0.5</td>\n",
       "      <td>50825</td>\n",
       "      <td>150</td>\n",
       "      <td>138</td>\n",
       "      <td>0</td>\n",
       "      <td>0</td>\n",
       "      <td>0</td>\n",
       "      <td>0</td>\n",
       "      <td>0</td>\n",
       "      <td>0</td>\n",
       "      <td>...</td>\n",
       "      <td>0</td>\n",
       "      <td>0</td>\n",
       "      <td>0</td>\n",
       "      <td>0</td>\n",
       "      <td>0</td>\n",
       "      <td>0</td>\n",
       "      <td>0</td>\n",
       "      <td>0</td>\n",
       "      <td>0</td>\n",
       "      <td>256</td>\n",
       "    </tr>\n",
       "    <tr>\n",
       "      <th>2999999</th>\n",
       "      <td>0.0</td>\n",
       "      <td>2834</td>\n",
       "      <td>101</td>\n",
       "      <td>74</td>\n",
       "      <td>0</td>\n",
       "      <td>0</td>\n",
       "      <td>0</td>\n",
       "      <td>0</td>\n",
       "      <td>0</td>\n",
       "      <td>0</td>\n",
       "      <td>...</td>\n",
       "      <td>0</td>\n",
       "      <td>0</td>\n",
       "      <td>0</td>\n",
       "      <td>0</td>\n",
       "      <td>0</td>\n",
       "      <td>0</td>\n",
       "      <td>0</td>\n",
       "      <td>-256</td>\n",
       "      <td>0</td>\n",
       "      <td>0</td>\n",
       "    </tr>\n",
       "  </tbody>\n",
       "</table>\n",
       "<p>3000000 rows × 463 columns</p>\n",
       "</div>"
      ],
      "text/plain": [
       "         winner  game_id  board_total  board_left  psq.cost.0  psq.cost.1  \\\n",
       "0           0.5     1818          125         111           0           0   \n",
       "1           0.0    44977          223          70        -256           0   \n",
       "2           0.5    18156           90          48           0           0   \n",
       "3           0.5    46647           79           1           0           0   \n",
       "4           1.0    97582          138         106           0           0   \n",
       "...         ...      ...          ...         ...         ...         ...   \n",
       "2999995     0.5    88039          138         128           0           0   \n",
       "2999996     1.0    68933          168          47         256           0   \n",
       "2999997     0.5    32197          143          42         256           0   \n",
       "2999998     0.5    50825          150         138           0           0   \n",
       "2999999     0.0     2834          101          74           0           0   \n",
       "\n",
       "         psq.cost.2  psq.cost.3  psq.cost.4  psq.cost.5  ...  psq.king_end.59  \\\n",
       "0                 0           0           0           0  ...                0   \n",
       "1              -256         256           0           0  ...                0   \n",
       "2                 0           0           0           0  ...                0   \n",
       "3                 0           0           0           0  ...                0   \n",
       "4              -256         256           0           0  ...                0   \n",
       "...             ...         ...         ...         ...  ...              ...   \n",
       "2999995           0           0           0           0  ...                0   \n",
       "2999996           0           0           0           0  ...                0   \n",
       "2999997           0           0           0           0  ...                0   \n",
       "2999998           0           0           0           0  ...                0   \n",
       "2999999           0           0           0           0  ...                0   \n",
       "\n",
       "         psq.king_end.60  psq.king_end.61  psq.king_end.62  psq.king_end.63  \\\n",
       "0                      0                0                0                0   \n",
       "1                      0                0                0                0   \n",
       "2                     43                0              -43                0   \n",
       "3                      0                0                0                0   \n",
       "4                      0                0                0                0   \n",
       "...                  ...              ...              ...              ...   \n",
       "2999995                0                0                0                0   \n",
       "2999996                0                0                0                0   \n",
       "2999997                0                0                0                0   \n",
       "2999998                0                0                0                0   \n",
       "2999999                0                0                0                0   \n",
       "\n",
       "         queen_near_to_king  two_bishops  pawn_isolated  pawn_double  \\\n",
       "0                         0            0              0            0   \n",
       "1                         0            0            256            0   \n",
       "2                         0            0           -256         -256   \n",
       "3                         0            0            768            0   \n",
       "4                         0            0              0          256   \n",
       "...                     ...          ...            ...          ...   \n",
       "2999995                   0            0              0            0   \n",
       "2999996                   0            0            256            0   \n",
       "2999997                   0            0            256            0   \n",
       "2999998                   0            0              0            0   \n",
       "2999999                   0            0           -256            0   \n",
       "\n",
       "         pawn_protected  \n",
       "0                     0  \n",
       "1                  -256  \n",
       "2                   256  \n",
       "3                  -256  \n",
       "4                   256  \n",
       "...                 ...  \n",
       "2999995            -512  \n",
       "2999996               0  \n",
       "2999997               0  \n",
       "2999998             256  \n",
       "2999999               0  \n",
       "\n",
       "[3000000 rows x 463 columns]"
      ]
     },
     "execution_count": 3,
     "metadata": {},
     "output_type": "execute_result"
    }
   ],
   "source": [
    "data"
   ]
  },
  {
   "cell_type": "code",
   "execution_count": 4,
   "id": "pressed-circular",
   "metadata": {},
   "outputs": [],
   "source": [
    "dv = data.values"
   ]
  },
  {
   "cell_type": "markdown",
   "id": "concerned-approval",
   "metadata": {},
   "source": [
    "Делим выборку на обучающую и тестовую. Деление осуществляем по `game_id`, чтобы позиции из одной игры не оказались в разных выборках."
   ]
  },
  {
   "cell_type": "code",
   "execution_count": 5,
   "id": "spare-discussion",
   "metadata": {},
   "outputs": [],
   "source": [
    "games = np.array([i+1 for i in range(data['game_id'].max())])\n",
    "\n",
    "games_train, games_test = train_test_split(games, test_size=0.1, shuffle=True)"
   ]
  },
  {
   "cell_type": "code",
   "execution_count": 6,
   "id": "handed-lodge",
   "metadata": {},
   "outputs": [],
   "source": [
    "train_set = set(games_train)\n",
    "test_set = set(games_test)\n",
    "\n",
    "is_train = np.vectorize(lambda x: x in train_set)\n",
    "is_test = np.vectorize(lambda x: x in test_set)\n",
    "\n",
    "dv_train = dv[is_train(dv[:,1])]\n",
    "dv_test = dv[is_test(dv[:,1])]"
   ]
  },
  {
   "cell_type": "code",
   "execution_count": 7,
   "id": "biblical-asbestos",
   "metadata": {},
   "outputs": [],
   "source": [
    "del data\n",
    "del dv"
   ]
  },
  {
   "cell_type": "code",
   "execution_count": 8,
   "id": "unlikely-former",
   "metadata": {},
   "outputs": [],
   "source": [
    "X = dv_train[:,4:]\n",
    "y = dv_train[:,0]\n",
    "w = dv_train[:,3]\n",
    "\n",
    "X_test = dv_test[:,4:]\n",
    "y_test = dv_test[:,0]\n",
    "w_test = dv_test[:,3]\n",
    "\n",
    "del dv_train\n",
    "del dv_test"
   ]
  },
  {
   "cell_type": "markdown",
   "id": "informed-services",
   "metadata": {},
   "source": [
    "Создаем нашу модель. Здесь используется модель, описанная [на Хабре](https://habr.com/ru/post/305604/), только мы не пишем градиентный спуск руками, а используем силу PyTorch"
   ]
  },
  {
   "cell_type": "code",
   "execution_count": 31,
   "id": "latter-apollo",
   "metadata": {},
   "outputs": [],
   "source": [
    "model = nn.Sequential()\n",
    "model.add_module('linear', nn.Linear(X.shape[1], 1, bias=False))\n",
    "model.add_module('sigmoid', nn.Sigmoid())"
   ]
  },
  {
   "cell_type": "code",
   "execution_count": 32,
   "id": "legal-attack",
   "metadata": {},
   "outputs": [],
   "source": [
    "opt = torch.optim.Adam(model.parameters(), lr=5e-5)"
   ]
  },
  {
   "cell_type": "markdown",
   "id": "allied-lancaster",
   "metadata": {},
   "source": [
    "Определяем функцию потерь:"
   ]
  },
  {
   "cell_type": "code",
   "execution_count": 33,
   "id": "studied-tablet",
   "metadata": {},
   "outputs": [],
   "source": [
    "def get_loss(model, X, y, w, C=0.0):\n",
    "    w = np.exp(-w / 32.)\n",
    "    y_pred = model(X)[:, 0]\n",
    "    assert y_pred.dim() == 1\n",
    "    loss = torch.sum(w * ((y - y_pred) ** 2)) / torch.sum(w)\n",
    "    loss += C * torch.norm(model.linear.weight, 1)\n",
    "    return loss"
   ]
  },
  {
   "cell_type": "markdown",
   "id": "increased-dress",
   "metadata": {},
   "source": [
    "Обучаем, пока не сойдется функция потерь. Для этого может быть полезно запустить ячейку несколько раз. А может быть, ее стоит остановить раньше."
   ]
  },
  {
   "cell_type": "code",
   "execution_count": 34,
   "id": "narrative-poker",
   "metadata": {
    "scrolled": false
   },
   "outputs": [
    {
     "name": "stdout",
     "output_type": "stream",
     "text": [
      "step #0, train_loss = 0.5440, test_loss = 0.5184\n",
      "step #100, train_loss = 0.5297, test_loss = 0.4741\n",
      "step #200, train_loss = 0.4754, test_loss = 0.4214\n",
      "step #300, train_loss = 0.4191, test_loss = 0.3664\n",
      "step #400, train_loss = 0.3662, test_loss = 0.3199\n",
      "step #500, train_loss = 0.3274, test_loss = 0.2832\n",
      "step #600, train_loss = 0.2962, test_loss = 0.2557\n",
      "step #700, train_loss = 0.2720, test_loss = 0.2343\n",
      "step #800, train_loss = 0.2516, test_loss = 0.2171\n",
      "step #900, train_loss = 0.2338, test_loss = 0.2028\n",
      "step #1000, train_loss = 0.2182, test_loss = 0.1906\n",
      "step #1100, train_loss = 0.2060, test_loss = 0.1800\n",
      "step #1200, train_loss = 0.1945, test_loss = 0.1707\n",
      "step #1300, train_loss = 0.1840, test_loss = 0.1620\n",
      "step #1400, train_loss = 0.1727, test_loss = 0.1531\n",
      "step #1500, train_loss = 0.1617, test_loss = 0.1437\n",
      "step #1600, train_loss = 0.1499, test_loss = 0.1328\n",
      "step #1700, train_loss = 0.1336, test_loss = 0.1166\n",
      "step #1800, train_loss = 0.1118, test_loss = 0.0964\n",
      "step #1900, train_loss = 0.0952, test_loss = 0.0819\n",
      "step #2000, train_loss = 0.0844, test_loss = 0.0744\n",
      "step #2100, train_loss = 0.0777, test_loss = 0.0687\n",
      "step #2200, train_loss = 0.0717, test_loss = 0.0641\n",
      "step #2300, train_loss = 0.0677, test_loss = 0.0609\n",
      "step #2400, train_loss = 0.0649, test_loss = 0.0591\n",
      "step #2500, train_loss = 0.0638, test_loss = 0.0585\n",
      "step #2600, train_loss = 0.0631, test_loss = 0.0581\n",
      "step #2700, train_loss = 0.0626, test_loss = 0.0575\n",
      "step #2800, train_loss = 0.0609, test_loss = 0.0568\n",
      "step #2900, train_loss = 0.0596, test_loss = 0.0563\n",
      "step #3000, train_loss = 0.0593, test_loss = 0.0561\n",
      "step #3100, train_loss = 0.0589, test_loss = 0.0561\n",
      "step #3200, train_loss = 0.0586, test_loss = 0.0562\n",
      "step #3300, train_loss = 0.0588, test_loss = 0.0562\n",
      "step #3400, train_loss = 0.0585, test_loss = 0.0562\n",
      "step #3500, train_loss = 0.0583, test_loss = 0.0561\n",
      "step #3600, train_loss = 0.0580, test_loss = 0.0561\n",
      "step #3700, train_loss = 0.0577, test_loss = 0.0561\n",
      "step #3800, train_loss = 0.0580, test_loss = 0.0561\n",
      "step #3900, train_loss = 0.0580, test_loss = 0.0562\n",
      "step #4000, train_loss = 0.0575, test_loss = 0.0561\n",
      "step #4100, train_loss = 0.0577, test_loss = 0.0560\n",
      "step #4200, train_loss = 0.0576, test_loss = 0.0561\n",
      "step #4300, train_loss = 0.0575, test_loss = 0.0561\n"
     ]
    },
    {
     "ename": "KeyboardInterrupt",
     "evalue": "",
     "output_type": "error",
     "traceback": [
      "\u001b[0;31m---------------------------------------------------------------------------\u001b[0m",
      "\u001b[0;31mKeyboardInterrupt\u001b[0m                         Traceback (most recent call last)",
      "\u001b[0;32m<ipython-input-34-8d092f28788f>\u001b[0m in \u001b[0;36m<module>\u001b[0;34m\u001b[0m\n\u001b[1;32m     11\u001b[0m \u001b[0;34m\u001b[0m\u001b[0m\n\u001b[1;32m     12\u001b[0m     \u001b[0;31m# считаем функцию потерь\u001b[0m\u001b[0;34m\u001b[0m\u001b[0;34m\u001b[0m\u001b[0;34m\u001b[0m\u001b[0m\n\u001b[0;32m---> 13\u001b[0;31m     \u001b[0mloss\u001b[0m \u001b[0;34m=\u001b[0m \u001b[0mget_loss\u001b[0m\u001b[0;34m(\u001b[0m\u001b[0mmodel\u001b[0m\u001b[0;34m,\u001b[0m \u001b[0mX_batch\u001b[0m\u001b[0;34m,\u001b[0m \u001b[0my_batch\u001b[0m\u001b[0;34m,\u001b[0m \u001b[0mw_batch\u001b[0m\u001b[0;34m,\u001b[0m \u001b[0mC\u001b[0m\u001b[0;34m=\u001b[0m\u001b[0mC\u001b[0m\u001b[0;34m)\u001b[0m\u001b[0;34m\u001b[0m\u001b[0;34m\u001b[0m\u001b[0m\n\u001b[0m\u001b[1;32m     14\u001b[0m \u001b[0;34m\u001b[0m\u001b[0m\n\u001b[1;32m     15\u001b[0m     \u001b[0mloss\u001b[0m\u001b[0;34m.\u001b[0m\u001b[0mbackward\u001b[0m\u001b[0;34m(\u001b[0m\u001b[0;34m)\u001b[0m\u001b[0;34m\u001b[0m\u001b[0;34m\u001b[0m\u001b[0m\n",
      "\u001b[0;32m<ipython-input-33-ef570ed50ea8>\u001b[0m in \u001b[0;36mget_loss\u001b[0;34m(model, X, y, w, C)\u001b[0m\n\u001b[1;32m      4\u001b[0m     \u001b[0;32massert\u001b[0m \u001b[0my_pred\u001b[0m\u001b[0;34m.\u001b[0m\u001b[0mdim\u001b[0m\u001b[0;34m(\u001b[0m\u001b[0;34m)\u001b[0m \u001b[0;34m==\u001b[0m \u001b[0;36m1\u001b[0m\u001b[0;34m\u001b[0m\u001b[0;34m\u001b[0m\u001b[0m\n\u001b[1;32m      5\u001b[0m     \u001b[0mloss\u001b[0m \u001b[0;34m=\u001b[0m \u001b[0mtorch\u001b[0m\u001b[0;34m.\u001b[0m\u001b[0msum\u001b[0m\u001b[0;34m(\u001b[0m\u001b[0mw\u001b[0m \u001b[0;34m*\u001b[0m \u001b[0;34m(\u001b[0m\u001b[0;34m(\u001b[0m\u001b[0my\u001b[0m \u001b[0;34m-\u001b[0m \u001b[0my_pred\u001b[0m\u001b[0;34m)\u001b[0m \u001b[0;34m**\u001b[0m \u001b[0;36m2\u001b[0m\u001b[0;34m)\u001b[0m\u001b[0;34m)\u001b[0m \u001b[0;34m/\u001b[0m \u001b[0mtorch\u001b[0m\u001b[0;34m.\u001b[0m\u001b[0msum\u001b[0m\u001b[0;34m(\u001b[0m\u001b[0mw\u001b[0m\u001b[0;34m)\u001b[0m\u001b[0;34m\u001b[0m\u001b[0;34m\u001b[0m\u001b[0m\n\u001b[0;32m----> 6\u001b[0;31m     \u001b[0mloss\u001b[0m \u001b[0;34m+=\u001b[0m \u001b[0mC\u001b[0m \u001b[0;34m*\u001b[0m \u001b[0mtorch\u001b[0m\u001b[0;34m.\u001b[0m\u001b[0mnorm\u001b[0m\u001b[0;34m(\u001b[0m\u001b[0mmodel\u001b[0m\u001b[0;34m.\u001b[0m\u001b[0mlinear\u001b[0m\u001b[0;34m.\u001b[0m\u001b[0mweight\u001b[0m\u001b[0;34m,\u001b[0m \u001b[0;36m1\u001b[0m\u001b[0;34m)\u001b[0m\u001b[0;34m\u001b[0m\u001b[0;34m\u001b[0m\u001b[0m\n\u001b[0m\u001b[1;32m      7\u001b[0m     \u001b[0;32mreturn\u001b[0m \u001b[0mloss\u001b[0m\u001b[0;34m\u001b[0m\u001b[0;34m\u001b[0m\u001b[0m\n",
      "\u001b[0;31mKeyboardInterrupt\u001b[0m: "
     ]
    }
   ],
   "source": [
    "C = 0.004\n",
    "\n",
    "history = []\n",
    "\n",
    "for i in range(6000):\n",
    "    # собираем батч\n",
    "    indices = np.random.randint(0, X.shape[0], 8000)\n",
    "    X_batch = torch.tensor(X[indices], dtype=torch.float32)\n",
    "    y_batch = torch.tensor(y[indices], dtype=torch.float32)\n",
    "    w_batch = torch.tensor(w[indices], dtype=torch.float32)\n",
    "    \n",
    "    # считаем функцию потерь\n",
    "    loss = get_loss(model, X_batch, y_batch, w_batch, C=C)\n",
    "\n",
    "    loss.backward()\n",
    "    \n",
    "    # надо раскомментить, если хочется менять только короля\n",
    "    # model.linear.weight.grad[0, 0:6+64] = 0\n",
    "    # model.linear.weight.grad[0, 6+64:6+384] = 0\n",
    "    # model.linear.weight.grad[0, 6+448:] = 0\n",
    "    \n",
    "    # оптимизируем\n",
    "    opt.step()\n",
    "    opt.zero_grad()\n",
    "\n",
    "    history.append(loss.data.numpy())\n",
    "\n",
    "    # выводим результаты\n",
    "    if i % 100 == 0:\n",
    "        test_loss = get_loss(model,\n",
    "            torch.tensor(X_test, dtype=torch.float32),\n",
    "            torch.tensor(y_test, dtype=torch.float32),\n",
    "            torch.tensor(w_test, dtype=torch.float32),\n",
    "            C=0.0).detach().numpy().sum()\n",
    "        train_loss = np.mean(history[-40:])\n",
    "        print(f\"step #{i}, train_loss = {train_loss:.4f}, test_loss = {test_loss:.4f}\")"
   ]
  },
  {
   "cell_type": "markdown",
   "id": "adopted-example",
   "metadata": {},
   "source": [
    "Смотрим на итоговое значение функции потерь на тестовом датасете:"
   ]
  },
  {
   "cell_type": "code",
   "execution_count": 35,
   "id": "permanent-asthma",
   "metadata": {},
   "outputs": [
    {
     "data": {
      "text/plain": [
       "0.056135513"
      ]
     },
     "execution_count": 35,
     "metadata": {},
     "output_type": "execute_result"
    }
   ],
   "source": [
    "test_loss = get_loss(model,\n",
    "                     torch.tensor(X_test, dtype=torch.float32),\n",
    "                     torch.tensor(y_test, dtype=torch.float32),\n",
    "                     torch.tensor(w_test, dtype=torch.float32)).detach().numpy().sum()\n",
    "test_loss"
   ]
  },
  {
   "cell_type": "markdown",
   "id": "lonely-computer",
   "metadata": {},
   "source": [
    "Ради интереса посмотрим на вероятности, которые предсказывает модель для каких-то $20$ соседних примеров тестовой выборки:"
   ]
  },
  {
   "cell_type": "code",
   "execution_count": 36,
   "id": "intermediate-dragon",
   "metadata": {},
   "outputs": [
    {
     "name": "stdout",
     "output_type": "stream",
     "text": [
      "tensor([0.6759, 0.9633, 0.5354, 0.5364, 0.5798, 0.4820, 0.9982, 0.5289, 0.2316,\n",
      "        0.5607, 0.2306, 0.4833, 0.4168, 0.5666, 0.1450, 0.5402, 0.9990, 0.2048,\n",
      "        0.9753, 0.6415], grad_fn=<SliceBackward>) [0.  1.  0.  0.  0.  0.  1.  0.  1.  1.  0.  0.5 0.5 1.  0.  0.  1.  0.\n",
      " 1.  1. ]\n"
     ]
    }
   ],
   "source": [
    "res = model(torch.tensor(X_test, dtype=torch.float32))[:, 0]\n",
    "\n",
    "print(res[450:470], y_test[450:470])"
   ]
  },
  {
   "cell_type": "markdown",
   "id": "imperial-power",
   "metadata": {},
   "source": [
    "Теперь было бы неплохо преобразовать веса модели в коэффициенты, которые мы будем использовать в шахматной программе. Для этого нормируем таблицы фигура-поле так, чтобы медианное значение занулилось. Затем умножим все веса на одно и то же число так, чтобы стоимость пешки была равна `100` (т. е. одной пешке)"
   ]
  },
  {
   "cell_type": "code",
   "execution_count": 39,
   "id": "sought-carol",
   "metadata": {},
   "outputs": [
    {
     "name": "stdout",
     "output_type": "stream",
     "text": [
      "[100   0 275 296 478 873   0   0   0   0   0   0   0   0 139 153 158 116\n",
      " 140 132 152 104  72  76  62  58  46  56  79  61  18  14   0  -2  14  -6\n",
      "   5   7  -6   0  -8 -12 -16  -9  -8 -13 -11 -12 -19 -20 -12 -13   0 -11\n",
      " -17  -2 -11 -44 -12   0  11 -17   0   0   0   0   0   0   0   0   0   0\n",
      "   0   0  -1   0   0   0   1   1   0   0  -1   1   0   0   0   3  -1   0\n",
      "   0   1   0  -1   0   1  -2  -2   0   1   0   1   1   1   0  -2   0   2\n",
      "   3  -1   2   0   0  -1   1  11 -17  -6  -1 -10  -1   2  -3   2   8  43\n",
      " -31  25  -3 -32 -14 -64  46  29   1   0   5   0 -10   3   1   0  -7  -1\n",
      "   6  -4  23   9  -2 -23  -9  -4  33  26  41  33  17   0  -8   1  21  48\n",
      "  42  47  32  19 -22  -7  16  15  28  23  11  21 -43 -27   0   4  24  16\n",
      "   6   0 -46  -9  -2   0 -11 -10  -6   0 -69 -63 -24 -18  -9 -11   0 -49\n",
      "   0   2  -6   0  -8   2  -2   1 -32  -1   3   2  -7   3   1  -7 -17  -8\n",
      "   0   9  13  23   0  31   1  -3  23  11   7  10  10   1  -1  -3   3  18\n",
      "  12  -1   2  12  -9  11   6  14  -2   9   0  -6  -5 -18   2 -16  -9 -10\n",
      "  15  -6   0  -3 -38  -8  -7 -15  -8  -7  -5   4   4  14  10  11   0   0\n",
      "  13  26  17  29  14  30  25   5  13  13   3   8  -5  13  -1   0   0  12\n",
      "  14   3  10  15   2   1  -3   2   0  -3  -2  -5  -1 -16   5  -9 -19  -9\n",
      " -14 -18  -3 -14 -10   2 -22 -13 -17 -18 -11 -16 -30 -18 -21 -16 -15 -31\n",
      "  -5 -29   7   0  -2  14 -25  -3  -2   0 -19 -15   3   0  -5  -2  -1 -13\n",
      " -15 -20  18   9   0   5  -6   5 -26 -14  13   2   5 -12   9   0 -12   0\n",
      "   5  20  21  28  29  13 -30 -15  -6  16  25  24  37   8  -4   0   5   7\n",
      "  20  11 -16  -3  -1   4   2  -3  -7 -22 -28  -2 -24  -4   0   2   7   7\n",
      "   0 -29  -1 -23   8   6  34  49  89  14  14  32 -16  37  30  88  75  19\n",
      "   1  27   6  12  33  41  55   9 -15  -2   3   3   5  15  10   0 -19 -10\n",
      "  -9   0   2   0 -10  -3 -10   2   0  -6  -5  -4   3 -41   1 -19 -32 -33\n",
      " -57 -11 -32 -48  40  38   0 -24   1]\n"
     ]
    }
   ],
   "source": [
    "ws = (model.linear.weight[0]).detach().numpy()\n",
    "for p in [0, 2, 3, 4, 5]:\n",
    "    left = 6 + 64 * p\n",
    "    right = 6 + 64 * (p + 1)\n",
    "    if p == 0:\n",
    "        # верхний и нижний ряд у пешки не используется, не обращаем на него внимание\n",
    "        left += 8\n",
    "        right -= 8\n",
    "    m = np.median(ws[left:right])\n",
    "    ws[left:right] -= m\n",
    "    ws[p] += m\n",
    "\n",
    "ww = (ws / ws[0] * 100).astype(np.int32)\n",
    "print(ww)"
   ]
  },
  {
   "cell_type": "markdown",
   "id": "international-begin",
   "metadata": {},
   "source": [
    "Эти веса уже можно скопировать, вставить в утилиту `apply_weigths` и использовать в `SoFCheck`'е.\n",
    "\n",
    "Далее визуализируем полученные веса:"
   ]
  },
  {
   "cell_type": "code",
   "execution_count": 40,
   "id": "changed-reply",
   "metadata": {},
   "outputs": [],
   "source": [
    "def display_mat(mat):\n",
    "    plt.matshow(mat)\n",
    "    for (x, y), value in np.ndenumerate(mat):\n",
    "        plt.text(y, x, f\"{value}\", va=\"center\", ha=\"center\")"
   ]
  },
  {
   "cell_type": "markdown",
   "id": "adverse-phone",
   "metadata": {},
   "source": [
    "Стоимости фигур:"
   ]
  },
  {
   "cell_type": "code",
   "execution_count": 41,
   "id": "overall-carter",
   "metadata": {},
   "outputs": [
    {
     "data": {
      "text/plain": [
       "array([100,   0, 275, 296, 478, 873], dtype=int32)"
      ]
     },
     "execution_count": 41,
     "metadata": {},
     "output_type": "execute_result"
    }
   ],
   "source": [
    "ww[:6]"
   ]
  },
  {
   "cell_type": "markdown",
   "id": "particular-burton",
   "metadata": {},
   "source": [
    "Таблицы фигура-поле для пешки:"
   ]
  },
  {
   "cell_type": "code",
   "execution_count": 42,
   "id": "plain-anthony",
   "metadata": {},
   "outputs": [
    {
     "data": {
      "image/png": "[encoded data removed]",
      "text/plain": [
       "<Figure size 288x288 with 1 Axes>"
      ]
     },
     "metadata": {
      "needs_background": "light"
     },
     "output_type": "display_data"
    }
   ],
   "source": [
    "display_mat(ww[6:6+64].reshape(8, 8))"
   ]
  },
  {
   "cell_type": "markdown",
   "id": "available-representative",
   "metadata": {},
   "source": [
    "Таблицы фигура-поле для короля в миттельшпиле:"
   ]
  },
  {
   "cell_type": "code",
   "execution_count": 43,
   "id": "federal-brave",
   "metadata": {},
   "outputs": [
    {
     "data": {
      "image/png": "[encoded data removed]",
      "text/plain": [
       "<Figure size 288x288 with 1 Axes>"
      ]
     },
     "metadata": {
      "needs_background": "light"
     },
     "output_type": "display_data"
    }
   ],
   "source": [
    "display_mat(ww[6+64:6+128].reshape(8, 8))"
   ]
  },
  {
   "cell_type": "markdown",
   "id": "constant-division",
   "metadata": {},
   "source": [
    "Таблицы фигура-поле для коня:"
   ]
  },
  {
   "cell_type": "code",
   "execution_count": 44,
   "id": "separate-safety",
   "metadata": {},
   "outputs": [
    {
     "data": {
      "image/png": "[encoded data removed]",
      "text/plain": [
       "<Figure size 288x288 with 1 Axes>"
      ]
     },
     "metadata": {
      "needs_background": "light"
     },
     "output_type": "display_data"
    }
   ],
   "source": [
    "display_mat(ww[6+128:6+192].reshape(8, 8))"
   ]
  },
  {
   "cell_type": "markdown",
   "id": "advised-charm",
   "metadata": {},
   "source": [
    "Таблицы фигура-поле для слона:"
   ]
  },
  {
   "cell_type": "code",
   "execution_count": 45,
   "id": "adaptive-salvation",
   "metadata": {},
   "outputs": [
    {
     "data": {
      "image/png": "[encoded data removed]",
      "text/plain": [
       "<Figure size 288x288 with 1 Axes>"
      ]
     },
     "metadata": {
      "needs_background": "light"
     },
     "output_type": "display_data"
    }
   ],
   "source": [
    "display_mat(ww[6+192:6+256].reshape(8, 8))"
   ]
  },
  {
   "cell_type": "markdown",
   "id": "advanced-joshua",
   "metadata": {},
   "source": [
    "Таблицы фигура-поле для ладьи:"
   ]
  },
  {
   "cell_type": "code",
   "execution_count": 50,
   "id": "recognized-pierre",
   "metadata": {},
   "outputs": [
    {
     "data": {
      "image/png": "[encoded data removed]",
      "text/plain": [
       "<Figure size 288x288 with 1 Axes>"
      ]
     },
     "metadata": {
      "needs_background": "light"
     },
     "output_type": "display_data"
    }
   ],
   "source": [
    "display_mat(ww[6+256:6+320].reshape(8, 8))"
   ]
  },
  {
   "cell_type": "markdown",
   "id": "apparent-burlington",
   "metadata": {},
   "source": [
    "Таблицы фигура-поле для ферзя:"
   ]
  },
  {
   "cell_type": "code",
   "execution_count": 51,
   "id": "leading-assist",
   "metadata": {},
   "outputs": [
    {
     "data": {
      "image/png": "[encoded data removed]",
      "text/plain": [
       "<Figure size 288x288 with 1 Axes>"
      ]
     },
     "metadata": {
      "needs_background": "light"
     },
     "output_type": "display_data"
    }
   ],
   "source": [
    "display_mat(ww[6+320:6+384].reshape(8, 8))"
   ]
  },
  {
   "cell_type": "markdown",
   "id": "corporate-august",
   "metadata": {},
   "source": [
    "Таблицы фигура-поле для короля в эндшпиле:"
   ]
  },
  {
   "cell_type": "code",
   "execution_count": 52,
   "id": "alien-contractor",
   "metadata": {},
   "outputs": [
    {
     "data": {
      "image/png": "[encoded data removed]",
      "text/plain": [
       "<Figure size 288x288 with 1 Axes>"
      ]
     },
     "metadata": {
      "needs_background": "light"
     },
     "output_type": "display_data"
    }
   ],
   "source": [
    "display_mat(ww[6+384:6+448].reshape(8, 8))"
   ]
  },
  {
   "cell_type": "markdown",
   "id": "through-freedom",
   "metadata": {},
   "source": [
    "Стоимость ферзя, близкого к вражескому королю, и стоимость двух слонов:"
   ]
  },
  {
   "cell_type": "code",
   "execution_count": 53,
   "id": "effective-decline",
   "metadata": {},
   "outputs": [
    {
     "data": {
      "text/plain": [
       "(40, 38)"
      ]
     },
     "execution_count": 53,
     "metadata": {},
     "output_type": "execute_result"
    }
   ],
   "source": [
    "ww[454], ww[455]"
   ]
  },
  {
   "cell_type": "markdown",
   "id": "greatest-following",
   "metadata": {},
   "source": [
    "Стоимость пешек: изолированная, двойная, защищенная:"
   ]
  },
  {
   "cell_type": "code",
   "execution_count": 54,
   "id": "adolescent-breath",
   "metadata": {},
   "outputs": [
    {
     "data": {
      "text/plain": [
       "(0, -24, 1)"
      ]
     },
     "execution_count": 54,
     "metadata": {},
     "output_type": "execute_result"
    }
   ],
   "source": [
    "ww[456], ww[457], ww[458]"
   ]
  }
 ],
 "metadata": {
  "kernelspec": {
   "display_name": "Python 3",
   "language": "python",
   "name": "python3"
  },
  "language_info": {
   "codemirror_mode": {
    "name": "ipython",
    "version": 3
   },
   "file_extension": ".py",
   "mimetype": "text/x-python",
   "name": "python",
   "nbconvert_exporter": "python",
   "pygments_lexer": "ipython3",
   "version": "3.8.10"
  }
 },
 "nbformat": 4,
 "nbformat_minor": 5
}
